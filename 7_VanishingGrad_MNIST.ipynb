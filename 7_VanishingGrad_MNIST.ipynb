{
  "nbformat": 4,
  "nbformat_minor": 0,
  "metadata": {
    "colab": {
      "name": "7_VanishingGrad_MNIST.ipynb",
      "provenance": [],
      "collapsed_sections": []
    },
    "kernelspec": {
      "name": "python3",
      "display_name": "Python 3"
    }
  },
  "cells": [
    {
      "cell_type": "markdown",
      "metadata": {
        "id": "tbuSrUKDbMM4",
        "colab_type": "text"
      },
      "source": [
        "# Load Tensorflow"
      ]
    },
    {
      "cell_type": "code",
      "metadata": {
        "id": "_p1ghSekbSWg",
        "colab_type": "code",
        "colab": {}
      },
      "source": [
        "import tensorflow as tf\n",
        "#tf.set_random_seed(42)\n",
        "tf.random.set_seed(55)"
      ],
      "execution_count": 0,
      "outputs": []
    },
    {
      "cell_type": "markdown",
      "metadata": {
        "id": "L9XDv88RbbAf",
        "colab_type": "text"
      },
      "source": [
        "# Collect Data"
      ]
    },
    {
      "cell_type": "code",
      "metadata": {
        "id": "xxYHTOXxbddB",
        "colab_type": "code",
        "colab": {}
      },
      "source": [
        "#MNIST Data\n",
        "(trainX, trainY), (testX,testY)= tf.keras.datasets.mnist.load_data()"
      ],
      "execution_count": 0,
      "outputs": []
    },
    {
      "cell_type": "code",
      "metadata": {
        "id": "YgFMssbJbuq4",
        "colab_type": "code",
        "outputId": "60e45893-f434-4c8c-f419-037d3b7df668",
        "colab": {
          "base_uri": "https://localhost:8080/",
          "height": 34
        }
      },
      "source": [
        "trainX.shape"
      ],
      "execution_count": 3,
      "outputs": [
        {
          "output_type": "execute_result",
          "data": {
            "text/plain": [
              "(60000, 28, 28)"
            ]
          },
          "metadata": {
            "tags": []
          },
          "execution_count": 3
        }
      ]
    },
    {
      "cell_type": "code",
      "metadata": {
        "id": "1wVKplnLdtIE",
        "colab_type": "code",
        "outputId": "83f17632-eb3f-449e-b64c-055a5b2cd4fa",
        "colab": {
          "base_uri": "https://localhost:8080/",
          "height": 34
        }
      },
      "source": [
        "testX.shape"
      ],
      "execution_count": 4,
      "outputs": [
        {
          "output_type": "execute_result",
          "data": {
            "text/plain": [
              "(10000, 28, 28)"
            ]
          },
          "metadata": {
            "tags": []
          },
          "execution_count": 4
        }
      ]
    },
    {
      "cell_type": "code",
      "metadata": {
        "id": "hfpSd4X8d2AJ",
        "colab_type": "code",
        "outputId": "93d8bfa8-1225-4d57-a2e5-7c7a6cf68faf",
        "colab": {
          "base_uri": "https://localhost:8080/",
          "height": 34
        }
      },
      "source": [
        "#Number of labels\n",
        "trainY.shape"
      ],
      "execution_count": 5,
      "outputs": [
        {
          "output_type": "execute_result",
          "data": {
            "text/plain": [
              "(60000,)"
            ]
          },
          "metadata": {
            "tags": []
          },
          "execution_count": 5
        }
      ]
    },
    {
      "cell_type": "code",
      "metadata": {
        "id": "RB7nHQP7d7lh",
        "colab_type": "code",
        "outputId": "6460b1ab-2940-4975-8d25-d3a646fb36d1",
        "colab": {
          "base_uri": "https://localhost:8080/",
          "height": 34
        }
      },
      "source": [
        "testY.shape"
      ],
      "execution_count": 6,
      "outputs": [
        {
          "output_type": "execute_result",
          "data": {
            "text/plain": [
              "(10000,)"
            ]
          },
          "metadata": {
            "tags": []
          },
          "execution_count": 6
        }
      ]
    },
    {
      "cell_type": "code",
      "metadata": {
        "id": "RsbCWvJMbwvA",
        "colab_type": "code",
        "outputId": "51443390-70e9-42a5-d5dc-5d6744a4e1ee",
        "colab": {
          "base_uri": "https://localhost:8080/",
          "height": 1000
        }
      },
      "source": [
        "trainX[0]"
      ],
      "execution_count": 7,
      "outputs": [
        {
          "output_type": "execute_result",
          "data": {
            "text/plain": [
              "array([[  0,   0,   0,   0,   0,   0,   0,   0,   0,   0,   0,   0,   0,\n",
              "          0,   0,   0,   0,   0,   0,   0,   0,   0,   0,   0,   0,   0,\n",
              "          0,   0],\n",
              "       [  0,   0,   0,   0,   0,   0,   0,   0,   0,   0,   0,   0,   0,\n",
              "          0,   0,   0,   0,   0,   0,   0,   0,   0,   0,   0,   0,   0,\n",
              "          0,   0],\n",
              "       [  0,   0,   0,   0,   0,   0,   0,   0,   0,   0,   0,   0,   0,\n",
              "          0,   0,   0,   0,   0,   0,   0,   0,   0,   0,   0,   0,   0,\n",
              "          0,   0],\n",
              "       [  0,   0,   0,   0,   0,   0,   0,   0,   0,   0,   0,   0,   0,\n",
              "          0,   0,   0,   0,   0,   0,   0,   0,   0,   0,   0,   0,   0,\n",
              "          0,   0],\n",
              "       [  0,   0,   0,   0,   0,   0,   0,   0,   0,   0,   0,   0,   0,\n",
              "          0,   0,   0,   0,   0,   0,   0,   0,   0,   0,   0,   0,   0,\n",
              "          0,   0],\n",
              "       [  0,   0,   0,   0,   0,   0,   0,   0,   0,   0,   0,   0,   3,\n",
              "         18,  18,  18, 126, 136, 175,  26, 166, 255, 247, 127,   0,   0,\n",
              "          0,   0],\n",
              "       [  0,   0,   0,   0,   0,   0,   0,   0,  30,  36,  94, 154, 170,\n",
              "        253, 253, 253, 253, 253, 225, 172, 253, 242, 195,  64,   0,   0,\n",
              "          0,   0],\n",
              "       [  0,   0,   0,   0,   0,   0,   0,  49, 238, 253, 253, 253, 253,\n",
              "        253, 253, 253, 253, 251,  93,  82,  82,  56,  39,   0,   0,   0,\n",
              "          0,   0],\n",
              "       [  0,   0,   0,   0,   0,   0,   0,  18, 219, 253, 253, 253, 253,\n",
              "        253, 198, 182, 247, 241,   0,   0,   0,   0,   0,   0,   0,   0,\n",
              "          0,   0],\n",
              "       [  0,   0,   0,   0,   0,   0,   0,   0,  80, 156, 107, 253, 253,\n",
              "        205,  11,   0,  43, 154,   0,   0,   0,   0,   0,   0,   0,   0,\n",
              "          0,   0],\n",
              "       [  0,   0,   0,   0,   0,   0,   0,   0,   0,  14,   1, 154, 253,\n",
              "         90,   0,   0,   0,   0,   0,   0,   0,   0,   0,   0,   0,   0,\n",
              "          0,   0],\n",
              "       [  0,   0,   0,   0,   0,   0,   0,   0,   0,   0,   0, 139, 253,\n",
              "        190,   2,   0,   0,   0,   0,   0,   0,   0,   0,   0,   0,   0,\n",
              "          0,   0],\n",
              "       [  0,   0,   0,   0,   0,   0,   0,   0,   0,   0,   0,  11, 190,\n",
              "        253,  70,   0,   0,   0,   0,   0,   0,   0,   0,   0,   0,   0,\n",
              "          0,   0],\n",
              "       [  0,   0,   0,   0,   0,   0,   0,   0,   0,   0,   0,   0,  35,\n",
              "        241, 225, 160, 108,   1,   0,   0,   0,   0,   0,   0,   0,   0,\n",
              "          0,   0],\n",
              "       [  0,   0,   0,   0,   0,   0,   0,   0,   0,   0,   0,   0,   0,\n",
              "         81, 240, 253, 253, 119,  25,   0,   0,   0,   0,   0,   0,   0,\n",
              "          0,   0],\n",
              "       [  0,   0,   0,   0,   0,   0,   0,   0,   0,   0,   0,   0,   0,\n",
              "          0,  45, 186, 253, 253, 150,  27,   0,   0,   0,   0,   0,   0,\n",
              "          0,   0],\n",
              "       [  0,   0,   0,   0,   0,   0,   0,   0,   0,   0,   0,   0,   0,\n",
              "          0,   0,  16,  93, 252, 253, 187,   0,   0,   0,   0,   0,   0,\n",
              "          0,   0],\n",
              "       [  0,   0,   0,   0,   0,   0,   0,   0,   0,   0,   0,   0,   0,\n",
              "          0,   0,   0,   0, 249, 253, 249,  64,   0,   0,   0,   0,   0,\n",
              "          0,   0],\n",
              "       [  0,   0,   0,   0,   0,   0,   0,   0,   0,   0,   0,   0,   0,\n",
              "          0,  46, 130, 183, 253, 253, 207,   2,   0,   0,   0,   0,   0,\n",
              "          0,   0],\n",
              "       [  0,   0,   0,   0,   0,   0,   0,   0,   0,   0,   0,   0,  39,\n",
              "        148, 229, 253, 253, 253, 250, 182,   0,   0,   0,   0,   0,   0,\n",
              "          0,   0],\n",
              "       [  0,   0,   0,   0,   0,   0,   0,   0,   0,   0,  24, 114, 221,\n",
              "        253, 253, 253, 253, 201,  78,   0,   0,   0,   0,   0,   0,   0,\n",
              "          0,   0],\n",
              "       [  0,   0,   0,   0,   0,   0,   0,   0,  23,  66, 213, 253, 253,\n",
              "        253, 253, 198,  81,   2,   0,   0,   0,   0,   0,   0,   0,   0,\n",
              "          0,   0],\n",
              "       [  0,   0,   0,   0,   0,   0,  18, 171, 219, 253, 253, 253, 253,\n",
              "        195,  80,   9,   0,   0,   0,   0,   0,   0,   0,   0,   0,   0,\n",
              "          0,   0],\n",
              "       [  0,   0,   0,   0,  55, 172, 226, 253, 253, 253, 253, 244, 133,\n",
              "         11,   0,   0,   0,   0,   0,   0,   0,   0,   0,   0,   0,   0,\n",
              "          0,   0],\n",
              "       [  0,   0,   0,   0, 136, 253, 253, 253, 212, 135, 132,  16,   0,\n",
              "          0,   0,   0,   0,   0,   0,   0,   0,   0,   0,   0,   0,   0,\n",
              "          0,   0],\n",
              "       [  0,   0,   0,   0,   0,   0,   0,   0,   0,   0,   0,   0,   0,\n",
              "          0,   0,   0,   0,   0,   0,   0,   0,   0,   0,   0,   0,   0,\n",
              "          0,   0],\n",
              "       [  0,   0,   0,   0,   0,   0,   0,   0,   0,   0,   0,   0,   0,\n",
              "          0,   0,   0,   0,   0,   0,   0,   0,   0,   0,   0,   0,   0,\n",
              "          0,   0],\n",
              "       [  0,   0,   0,   0,   0,   0,   0,   0,   0,   0,   0,   0,   0,\n",
              "          0,   0,   0,   0,   0,   0,   0,   0,   0,   0,   0,   0,   0,\n",
              "          0,   0]], dtype=uint8)"
            ]
          },
          "metadata": {
            "tags": []
          },
          "execution_count": 7
        }
      ]
    },
    {
      "cell_type": "code",
      "metadata": {
        "id": "J6NUInmbeDc5",
        "colab_type": "code",
        "outputId": "6f14a874-a6dc-4cef-e1f7-c3ba2a1f90da",
        "colab": {
          "base_uri": "https://localhost:8080/",
          "height": 34
        }
      },
      "source": [
        "trainY[0]"
      ],
      "execution_count": 8,
      "outputs": [
        {
          "output_type": "execute_result",
          "data": {
            "text/plain": [
              "5"
            ]
          },
          "metadata": {
            "tags": []
          },
          "execution_count": 8
        }
      ]
    },
    {
      "cell_type": "code",
      "metadata": {
        "id": "DNJ2VPw4dFsH",
        "colab_type": "code",
        "outputId": "3123ee70-2760-4bf5-9625-b86e6bc80117",
        "colab": {
          "base_uri": "https://localhost:8080/",
          "height": 282
        }
      },
      "source": [
        "# To print the data\n",
        "import matplotlib.pyplot as plt\n",
        "plt.imshow(trainX[0], cmap='gray')"
      ],
      "execution_count": 9,
      "outputs": [
        {
          "output_type": "execute_result",
          "data": {
            "text/plain": [
              "<matplotlib.image.AxesImage at 0x7f5f710cc198>"
            ]
          },
          "metadata": {
            "tags": []
          },
          "execution_count": 9
        },
        {
          "output_type": "display_data",
          "data": {
            "image/png": "[encoded data removed]",
            "text/plain": [
              "<Figure size 432x288 with 1 Axes>"
            ]
          },
          "metadata": {
            "tags": [],
            "needs_background": "light"
          }
        }
      ]
    },
    {
      "cell_type": "code",
      "metadata": {
        "id": "dVqNB0PnfHt_",
        "colab_type": "code",
        "colab": {}
      },
      "source": [
        ""
      ],
      "execution_count": 0,
      "outputs": []
    },
    {
      "cell_type": "markdown",
      "metadata": {
        "id": "-hFuklRcftHH",
        "colab_type": "text"
      },
      "source": [
        "# Convert Output label to multiple values"
      ]
    },
    {
      "cell_type": "code",
      "metadata": {
        "id": "0tUAR2lvfwv-",
        "colab_type": "code",
        "outputId": "34b2543f-be4f-4a83-ebac-1425dbc31c33",
        "colab": {
          "base_uri": "https://localhost:8080/",
          "height": 51
        }
      },
      "source": [
        "print(trainY.shape)\n",
        "print('Samples of trainY :', trainY[0:2])"
      ],
      "execution_count": 10,
      "outputs": [
        {
          "output_type": "stream",
          "text": [
            "(60000,)\n",
            "Samples of trainY : [5 0]\n"
          ],
          "name": "stdout"
        }
      ]
    },
    {
      "cell_type": "code",
      "metadata": {
        "id": "4X5LVDc0f9g_",
        "colab_type": "code",
        "colab": {}
      },
      "source": [
        "trainY = tf.keras.utils.to_categorical(trainY, num_classes=10)"
      ],
      "execution_count": 0,
      "outputs": []
    },
    {
      "cell_type": "code",
      "metadata": {
        "id": "ryi7V0y_hFw-",
        "colab_type": "code",
        "colab": {}
      },
      "source": [
        "testY=tf.keras.utils.to_categorical(testY,num_classes=10)"
      ],
      "execution_count": 0,
      "outputs": []
    },
    {
      "cell_type": "code",
      "metadata": {
        "id": "xDLvqAoahaPV",
        "colab_type": "code",
        "outputId": "25c9825a-1e31-4a5f-8198-5c3dc20faec3",
        "colab": {
          "base_uri": "https://localhost:8080/",
          "height": 68
        }
      },
      "source": [
        "print (trainY.shape)\n",
        "print('Samples of trainY :', trainY[0:2])"
      ],
      "execution_count": 13,
      "outputs": [
        {
          "output_type": "stream",
          "text": [
            "(60000, 10)\n",
            "Samples of trainY : [[0. 0. 0. 0. 0. 1. 0. 0. 0. 0.]\n",
            " [1. 0. 0. 0. 0. 0. 0. 0. 0. 0.]]\n"
          ],
          "name": "stdout"
        }
      ]
    },
    {
      "cell_type": "markdown",
      "metadata": {
        "id": "fNIQNHHUhjrj",
        "colab_type": "text"
      },
      "source": [
        "# Build the NN"
      ]
    },
    {
      "cell_type": "code",
      "metadata": {
        "id": "R10CwdAOhmu9",
        "colab_type": "code",
        "colab": {}
      },
      "source": [
        "#Clear out tensorflow memory\n",
        "tf.keras.backend.clear_session()\n",
        "\n",
        "#Initialize Sequential Model\n",
        "model = tf.keras.models.Sequential()\n",
        "\n",
        "#Reshape the data from 2D to 1D -> 28x28 to 784\n",
        "# The equation accepts samples at vectors. Our current input is matrix\n",
        "model.add(tf.keras.layers.Reshape((784,),input_shape=(28,28,)))\n",
        "\n",
        "#Normalize the data\n",
        "model.add(tf.keras.layers.BatchNormalization())\n"
      ],
      "execution_count": 0,
      "outputs": []
    },
    {
      "cell_type": "markdown",
      "metadata": {
        "id": "8bciygrNCWEC",
        "colab_type": "text"
      },
      "source": [
        "#Build DNN"
      ]
    },
    {
      "cell_type": "code",
      "metadata": {
        "id": "2Vt8g8O0lBYF",
        "colab_type": "code",
        "colab": {}
      },
      "source": [
        "#Add 1st hidden layer\n",
        "model.add(tf.keras.layers.Dense(200, activation='sigmoid'))\n",
        "\n",
        "#Add 2nd hidden layer\n",
        "model.add(tf.keras.layers.Dense(100, activation='sigmoid'))\n",
        "\n",
        "#Add 3rd hidden layer\n",
        "model.add(tf.keras.layers.Dense(60, activation='sigmoid'))\n",
        "\n",
        "#Add 4th hidden layer\n",
        "model.add(tf.keras.layers.Dense(30, activation='sigmoid'))\n",
        "\n",
        "#Add output layer\n",
        "model.add(tf.keras.layers.Dense(10, activation='softmax'))"
      ],
      "execution_count": 0,
      "outputs": []
    },
    {
      "cell_type": "markdown",
      "metadata": {
        "id": "Sf9cMgH2Dg5c",
        "colab_type": "text"
      },
      "source": [
        "# Build the Graph"
      ]
    },
    {
      "cell_type": "code",
      "metadata": {
        "id": "upuyC6H2Dju0",
        "colab_type": "code",
        "colab": {}
      },
      "source": [
        "#Compile the model\n",
        "model.compile(optimizer='sgd', loss='categorical_crossentropy', metrics=['accuracy'])"
      ],
      "execution_count": 0,
      "outputs": []
    },
    {
      "cell_type": "code",
      "metadata": {
        "id": "1mTRzQl5D5cU",
        "colab_type": "code",
        "outputId": "51a2f8c3-2cbf-4555-c4f9-2d2ae74f0a91",
        "colab": {
          "base_uri": "https://localhost:8080/",
          "height": 391
        }
      },
      "source": [
        "model.summary()"
      ],
      "execution_count": 17,
      "outputs": [
        {
          "output_type": "stream",
          "text": [
            "Model: \"sequential\"\n",
            "_________________________________________________________________\n",
            "Layer (type)                 Output Shape              Param #   \n",
            "=================================================================\n",
            "reshape (Reshape)            (None, 784)               0         \n",
            "_________________________________________________________________\n",
            "batch_normalization (BatchNo (None, 784)               3136      \n",
            "_________________________________________________________________\n",
            "dense (Dense)                (None, 200)               157000    \n",
            "_________________________________________________________________\n",
            "dense_1 (Dense)              (None, 100)               20100     \n",
            "_________________________________________________________________\n",
            "dense_2 (Dense)              (None, 60)                6060      \n",
            "_________________________________________________________________\n",
            "dense_3 (Dense)              (None, 30)                1830      \n",
            "_________________________________________________________________\n",
            "dense_4 (Dense)              (None, 10)                310       \n",
            "=================================================================\n",
            "Total params: 188,436\n",
            "Trainable params: 186,868\n",
            "Non-trainable params: 1,568\n",
            "_________________________________________________________________\n"
          ],
          "name": "stdout"
        }
      ]
    },
    {
      "cell_type": "markdown",
      "metadata": {
        "id": "1bnjWH2_EKSq",
        "colab_type": "text"
      },
      "source": [
        "# Train the model"
      ]
    },
    {
      "cell_type": "code",
      "metadata": {
        "id": "q1eN_JPIEMjS",
        "colab_type": "code",
        "outputId": "35c68d1e-639d-48aa-8ad4-cdaee05d5e87",
        "colab": {
          "base_uri": "https://localhost:8080/",
          "height": 204
        }
      },
      "source": [
        "model.fit(trainX,trainY, \n",
        "          validataion_data=(testX,testY),\n",
        "          epochs=5,\n",
        "          batch_size=32)"
      ],
      "execution_count": 18,
      "outputs": [
        {
          "output_type": "stream",
          "text": [
            "Epoch 1/5\n",
            "1875/1875 [==============================] - 6s 3ms/step - loss: 2.3059 - accuracy: 0.1130\n",
            "Epoch 2/5\n",
            "1875/1875 [==============================] - 6s 3ms/step - loss: 2.2957 - accuracy: 0.1168\n",
            "Epoch 3/5\n",
            "1875/1875 [==============================] - 6s 3ms/step - loss: 2.2899 - accuracy: 0.1266\n",
            "Epoch 4/5\n",
            "1875/1875 [==============================] - 6s 3ms/step - loss: 2.2795 - accuracy: 0.1586\n",
            "Epoch 5/5\n",
            "1875/1875 [==============================] - 6s 3ms/step - loss: 2.2557 - accuracy: 0.2329\n"
          ],
          "name": "stdout"
        },
        {
          "output_type": "execute_result",
          "data": {
            "text/plain": [
              "<tensorflow.python.keras.callbacks.History at 0x7f5f6a8945f8>"
            ]
          },
          "metadata": {
            "tags": []
          },
          "execution_count": 18
        }
      ]
    },
    {
      "cell_type": "markdown",
      "metadata": {
        "id": "fJPiwXA5hiGZ",
        "colab_type": "text"
      },
      "source": [
        "We are experiencing VG. Loss is reducing very slowly. accuracy is increasing very slowly"
      ]
    },
    {
      "cell_type": "code",
      "metadata": {
        "id": "CX6c1cyzhZkV",
        "colab_type": "code",
        "colab": {
          "base_uri": "https://localhost:8080/",
          "height": 1000
        },
        "outputId": "a267efb3-e619-4be0-ab4f-85adbeacb2cc"
      },
      "source": [
        "model.get_weights()"
      ],
      "execution_count": 19,
      "outputs": [
        {
          "output_type": "execute_result",
          "data": {
            "text/plain": [
              "[array([1.        , 1.        , 1.        , 1.        , 1.        ,\n",
              "        1.        , 1.        , 1.        , 1.        , 1.        ,\n",
              "        1.        , 1.        , 0.99999934, 1.0000007 , 1.0000015 ,\n",
              "        1.0000001 , 1.        , 1.        , 1.        , 1.        ,\n",
              "        1.        , 1.        , 1.        , 1.        , 1.        ,\n",
              "        1.        , 1.        , 1.        , 1.        , 1.        ,\n",
              "        1.        , 1.        , 1.0000005 , 1.0000001 , 1.0000072 ,\n",
              "        0.99997574, 1.000023  , 1.0000794 , 0.99997866, 0.99997383,\n",
              "        0.99991035, 1.0000173 , 1.0000602 , 1.0000192 , 0.99993354,\n",
              "        0.99998397, 1.0001081 , 0.9999579 , 0.99991155, 0.9999378 ,\n",
              "        1.0000201 , 0.9999987 , 1.        , 1.        , 1.        ,\n",
              "        1.        , 1.        , 1.        , 0.9999987 , 0.99999905,\n",
              "        0.999998  , 1.0000131 , 1.0000267 , 0.99992746, 0.99994135,\n",
              "        0.9997676 , 1.0000888 , 1.0002552 , 0.9999775 , 1.0002208 ,\n",
              "        1.0009106 , 1.0014606 , 1.0017045 , 1.0014671 , 1.002016  ,\n",
              "        0.9997609 , 0.9996229 , 0.9999192 , 0.99961394, 1.0000222 ,\n",
              "        0.9999824 , 1.0000025 , 1.        , 1.        , 1.        ,\n",
              "        1.        , 0.9999996 , 0.9999986 , 0.9999854 , 0.9999776 ,\n",
              "        0.9999204 , 0.999885  , 0.99960756, 1.0004293 , 1.0005182 ,\n",
              "        0.99978936, 1.0014693 , 1.0000223 , 0.9993921 , 1.000008  ,\n",
              "        1.0015743 , 1.0030493 , 0.99961615, 1.0012041 , 1.0005803 ,\n",
              "        1.0002445 , 0.9999646 , 0.999857  , 0.9999705 , 0.9999766 ,\n",
              "        0.999996  , 1.        , 1.        , 0.9999977 , 0.99999636,\n",
              "        0.9999878 , 0.99988127, 0.99965096, 0.999632  , 1.000684  ,\n",
              "        1.0001154 , 1.0008211 , 1.0009246 , 1.0053179 , 0.996562  ,\n",
              "        1.0007432 , 1.0010194 , 1.0031587 , 1.0057964 , 0.9984414 ,\n",
              "        0.999239  , 1.0019648 , 1.0001544 , 0.9996142 , 1.0009027 ,\n",
              "        0.9998673 , 1.0006671 , 1.000101  , 1.000011  , 0.9999955 ,\n",
              "        1.        , 1.        , 0.99998665, 1.0000383 , 0.999704  ,\n",
              "        1.000031  , 0.9983952 , 0.999423  , 1.0024687 , 1.0031705 ,\n",
              "        1.0034696 , 1.0038955 , 1.0051595 , 1.0051198 , 1.0008923 ,\n",
              "        1.0034077 , 1.0001041 , 1.0053462 , 1.002907  , 1.0039679 ,\n",
              "        1.0046594 , 1.0024476 , 1.0014303 , 0.999983  , 1.0009542 ,\n",
              "        1.0001141 , 0.9998289 , 0.99999815, 1.        , 0.99999386,\n",
              "        0.9999739 , 1.0000101 , 0.99923   , 1.0001369 , 1.0000616 ,\n",
              "        1.0003082 , 1.002909  , 1.0047495 , 1.0053655 , 1.0054545 ,\n",
              "        1.0083916 , 1.0015585 , 1.0070273 , 1.0019697 , 1.0038499 ,\n",
              "        0.9997252 , 1.0008285 , 1.0028732 , 0.9988933 , 0.9991116 ,\n",
              "        1.0039939 , 1.0011139 , 1.008876  , 0.9974388 , 0.9997768 ,\n",
              "        1.0000036 , 1.0000012 , 0.9999863 , 1.0001216 , 1.0000556 ,\n",
              "        0.99984396, 1.0009093 , 1.0036192 , 0.9991978 , 1.0029199 ,\n",
              "        1.0002881 , 0.996149  , 0.9994049 , 0.9993543 , 1.0037922 ,\n",
              "        0.9997809 , 0.99897397, 0.99978155, 1.0028609 , 1.0042272 ,\n",
              "        1.0019673 , 0.9999288 , 1.0003642 , 1.0016621 , 1.0027995 ,\n",
              "        0.99785006, 1.0013937 , 1.0002244 , 1.0000051 , 1.0000018 ,\n",
              "        1.0000207 , 0.9996447 , 0.9998422 , 0.9977566 , 1.0009576 ,\n",
              "        1.0042207 , 1.0011202 , 0.99980384, 1.0005515 , 1.0005076 ,\n",
              "        0.99963087, 1.001366  , 1.0010921 , 0.997533  , 1.002328  ,\n",
              "        0.9994501 , 1.0037498 , 0.9967418 , 1.000913  , 1.0065292 ,\n",
              "        1.0010957 , 1.0002316 , 1.0011809 , 1.0022924 , 0.9991136 ,\n",
              "        0.99966943, 0.99997693, 0.99999803, 0.9999264 , 1.0000757 ,\n",
              "        1.0000743 , 0.99770176, 1.0022595 , 0.99805033, 1.0001887 ,\n",
              "        1.0005455 , 1.0006067 , 1.0001359 , 1.0035079 , 0.9993125 ,\n",
              "        1.0033618 , 1.001402  , 1.0050819 , 0.9996875 , 0.99926674,\n",
              "        1.0023532 , 0.9981184 , 0.99892616, 1.0017861 , 1.0002027 ,\n",
              "        0.99655527, 1.0009613 , 0.99955493, 1.0005118 , 0.9999765 ,\n",
              "        0.99999803, 0.9999131 , 0.99993163, 0.9996839 , 1.0008657 ,\n",
              "        1.0030915 , 1.0007429 , 1.0025278 , 1.0043149 , 1.0051135 ,\n",
              "        1.0058796 , 0.99976265, 1.006758  , 1.0021012 , 0.9994375 ,\n",
              "        1.003437  , 1.0007801 , 1.0069004 , 1.0020185 , 1.0042721 ,\n",
              "        1.0061495 , 1.0057229 , 0.99643856, 0.99969447, 1.0012788 ,\n",
              "        0.9989545 , 0.9998697 , 1.0000068 , 0.99999267, 0.99986994,\n",
              "        0.9998485 , 1.000852  , 1.0006261 , 1.0003684 , 1.0009916 ,\n",
              "        1.0036322 , 1.0066341 , 0.99727565, 1.0064621 , 1.0005914 ,\n",
              "        1.0001307 , 1.0045277 , 1.0075805 , 0.9988341 , 1.0036806 ,\n",
              "        1.0000964 , 1.0057479 , 1.007167  , 1.0113355 , 0.999117  ,\n",
              "        1.0045378 , 1.004682  , 0.9987434 , 0.999889  , 0.99978834,\n",
              "        0.99999833, 0.9999976 , 1.000011  , 1.0003124 , 0.99936634,\n",
              "        0.9997224 , 1.0022198 , 1.0049096 , 1.0091767 , 1.0130252 ,\n",
              "        1.007136  , 1.0016174 , 1.0061592 , 1.0058631 , 1.0128784 ,\n",
              "        1.0098749 , 1.0079372 , 1.0074352 , 1.0039339 , 1.0020998 ,\n",
              "        1.0003066 , 1.0059234 , 1.005412  , 1.0111728 , 1.0052978 ,\n",
              "        0.99870706, 0.9998158 , 0.9999595 , 0.9999902 , 0.99999887,\n",
              "        0.99997675, 1.0000626 , 0.9998603 , 1.0013045 , 1.0008324 ,\n",
              "        0.99796355, 0.9980326 , 1.0028201 , 0.99887943, 1.0100465 ,\n",
              "        1.00582   , 1.0060421 , 1.0052868 , 1.0000591 , 1.006711  ,\n",
              "        1.0028558 , 0.9966926 , 1.0010993 , 1.001752  , 1.0004802 ,\n",
              "        1.0027107 , 1.0043958 , 0.9997764 , 1.0006868 , 1.00002   ,\n",
              "        0.9999357 , 1.0000008 , 1.0000035 , 0.99999315, 0.99997187,\n",
              "        0.9997541 , 0.99908733, 1.0016662 , 1.0025823 , 1.0063744 ,\n",
              "        1.0047681 , 0.9999922 , 1.0004773 , 1.0029819 , 1.0106714 ,\n",
              "        1.0044864 , 1.00256   , 1.012713  , 1.003496  , 1.0040247 ,\n",
              "        1.0056704 , 0.9996614 , 1.0008134 , 1.007033  , 0.9963626 ,\n",
              "        1.0002352 , 0.99895585, 0.9997909 , 0.9998678 , 0.9999865 ,\n",
              "        0.9999966 , 0.9999994 , 0.999995  , 0.99982285, 0.99880445,\n",
              "        1.0025822 , 0.9999828 , 1.0080484 , 1.0078712 , 1.0026453 ,\n",
              "        1.0011725 , 1.0005009 , 1.0070826 , 1.015864  , 1.0126889 ,\n",
              "        1.0121037 , 0.9955972 , 1.0008003 , 1.001361  , 1.0066099 ,\n",
              "        1.0074055 , 1.0024949 , 1.009644  , 1.0042545 , 1.0018082 ,\n",
              "        1.0000623 , 0.99984473, 1.0000069 , 0.9999967 , 0.99999946,\n",
              "        0.9999525 , 0.9998366 , 1.0017524 , 0.999796  , 1.0004815 ,\n",
              "        1.0124807 , 1.0025452 , 1.0015181 , 1.0001484 , 1.0004213 ,\n",
              "        1.0138369 , 1.0156165 , 1.0038308 , 1.0109283 , 1.0048381 ,\n",
              "        0.9969142 , 1.0027833 , 1.0023811 , 0.9998549 , 1.002094  ,\n",
              "        0.9971299 , 0.9981016 , 0.99680465, 0.9999721 , 1.0002118 ,\n",
              "        0.9999895 , 1.        , 0.99999446, 0.9999018 , 0.9998637 ,\n",
              "        1.0006442 , 1.0006033 , 1.0069168 , 1.006663  , 1.0038524 ,\n",
              "        1.0032666 , 0.99923646, 1.0124907 , 1.0123749 , 1.0113107 ,\n",
              "        1.0103756 , 1.0024486 , 0.99866533, 0.99971277, 1.0044612 ,\n",
              "        1.0041703 , 1.002049  , 0.9978545 , 0.99988776, 1.001422  ,\n",
              "        0.9994828 , 0.9991516 , 0.99999225, 0.9999785 , 0.99999654,\n",
              "        0.99998647, 0.99997   , 1.0005116 , 0.9973024 , 1.0011672 ,\n",
              "        1.0054454 , 1.007844  , 1.0033334 , 1.0048376 , 1.0105778 ,\n",
              "        1.0017446 , 1.0155218 , 1.0063977 , 1.0054872 , 1.0022556 ,\n",
              "        0.9996609 , 0.99943864, 1.0007241 , 1.001081  , 1.0011697 ,\n",
              "        1.0026499 , 0.9975952 , 0.9997604 , 0.9997408 , 1.0006176 ,\n",
              "        1.0000513 , 0.99999446, 0.9999991 , 0.9999864 , 0.99971104,\n",
              "        1.0014174 , 1.000875  , 1.0033789 , 1.0086523 , 0.9992247 ,\n",
              "        0.9973393 , 1.0093845 , 1.0073602 , 1.0078101 , 1.0054332 ,\n",
              "        1.0079999 , 1.0067925 , 1.00221   , 0.9987272 , 0.9967466 ,\n",
              "        1.00404   , 1.0089803 , 0.99796283, 1.0030231 , 0.9998035 ,\n",
              "        0.99897444, 1.0021642 , 1.0020372 , 0.99997675, 1.0000051 ,\n",
              "        1.        , 0.99999815, 0.9999261 , 1.0012581 , 1.0007422 ,\n",
              "        0.99834555, 0.9996084 , 1.0023807 , 1.007077  , 0.99846774,\n",
              "        1.0042303 , 1.0021406 , 1.0034583 , 1.0031132 , 0.9988889 ,\n",
              "        1.0010769 , 1.0018736 , 0.99821705, 1.0049675 , 1.0000981 ,\n",
              "        1.0037655 , 1.0017182 , 0.9978516 , 1.0020403 , 1.0009273 ,\n",
              "        0.99971855, 0.9998493 , 1.0000017 , 0.99999934, 1.0000125 ,\n",
              "        0.999737  , 1.0002737 , 0.99717706, 1.0027477 , 1.0019405 ,\n",
              "        1.002285  , 1.008776  , 1.0143293 , 1.0076686 , 1.0013182 ,\n",
              "        1.0001323 , 1.0022361 , 0.9953941 , 1.0035844 , 0.99755615,\n",
              "        1.005588  , 1.0014263 , 0.9995655 , 0.9989063 , 1.0047499 ,\n",
              "        1.0003982 , 1.0012391 , 1.0001327 , 0.99964553, 0.99997777,\n",
              "        0.9999996 , 0.9999992 , 1.0000008 , 1.0001575 , 0.9994892 ,\n",
              "        1.0009398 , 1.0012394 , 0.99922884, 1.0027559 , 1.0132893 ,\n",
              "        1.0066015 , 1.0124869 , 1.0063052 , 1.0062475 , 1.0008894 ,\n",
              "        1.0004227 , 1.0004737 , 0.99703026, 1.0036328 , 1.0044302 ,\n",
              "        1.0029413 , 1.0007684 , 1.0000308 , 0.9995163 , 1.0007397 ,\n",
              "        1.0002174 , 0.9998305 , 0.9999735 , 0.9999992 , 1.        ,\n",
              "        1.        , 0.9999182 , 0.99995226, 0.99888426, 0.9993877 ,\n",
              "        1.000804  , 0.99707305, 1.0036135 , 1.0020736 , 1.0027715 ,\n",
              "        1.0054715 , 1.0077101 , 1.0022436 , 0.99874556, 1.0032572 ,\n",
              "        0.99722224, 1.0015805 , 1.000038  , 0.99981153, 0.9994689 ,\n",
              "        0.99938434, 0.9999512 , 0.99980366, 0.9999398 , 0.99994075,\n",
              "        0.9999932 , 1.        , 1.        , 1.        , 0.9999674 ,\n",
              "        0.9999717 , 1.000002  , 0.9993458 , 0.9981076 , 0.99905837,\n",
              "        1.0019492 , 1.0031365 , 1.0008888 , 1.0021087 , 1.0024067 ,\n",
              "        0.99942666, 0.9998644 , 1.0000354 , 1.0018911 , 0.9980072 ,\n",
              "        0.99811125, 1.0009617 , 0.9986549 , 1.0004753 , 0.99961114,\n",
              "        0.99997795, 0.999974  , 1.0000125 , 1.000002  , 1.        ,\n",
              "        1.        , 1.        , 0.9999995 , 1.0000029 , 1.0000386 ,\n",
              "        0.99990976, 1.0012449 , 1.0014551 , 0.9996748 , 0.99931324,\n",
              "        1.0028504 , 1.0062023 , 1.0111458 , 1.0048817 , 1.0005602 ,\n",
              "        1.0017816 , 0.9988386 , 0.999958  , 1.0003189 , 1.0006554 ,\n",
              "        1.0017021 , 1.0001733 , 1.0000591 , 0.999969  , 1.0000015 ,\n",
              "        0.99999917, 0.99999756, 1.        , 1.        , 1.        ,\n",
              "        1.        , 1.        , 0.99993896, 0.9999847 , 1.0003133 ,\n",
              "        0.998975  , 1.0010273 , 0.9993642 , 1.0013293 , 0.9994764 ,\n",
              "        0.997459  , 0.9971425 , 1.0030247 , 1.001873  , 0.99737895,\n",
              "        0.99982876, 0.9998828 , 0.9995993 , 0.99979126, 1.0001397 ,\n",
              "        0.99999684, 0.99999326, 0.9999995 , 1.0000004 , 1.        ,\n",
              "        1.        , 1.        , 1.        , 1.        , 1.        ,\n",
              "        1.0000138 , 1.0000005 , 0.99998504, 0.9998974 , 0.9999762 ,\n",
              "        1.0000193 , 1.0000978 , 1.0001316 , 0.99982166, 0.9999274 ,\n",
              "        0.9997655 , 0.9998648 , 1.000558  , 0.9998412 , 0.99988616,\n",
              "        0.9999696 , 0.9999974 , 0.9999475 , 0.999998  , 1.0000007 ,\n",
              "        1.        , 1.        , 1.        , 1.        ], dtype=float32),\n",
              " array([ 7.90740523e-05,  9.00525629e-05, -1.53838424e-03,  1.05855474e-03,\n",
              "         9.57942975e-05, -3.02902277e-04,  5.24204166e-04, -4.43263853e-04,\n",
              "         1.53152761e-03,  3.05514579e-04,  2.13101575e-05,  9.80240875e-04,\n",
              "        -2.99005158e-04, -9.60754332e-05, -9.43110135e-05, -2.94828700e-04,\n",
              "        -8.05213174e-04,  6.54942414e-04, -1.19123305e-03,  7.96095759e-04,\n",
              "         3.90626868e-04,  8.57430859e-05,  2.12480882e-05,  5.15193213e-04,\n",
              "        -4.41270793e-04,  1.45650803e-04, -2.71706405e-04,  2.11555132e-04,\n",
              "        -1.76922622e-05,  7.25736958e-04, -7.69530248e-04,  1.02525228e-03,\n",
              "        -6.32575597e-04,  7.12745416e-04, -1.30689680e-03, -8.47504532e-04,\n",
              "        -1.70302112e-04,  5.73524798e-04,  4.26302257e-04, -6.26030669e-04,\n",
              "        -9.04950197e-04,  7.72277999e-04,  2.64492846e-04, -9.88137035e-05,\n",
              "        -6.78187371e-06,  1.26924875e-04,  1.15855690e-03,  5.51573175e-04,\n",
              "         1.04872789e-03,  1.22947486e-05, -2.26671618e-04,  1.14399227e-04,\n",
              "        -6.06226153e-04, -5.50182944e-04,  4.94946609e-04,  6.35327888e-04,\n",
              "        -9.79444085e-05,  3.06844915e-04, -4.11092769e-04,  1.34847229e-04,\n",
              "         6.18543185e-04,  1.45227101e-03,  4.43627476e-04,  5.43392438e-04,\n",
              "        -3.88080691e-04, -4.62323049e-04, -2.56921048e-04,  1.14974077e-03,\n",
              "         2.25426309e-04,  3.87751963e-04, -5.95456113e-05, -3.21364088e-04,\n",
              "        -1.93874992e-04, -2.03185380e-04,  2.94219790e-04, -7.37802242e-04,\n",
              "        -3.72560578e-04,  8.00355105e-04, -1.86956997e-04,  4.10506269e-04,\n",
              "         8.70733871e-04,  5.55384846e-04, -5.92587458e-05, -2.29451281e-04,\n",
              "         5.65194816e-04, -1.09355920e-03,  2.40782028e-04,  3.66126878e-05,\n",
              "         9.14729142e-04, -3.10006872e-05, -4.05886560e-04,  8.81309898e-05,\n",
              "         4.35766124e-05, -5.18232118e-05, -6.87374777e-05, -3.09409661e-04,\n",
              "        -3.00301559e-04,  2.59174849e-04, -2.47627497e-04,  7.86724151e-04,\n",
              "         5.35963627e-04, -3.60382634e-04, -8.35359388e-04,  8.68328731e-04,\n",
              "         5.18347719e-04, -1.03044527e-04,  2.09169157e-04, -2.00619383e-04,\n",
              "        -6.86431231e-05,  1.26544165e-03, -1.07224136e-04,  2.71862722e-04,\n",
              "        -5.29857702e-04, -4.56373440e-04,  6.42204948e-04, -2.05733537e-04,\n",
              "         6.15879195e-04,  1.25441438e-04, -5.86624490e-04,  5.37680986e-04,\n",
              "        -2.15461376e-04, -7.28657469e-04,  8.26433185e-04,  7.51068816e-04,\n",
              "         6.43200474e-04, -1.79931638e-04, -2.22757299e-04, -1.51796397e-04,\n",
              "        -5.68261195e-04,  1.74157461e-03, -4.66853526e-04, -6.37157471e-04,\n",
              "         3.31804680e-04, -1.18535885e-04,  1.25339057e-03, -1.23044782e-04,\n",
              "        -4.60224401e-04, -1.40290824e-03, -1.61337684e-05,  9.87940701e-04,\n",
              "         2.29793222e-04, -1.14506914e-03, -8.27741169e-04, -7.93902320e-04,\n",
              "         6.18782651e-05,  6.69700559e-04, -6.16395773e-05, -9.44309286e-04,\n",
              "        -6.43808278e-04,  1.02464319e-03, -5.57317726e-05, -1.00888615e-03,\n",
              "        -6.58863166e-04, -1.61432923e-04, -4.95358021e-04, -2.88658601e-04,\n",
              "         4.02153382e-04,  2.78344756e-04,  5.97252510e-04, -1.03948254e-03,\n",
              "        -2.05301004e-03,  4.44322286e-05,  4.14645445e-04,  1.93056694e-04,\n",
              "         4.26431419e-04, -3.25926609e-04,  2.17018896e-04, -5.84959227e-04,\n",
              "         1.16932730e-04, -7.51842963e-05,  4.30662243e-04, -1.13908574e-03,\n",
              "        -7.79796857e-04,  4.61423828e-04, -1.98907292e-04,  2.18644680e-04,\n",
              "        -3.32638068e-04, -2.35653773e-04,  5.05989628e-05, -5.68339659e-04,\n",
              "        -4.15293616e-04, -4.81163413e-04,  2.56481348e-04, -9.78465891e-04,\n",
              "        -2.22373303e-04, -6.20096398e-05,  4.50951302e-06, -7.05128070e-04,\n",
              "         2.63170223e-04,  6.47285255e-04, -1.25485267e-05, -1.13033957e-03,\n",
              "        -2.96685721e-05, -1.00294943e-03,  6.40797196e-04,  9.81211080e-04,\n",
              "         2.41811373e-04,  1.25101971e-04, -3.84703977e-04, -1.50187643e-05,\n",
              "         4.78098780e-04, -3.70651978e-04,  1.52440683e-04,  5.77979663e-04,\n",
              "         1.36279513e-03, -6.52928255e-04,  1.14392758e-04,  5.32740378e-04,\n",
              "         2.73690966e-04, -4.94133099e-04,  2.68116302e-04, -8.63181776e-05,\n",
              "        -1.72654982e-04, -1.79141862e-04, -5.42907335e-04, -1.00495054e-04,\n",
              "         4.20005294e-04,  3.53730458e-04,  6.27704314e-04, -5.69067743e-06,\n",
              "         5.82427720e-06,  2.23422379e-04, -1.55940637e-04,  1.96164649e-04,\n",
              "         1.09462244e-05, -2.45125731e-04,  1.99959916e-03,  5.37639484e-04,\n",
              "         4.80281655e-04, -1.12979184e-03, -3.47462599e-04, -4.13722068e-04,\n",
              "        -4.92973719e-04, -1.17745611e-03, -6.22348307e-05, -2.14829677e-04,\n",
              "        -1.13842245e-04,  1.56438284e-04, -1.01266429e-03, -8.19564157e-04,\n",
              "         1.05603052e-04,  4.20672004e-04, -9.82202939e-04,  4.46975646e-05,\n",
              "         1.83226017e-04, -4.63700271e-04, -2.46877928e-04,  4.64216246e-05,\n",
              "        -1.71085732e-04, -8.09357211e-04, -5.99520339e-04, -5.67289768e-04,\n",
              "        -7.57958507e-04, -1.40997450e-04,  1.46839258e-04,  3.45181877e-04,\n",
              "         7.64063443e-04, -5.96454658e-04,  1.04610785e-03,  4.40250267e-04,\n",
              "        -4.67415666e-04, -6.73411938e-04,  5.05326607e-04, -6.80597150e-04,\n",
              "        -2.31451369e-04,  6.92784495e-04,  6.42732659e-04, -2.23251336e-04,\n",
              "         3.47499212e-04,  5.82144945e-04, -8.14440253e-04,  6.33745571e-04,\n",
              "         1.09917333e-03,  2.34708656e-04, -4.24692669e-04, -5.77585655e-04,\n",
              "         3.64888256e-04,  1.57394519e-04,  2.64922797e-04, -4.03012062e-04,\n",
              "        -4.14992595e-04, -1.39450876e-03,  1.10167894e-03, -8.19716370e-05,\n",
              "        -1.20562280e-03, -2.08566489e-04,  1.66371901e-04, -5.28371893e-05,\n",
              "         5.53504324e-05, -5.20979404e-04, -5.34982362e-04, -4.43760422e-04,\n",
              "        -4.78002949e-05,  2.63550930e-04,  1.55221345e-03,  1.62955854e-04,\n",
              "        -1.58774292e-05,  7.53079948e-05, -6.66723878e-04, -3.81889316e-04,\n",
              "         8.52133438e-04, -6.30340772e-04,  8.54868733e-04,  2.91808014e-04,\n",
              "        -4.81704119e-05, -3.09140654e-04, -1.71302279e-04,  1.94324297e-04,\n",
              "         7.71332649e-04,  4.79637616e-04,  5.12518513e-04, -1.78132008e-03,\n",
              "         5.74445003e-04, -5.56895277e-04, -7.61874020e-04,  7.31226697e-04,\n",
              "        -7.98653811e-04,  7.06018240e-04, -8.08718498e-04, -2.19724578e-04,\n",
              "        -2.73045065e-04,  5.08946599e-04, -6.77936187e-05, -3.54371034e-04,\n",
              "        -3.72872804e-04, -6.89725217e-04,  6.31477335e-04,  1.45057752e-03,\n",
              "        -7.58036113e-05,  1.23538630e-04, -2.15755717e-04,  1.02760037e-04,\n",
              "        -4.79861948e-04,  3.85296851e-04, -4.25901177e-04, -2.04486219e-04,\n",
              "        -7.64520373e-04,  4.61924908e-04, -4.79052600e-04, -6.47500157e-04,\n",
              "         1.03306188e-03,  5.37483138e-04,  7.18990690e-04,  1.13407441e-04,\n",
              "        -4.19041316e-04, -5.34740393e-04,  3.16184945e-04,  3.64218606e-04,\n",
              "         1.17313873e-04,  4.97582892e-04,  1.80085350e-04,  9.89728025e-04,\n",
              "         9.06009576e-04,  5.52069905e-05, -3.23084620e-04, -1.79525068e-05,\n",
              "         4.13847127e-04, -1.35661132e-04, -1.72621291e-03,  3.74455296e-04,\n",
              "        -8.48621828e-04,  5.04450698e-04, -7.25303136e-04, -5.65120426e-04,\n",
              "         6.57867058e-04,  3.40703264e-04, -1.81236025e-03, -1.18627831e-04,\n",
              "        -6.66767592e-04,  5.56541781e-04,  6.66400127e-04, -1.92576248e-04,\n",
              "         1.20020402e-03, -8.37244152e-04, -9.56360542e-04,  1.21165451e-03,\n",
              "        -7.51864980e-04,  7.82928022e-04,  4.67903505e-04, -4.28903179e-04,\n",
              "         5.24413248e-04,  1.93625310e-04,  1.53367306e-04, -5.39451023e-04,\n",
              "         3.60917795e-04, -9.42899060e-05, -9.08942675e-05, -3.13949422e-04,\n",
              "        -2.57217107e-05,  8.48797208e-04, -9.47811059e-04,  7.61190488e-04,\n",
              "        -9.89756663e-05,  5.13627019e-04, -4.51082597e-04, -6.39163423e-04,\n",
              "         6.79319259e-04, -8.37240543e-04,  4.93622443e-04,  2.17149573e-04,\n",
              "         4.92697756e-04, -8.31608719e-04, -8.52680125e-04, -3.01141903e-04,\n",
              "        -4.24479076e-04, -3.37175530e-04,  2.69391923e-04,  6.96999312e-04,\n",
              "        -5.97525621e-04, -1.07543812e-04, -2.08750964e-04, -1.74526562e-04,\n",
              "         4.05762607e-04,  5.15253399e-04,  7.01339799e-04, -8.41151690e-04,\n",
              "         1.20402809e-04, -1.12135336e-03,  9.37006262e-05, -1.02443516e-03,\n",
              "         7.34692585e-05,  9.16606314e-06, -1.28546075e-04, -5.51066260e-05,\n",
              "         1.18110613e-04, -3.07915674e-04,  8.95175850e-04, -1.25263515e-03,\n",
              "         7.22805038e-04,  2.06987694e-04,  5.14535001e-04,  5.86986775e-04,\n",
              "         9.15985001e-05,  9.81993857e-04,  6.65360945e-04,  8.36966385e-04,\n",
              "        -1.18146173e-03,  5.19385445e-04, -6.86549931e-04, -1.31923787e-03,\n",
              "        -6.52708637e-04,  1.62995115e-04, -1.87197619e-03, -1.15779357e-03,\n",
              "        -1.36503007e-03,  4.20696248e-04,  3.86599888e-04,  2.37786473e-04,\n",
              "        -1.06278074e-03, -6.62192877e-04, -6.46259054e-04,  2.14579013e-05,\n",
              "        -6.17882004e-04, -1.01152353e-03, -2.10282407e-04, -1.37110671e-03,\n",
              "         3.94379254e-04,  2.20920454e-04,  2.11403501e-04, -1.09629321e-03,\n",
              "        -2.63542024e-04,  1.51924044e-03, -1.36829520e-04,  1.12402358e-03,\n",
              "        -4.00324934e-05,  4.59304283e-04, -4.58336028e-04,  4.18219075e-04,\n",
              "        -6.92990361e-05,  3.78379249e-04,  1.52045162e-04,  1.66876889e-05,\n",
              "        -4.41517652e-04,  4.31361987e-04,  4.43533499e-04,  2.51278107e-04,\n",
              "        -4.68492741e-04,  1.16165611e-04,  2.67152791e-04, -1.65005404e-04,\n",
              "        -4.25095990e-04, -5.58754022e-04, -9.80450423e-04,  6.82681799e-04,\n",
              "        -1.21179200e-03, -3.18069273e-04,  5.33043931e-04,  1.47588260e-04,\n",
              "         5.42701513e-04,  5.86259004e-04,  6.03038119e-04, -2.11587860e-04,\n",
              "        -8.60623200e-04,  1.01230442e-04, -5.59700071e-04, -1.04111724e-03,\n",
              "        -7.49478058e-04,  1.25698658e-04,  1.71167703e-04,  1.08206674e-04,\n",
              "         3.27743619e-04, -1.15578943e-04, -2.36906082e-04,  2.45072704e-04,\n",
              "        -2.03806892e-04,  5.43008500e-04,  4.12475085e-04,  2.19687630e-04,\n",
              "        -5.27913508e-04,  5.25550393e-04,  2.38592649e-04, -8.45239963e-04,\n",
              "        -3.33336851e-04,  1.19520002e-03,  4.62848635e-04,  3.49327776e-04,\n",
              "         9.27604269e-04, -4.92171210e-04, -4.20964265e-04,  7.49286730e-04,\n",
              "        -5.55103121e-04,  5.88083312e-05, -6.08005561e-04, -4.64475597e-05,\n",
              "        -3.53505020e-05, -8.25126539e-04,  3.15324636e-04,  1.16904720e-03,\n",
              "        -2.89752097e-05, -5.02629555e-04,  1.49409330e-04,  4.91121085e-04,\n",
              "        -3.52909738e-05, -5.44088471e-05,  1.17765099e-03, -1.09109737e-04,\n",
              "         1.13169313e-03,  2.51001795e-04,  2.78603809e-04, -3.95898358e-04,\n",
              "        -1.86514328e-04,  2.42341543e-04, -7.76449277e-04, -2.86637485e-04,\n",
              "        -3.78277764e-04, -4.75933572e-04,  9.88395186e-04,  4.83090262e-04,\n",
              "        -6.90586807e-04,  3.66401247e-04, -1.39780156e-03, -1.29686855e-03,\n",
              "        -7.11873523e-04,  7.83355717e-05,  8.77750921e-04, -1.96987356e-04,\n",
              "         8.97056016e-04, -7.95556291e-04,  1.66914702e-04, -9.52486706e-04,\n",
              "        -1.05509891e-04, -1.18300109e-03,  1.73446839e-04,  1.84996228e-04,\n",
              "         8.00713606e-04,  1.19260440e-04,  5.47037343e-05, -7.58315378e-04,\n",
              "        -4.27997729e-04, -6.10464020e-04, -9.06895220e-05, -2.44288734e-04,\n",
              "         1.37217878e-03,  7.49774219e-04, -1.27521940e-04, -2.99271167e-04,\n",
              "         1.68770537e-04, -2.84251088e-04,  5.30258287e-04, -1.08972262e-03,\n",
              "         2.53731589e-04,  8.94922996e-05, -1.94784184e-03, -3.05409805e-04,\n",
              "        -1.38041622e-03, -2.65917450e-04, -2.22474104e-04, -8.18711938e-04,\n",
              "         2.55242230e-05, -1.52759108e-04,  1.80277799e-04, -2.91875738e-04,\n",
              "        -9.15393466e-04, -5.69009717e-05, -6.88586209e-04,  7.05531158e-04,\n",
              "         1.53497513e-03, -2.34703475e-04, -4.50626103e-04, -4.33724548e-04,\n",
              "        -1.43580278e-03, -1.06267445e-03,  1.75989443e-03,  3.20831052e-04,\n",
              "         8.90680996e-04,  1.86340185e-04,  1.14246059e-05,  5.55599327e-05,\n",
              "         6.63182815e-04,  1.53543195e-04,  9.23882908e-05, -3.44731554e-04,\n",
              "        -1.05651685e-04, -5.47937467e-04, -4.71226085e-05, -2.98225408e-04,\n",
              "        -3.80757265e-04, -4.07734828e-04, -8.42467067e-04, -7.99408299e-05,\n",
              "        -1.35683757e-03, -5.30244433e-04, -9.90942863e-05,  1.99721020e-04,\n",
              "         1.87906524e-04,  2.05061544e-04, -5.58790867e-04, -1.23844529e-03,\n",
              "        -9.52385250e-04, -9.71602916e-04, -1.70726678e-03, -5.94094396e-04,\n",
              "         9.75169474e-04, -1.71068459e-04,  6.98273885e-04,  1.76053180e-03,\n",
              "        -1.35594946e-05,  2.40274399e-04,  1.27155706e-03, -3.20872379e-04,\n",
              "         1.99554706e-04, -4.90907172e-04,  1.23997766e-03,  1.92549833e-05,\n",
              "         9.56371368e-04,  1.11610143e-05, -3.46410263e-04, -1.22662319e-03,\n",
              "         1.09682849e-03, -1.17085525e-04, -5.31251426e-05,  8.79707397e-04,\n",
              "        -4.84820048e-04,  9.84405633e-04,  5.17542474e-04, -7.59450704e-05,\n",
              "        -3.88814049e-04, -2.93560861e-05,  4.83740645e-04,  5.19860769e-04,\n",
              "        -1.42028555e-04, -2.84657319e-04,  7.67351652e-04,  6.09369963e-05,\n",
              "        -1.93413274e-04, -3.00885586e-04, -5.87515940e-04,  5.23096591e-04,\n",
              "        -5.01307601e-04, -7.57565780e-04,  5.86181704e-04, -7.38821516e-04,\n",
              "        -8.24727758e-04,  5.00884722e-04, -4.56866692e-04,  3.97695694e-04,\n",
              "        -2.99664505e-04,  2.72006466e-04, -6.38077734e-04,  3.17541359e-04,\n",
              "         8.78079969e-04,  2.72107369e-04,  3.84353043e-04, -1.57508708e-04,\n",
              "         3.01480643e-04, -9.29147529e-04, -7.25412450e-04,  9.86264087e-04,\n",
              "         3.20179446e-04, -5.68588846e-04, -1.51669869e-04,  7.06373772e-04,\n",
              "        -1.18808945e-04,  2.32516578e-03, -1.40206175e-04,  1.18928356e-03,\n",
              "         1.98270241e-03,  8.62794986e-04, -8.29456956e-04,  2.41460511e-04,\n",
              "         1.44300939e-04,  9.27535933e-04, -1.89448692e-05, -9.61985905e-04,\n",
              "         4.36364295e-04, -3.45003471e-04,  7.53728382e-05, -8.61435256e-04,\n",
              "        -5.00974304e-04, -1.73936089e-04, -1.17844471e-03, -8.75917845e-04,\n",
              "         5.41202957e-04, -1.04735598e-04,  9.26149252e-04, -5.14137617e-04,\n",
              "         4.19603108e-04, -3.72337905e-04, -1.19295786e-03, -1.31055503e-03,\n",
              "        -1.22974685e-04,  9.97227500e-04,  1.97460147e-04,  7.75302236e-04,\n",
              "        -2.20575821e-04, -6.54484436e-04,  5.27073513e-04,  1.00074649e-04,\n",
              "         4.68948565e-05, -1.17446070e-04, -5.44735463e-04, -3.69585992e-04,\n",
              "        -4.33647627e-04,  9.94331203e-04, -4.51269501e-04,  2.27028650e-05,\n",
              "         9.45040374e-04, -5.31988626e-04,  6.75308693e-05,  6.85289153e-04,\n",
              "        -2.69636337e-04, -3.24799301e-04,  1.19053286e-04,  3.92651360e-04,\n",
              "        -1.60344236e-04, -3.85986932e-05,  9.47596680e-04,  7.25654245e-04,\n",
              "        -1.51562388e-03, -1.64780696e-03,  4.71732783e-04, -8.38859472e-04,\n",
              "         3.09421099e-04, -1.82348784e-04,  4.64595360e-04,  8.51935838e-05,\n",
              "        -2.45285715e-04,  6.91642999e-05,  5.22261835e-04, -2.13626263e-04,\n",
              "        -1.19172945e-03, -5.57987660e-04,  6.72774855e-04, -1.24334439e-03,\n",
              "        -8.46337760e-04, -8.19740584e-04, -1.00450656e-04, -5.15226857e-04,\n",
              "         8.38591135e-04, -1.32449059e-04, -6.56169315e-04, -1.05618127e-03,\n",
              "         1.39008669e-04,  3.31765244e-04, -1.06851279e-04, -3.55322030e-04,\n",
              "         6.04671484e-04,  3.19860294e-04, -1.48171722e-03, -7.90031743e-04,\n",
              "         1.17107946e-03,  1.36046059e-04,  4.21956473e-04,  8.67889685e-06],\n",
              "       dtype=float32),\n",
              " array([0.00000000e+00, 0.00000000e+00, 0.00000000e+00, 0.00000000e+00,\n",
              "        0.00000000e+00, 0.00000000e+00, 0.00000000e+00, 0.00000000e+00,\n",
              "        0.00000000e+00, 0.00000000e+00, 0.00000000e+00, 0.00000000e+00,\n",
              "        5.59888935e-09, 1.06303560e-07, 1.04653004e-07, 4.36053460e-09,\n",
              "        0.00000000e+00, 0.00000000e+00, 0.00000000e+00, 0.00000000e+00,\n",
              "        0.00000000e+00, 0.00000000e+00, 0.00000000e+00, 0.00000000e+00,\n",
              "        0.00000000e+00, 0.00000000e+00, 0.00000000e+00, 0.00000000e+00,\n",
              "        0.00000000e+00, 0.00000000e+00, 0.00000000e+00, 0.00000000e+00,\n",
              "        2.20006109e-06, 6.69905921e-06, 3.14820674e-03, 1.99668426e-02,\n",
              "        3.99757959e-02, 1.12824328e-01, 3.32691133e-01, 3.53526622e-01,\n",
              "        3.56454015e-01, 1.96405947e-01, 1.45932779e-01, 1.25301108e-01,\n",
              "        2.65915185e-01, 1.93789855e-01, 9.53888074e-02, 4.89468761e-02,\n",
              "        4.03679758e-02, 3.09545081e-03, 6.09267177e-03, 8.34132917e-03,\n",
              "        0.00000000e+00, 0.00000000e+00, 0.00000000e+00, 0.00000000e+00,\n",
              "        0.00000000e+00, 0.00000000e+00, 2.61103565e-07, 1.81622227e-07,\n",
              "        4.95525834e-04, 1.68940667e-02, 1.40065774e-02, 6.98001161e-02,\n",
              "        2.21484542e-01, 5.86539030e-01, 1.14334512e+00, 1.79726183e+00,\n",
              "        2.20741129e+00, 2.50887322e+00, 2.78023505e+00, 3.02650380e+00,\n",
              "        3.34680033e+00, 3.07625318e+00, 2.83023596e+00, 2.08076882e+00,\n",
              "        1.00854552e+00, 4.03937578e-01, 1.74916461e-01, 4.86413389e-02,\n",
              "        1.40303439e-02, 6.93484116e-03, 0.00000000e+00, 0.00000000e+00,\n",
              "        0.00000000e+00, 0.00000000e+00, 2.80074048e-04, 1.08340493e-04,\n",
              "        2.29471992e-03, 7.63779655e-02, 1.62241757e-01, 4.47172076e-01,\n",
              "        1.14815676e+00, 2.59803796e+00, 4.19330215e+00, 6.21883917e+00,\n",
              "        7.73275280e+00, 9.43921280e+00, 1.15629864e+01, 1.30046492e+01,\n",
              "        1.26875458e+01, 1.12971687e+01, 9.21151257e+00, 6.50696039e+00,\n",
              "        3.98313618e+00, 2.04533696e+00, 8.07337582e-01, 2.42795244e-01,\n",
              "        1.10131383e-01, 3.79641913e-02, 8.95281206e-04, 0.00000000e+00,\n",
              "        0.00000000e+00, 1.41323362e-05, 2.31308164e-03, 5.01851458e-03,\n",
              "        3.63659672e-02, 3.01488072e-01, 8.69186819e-01, 2.32130647e+00,\n",
              "        5.08005714e+00, 9.30733967e+00, 1.47547140e+01, 2.10504379e+01,\n",
              "        2.77865372e+01, 3.55500565e+01, 4.18961868e+01, 4.43734055e+01,\n",
              "        4.35878639e+01, 3.71999741e+01, 2.93596554e+01, 2.22836819e+01,\n",
              "        1.44518099e+01, 8.33127975e+00, 4.63205767e+00, 1.96657586e+00,\n",
              "        8.06088328e-01, 3.28157127e-01, 1.07150458e-01, 1.02442037e-02,\n",
              "        0.00000000e+00, 0.00000000e+00, 1.57719571e-02, 3.52502763e-02,\n",
              "        3.51735741e-01, 1.39912927e+00, 3.67928886e+00, 7.74433136e+00,\n",
              "        1.43816643e+01, 2.33119736e+01, 3.42380257e+01, 4.62132072e+01,\n",
              "        5.99333305e+01, 7.44649506e+01, 8.49684753e+01, 8.92980881e+01,\n",
              "        8.66048813e+01, 7.56532516e+01, 6.14989777e+01, 4.67388458e+01,\n",
              "        3.32121162e+01, 2.05360641e+01, 1.17014847e+01, 6.43680477e+00,\n",
              "        3.13118148e+00, 9.78401661e-01, 1.65003806e-01, 1.52002797e-02,\n",
              "        0.00000000e+00, 3.55887023e-04, 2.68887244e-02, 1.63361788e-01,\n",
              "        1.14403057e+00, 3.12100673e+00, 7.56173992e+00, 1.51784172e+01,\n",
              "        2.61240482e+01, 3.94185028e+01, 5.52190361e+01, 7.13430557e+01,\n",
              "        8.98611145e+01, 1.07304977e+02, 1.18954636e+02, 1.23036041e+02,\n",
              "        1.20776421e+02, 1.07981964e+02, 9.06016312e+01, 7.08215637e+01,\n",
              "        5.23353767e+01, 3.49981537e+01, 2.09230137e+01, 1.18103523e+01,\n",
              "        5.67865849e+00, 2.01309085e+00, 3.23134452e-01, 1.93567183e-02,\n",
              "        6.89856228e-10, 1.93130746e-02, 1.75836116e-01, 7.04167902e-01,\n",
              "        2.34309840e+00, 6.01711273e+00, 1.29866476e+01, 2.37434807e+01,\n",
              "        3.83099861e+01, 5.60377731e+01, 7.48818817e+01, 9.47055664e+01,\n",
              "        1.12179268e+02, 1.25664772e+02, 1.32632965e+02, 1.34614670e+02,\n",
              "        1.33252914e+02, 1.25691071e+02, 1.10347893e+02, 8.96250000e+01,\n",
              "        6.66559372e+01, 4.53631859e+01, 2.80631313e+01, 1.52019968e+01,\n",
              "        6.91694450e+00, 2.68077517e+00, 4.26967084e-01, 3.96337211e-02,\n",
              "        1.31973890e-08, 8.33274350e-02, 5.26614368e-01, 1.65236366e+00,\n",
              "        3.91292477e+00, 8.98331642e+00, 1.73393211e+01, 3.10634575e+01,\n",
              "        4.86274185e+01, 6.93650284e+01, 8.99721680e+01, 1.08007286e+02,\n",
              "        1.19398308e+02, 1.23647568e+02, 1.22996078e+02, 1.22220154e+02,\n",
              "        1.23650017e+02, 1.23039345e+02, 1.15593353e+02, 9.82200317e+01,\n",
              "        7.39187317e+01, 5.07517815e+01, 3.09700832e+01, 1.59028959e+01,\n",
              "        6.82553148e+00, 2.49757147e+00, 4.69294667e-01, 1.39889987e-02,\n",
              "        6.09126873e-03, 9.62381139e-02, 6.82596684e-01, 2.04107738e+00,\n",
              "        4.56670523e+00, 9.78932953e+00, 2.00310097e+01, 3.54331436e+01,\n",
              "        5.56925888e+01, 7.77338638e+01, 9.85627518e+01, 1.10660561e+02,\n",
              "        1.10538284e+02, 1.04768295e+02, 9.92809219e+01, 9.99321899e+01,\n",
              "        1.05620728e+02, 1.11717865e+02, 1.11160690e+02, 9.74796906e+01,\n",
              "        7.42347870e+01, 5.06936226e+01, 3.06944332e+01, 1.53366861e+01,\n",
              "        5.72997665e+00, 1.73172140e+00, 3.45787346e-01, 2.10451223e-02,\n",
              "        1.45362401e-02, 1.83232471e-01, 6.88709974e-01, 1.90250361e+00,\n",
              "        4.43442106e+00, 1.01227922e+01, 2.07083397e+01, 3.71438026e+01,\n",
              "        5.85581856e+01, 8.16546936e+01, 9.96873016e+01, 1.02980736e+02,\n",
              "        9.27854385e+01, 8.17243271e+01, 7.96824799e+01, 8.51699371e+01,\n",
              "        9.45185699e+01, 1.04967857e+02, 1.06329453e+02, 9.24582062e+01,\n",
              "        7.02794724e+01, 4.78024712e+01, 2.81328487e+01, 1.35656939e+01,\n",
              "        4.56552696e+00, 9.14723933e-01, 1.78088143e-01, 1.27646653e-02,\n",
              "        9.98397078e-03, 1.43392697e-01, 5.68645418e-01, 1.42871952e+00,\n",
              "        3.90680647e+00, 9.92865944e+00, 2.09646645e+01, 3.98063927e+01,\n",
              "        6.24723701e+01, 8.55395355e+01, 9.80530624e+01, 9.43999329e+01,\n",
              "        7.96788864e+01, 7.15422668e+01, 7.60798569e+01, 8.59837341e+01,\n",
              "        9.82399445e+01, 1.08102844e+02, 1.05545174e+02, 8.85315933e+01,\n",
              "        6.48594131e+01, 4.25089340e+01, 2.51956081e+01, 1.30584650e+01,\n",
              "        4.18500566e+00, 6.18400574e-01, 1.14708759e-01, 8.87137651e-03,\n",
              "        6.17203629e-03, 1.54591324e-02, 2.78336942e-01, 1.10738111e+00,\n",
              "        3.47216749e+00, 9.65556622e+00, 2.20900631e+01, 4.32855606e+01,\n",
              "        6.75128937e+01, 8.82325974e+01, 9.76957855e+01, 9.10390015e+01,\n",
              "        7.93280106e+01, 7.94231415e+01, 9.00634613e+01, 1.03149078e+02,\n",
              "        1.14651588e+02, 1.18189484e+02, 1.08501556e+02, 8.59645691e+01,\n",
              "        5.89316902e+01, 3.83145447e+01, 2.42630100e+01, 1.35244226e+01,\n",
              "        4.50760841e+00, 5.62164307e-01, 7.60958493e-02, 2.70048942e-04,\n",
              "        2.85613373e-06, 5.97491395e-04, 1.27556309e-01, 9.22995090e-01,\n",
              "        3.38618588e+00, 1.07006769e+01, 2.50950375e+01, 4.75227737e+01,\n",
              "        7.20381622e+01, 9.11513596e+01, 9.73603592e+01, 9.14134750e+01,\n",
              "        8.71237793e+01, 9.73330536e+01, 1.11532692e+02, 1.24620277e+02,\n",
              "        1.30548523e+02, 1.27221725e+02, 1.11181534e+02, 8.30691147e+01,\n",
              "        5.50072136e+01, 3.71333733e+01, 2.46883793e+01, 1.45063868e+01,\n",
              "        5.40742779e+00, 8.53702605e-01, 1.00556180e-01, 3.82102677e-04,\n",
              "        9.47541790e-04, 2.41166708e-05, 6.60629049e-02, 6.36401534e-01,\n",
              "        3.62092686e+00, 1.25885983e+01, 2.79554958e+01, 4.99878883e+01,\n",
              "        7.38734055e+01, 9.12766800e+01, 9.62843857e+01, 9.36009598e+01,\n",
              "        9.83604736e+01, 1.15218285e+02, 1.29307007e+02, 1.38430298e+02,\n",
              "        1.36121277e+02, 1.28220444e+02, 1.09557556e+02, 8.15500031e+01,\n",
              "        5.64897041e+01, 3.92678108e+01, 2.62123413e+01, 1.51138010e+01,\n",
              "        6.35823441e+00, 1.06930888e+00, 8.11054111e-02, 3.88184089e-05,\n",
              "        6.94704358e-04, 3.95546194e-05, 5.41924126e-02, 4.71551061e-01,\n",
              "        3.68811679e+00, 1.45588923e+01, 2.99856567e+01, 5.07372131e+01,\n",
              "        7.10809326e+01, 8.70345535e+01, 9.21024857e+01, 9.51521912e+01,\n",
              "        1.04953781e+02, 1.21495140e+02, 1.33323456e+02, 1.36942581e+02,\n",
              "        1.30769028e+02, 1.20290466e+02, 1.02077972e+02, 8.05798492e+01,\n",
              "        5.94864960e+01, 4.21365166e+01, 2.74707088e+01, 1.48554726e+01,\n",
              "        6.39212465e+00, 1.13270378e+00, 1.18980080e-01, 9.67364106e-03,\n",
              "        2.19684117e-03, 1.18115144e-02, 6.48362190e-02, 6.14506423e-01,\n",
              "        4.43391991e+00, 1.63437939e+01, 3.14072285e+01, 4.97498741e+01,\n",
              "        6.62017593e+01, 7.85473480e+01, 8.37347031e+01, 8.83569870e+01,\n",
              "        9.89598465e+01, 1.11984398e+02, 1.23986824e+02, 1.25519783e+02,\n",
              "        1.19138367e+02, 1.09116997e+02, 9.50706024e+01, 7.95641251e+01,\n",
              "        6.15771027e+01, 4.31649284e+01, 2.68873138e+01, 1.39576721e+01,\n",
              "        5.72011089e+00, 1.14853728e+00, 1.48135751e-01, 1.57659687e-02,\n",
              "        0.00000000e+00, 8.01907852e-04, 7.69241303e-02, 9.62052464e-01,\n",
              "        5.73906136e+00, 1.77987022e+01, 3.23699226e+01, 4.82055817e+01,\n",
              "        6.04610100e+01, 6.86723328e+01, 7.31017532e+01, 7.83558426e+01,\n",
              "        8.68157501e+01, 9.95101089e+01, 1.10177963e+02, 1.11484573e+02,\n",
              "        1.08710030e+02, 1.02765877e+02, 9.30441589e+01, 7.90610580e+01,\n",
              "        6.03962097e+01, 4.12608604e+01, 2.46409359e+01, 1.24212227e+01,\n",
              "        5.11702013e+00, 1.52771878e+00, 2.96769768e-01, 3.23643647e-02,\n",
              "        5.77885544e-07, 2.37559492e-04, 1.58809707e-01, 1.36535585e+00,\n",
              "        6.94454002e+00, 1.98890171e+01, 3.40453949e+01, 4.80125237e+01,\n",
              "        5.77190094e+01, 6.51814957e+01, 7.08412323e+01, 7.50994644e+01,\n",
              "        8.07295380e+01, 9.36645126e+01, 1.04193695e+02, 1.08078842e+02,\n",
              "        1.08519669e+02, 1.03992310e+02, 9.42362518e+01, 7.81635742e+01,\n",
              "        5.71705856e+01, 3.82974281e+01, 2.27372913e+01, 1.13474293e+01,\n",
              "        4.64161205e+00, 1.40662932e+00, 2.65190870e-01, 2.97571234e-02,\n",
              "        2.73288902e-06, 2.84111768e-04, 2.07021251e-01, 1.78946364e+00,\n",
              "        7.93863487e+00, 2.08473454e+01, 3.66490746e+01, 5.02959023e+01,\n",
              "        6.17277908e+01, 7.15450439e+01, 7.81758652e+01, 8.27794037e+01,\n",
              "        8.96281662e+01, 1.00930054e+02, 1.10226227e+02, 1.14172791e+02,\n",
              "        1.13728607e+02, 1.06886009e+02, 9.30204163e+01, 7.23245239e+01,\n",
              "        5.02441406e+01, 3.29277611e+01, 1.92127991e+01, 9.38266277e+00,\n",
              "        3.88121700e+00, 1.08712173e+00, 1.65463030e-01, 1.35262692e-02,\n",
              "        0.00000000e+00, 1.21354368e-02, 1.47776306e-01, 2.01491642e+00,\n",
              "        7.51340961e+00, 1.94182758e+01, 3.55165596e+01, 5.24487381e+01,\n",
              "        6.83711166e+01, 8.09684372e+01, 9.08524933e+01, 9.80014496e+01,\n",
              "        1.07210381e+02, 1.16974342e+02, 1.23749977e+02, 1.23760071e+02,\n",
              "        1.17511887e+02, 1.03374657e+02, 8.32393951e+01, 6.03871574e+01,\n",
              "        4.04976883e+01, 2.53808346e+01, 1.44047394e+01, 7.06200314e+00,\n",
              "        3.12203526e+00, 7.46619880e-01, 6.53626770e-02, 1.61758601e-03,\n",
              "        1.55149475e-08, 8.89764912e-03, 1.45714417e-01, 1.71326053e+00,\n",
              "        6.10514402e+00, 1.56534262e+01, 3.11219559e+01, 5.01592484e+01,\n",
              "        7.00816269e+01, 8.71473694e+01, 1.01330475e+02, 1.13091713e+02,\n",
              "        1.23274841e+02, 1.30383194e+02, 1.31847626e+02, 1.24675247e+02,\n",
              "        1.10164055e+02, 8.96671524e+01, 6.59161530e+01, 4.48699532e+01,\n",
              "        2.82149467e+01, 1.67765865e+01, 8.94849205e+00, 4.47889423e+00,\n",
              "        2.14099312e+00, 4.44668055e-01, 7.00755715e-02, 1.70526516e-06,\n",
              "        1.50300874e-08, 4.56515962e-04, 8.54777470e-02, 1.01743186e+00,\n",
              "        3.68891692e+00, 9.88372135e+00, 2.24288540e+01, 4.04251251e+01,\n",
              "        6.11238098e+01, 8.09794617e+01, 9.93687973e+01, 1.13868034e+02,\n",
              "        1.23058655e+02, 1.25913513e+02, 1.21301628e+02, 1.07109505e+02,\n",
              "        8.82769623e+01, 6.65438995e+01, 4.56989822e+01, 2.89296074e+01,\n",
              "        1.67754230e+01, 9.09892368e+00, 4.81987667e+00, 2.41520858e+00,\n",
              "        9.89408493e-01, 1.78157225e-01, 3.86262387e-02, 3.14817999e-06,\n",
              "        0.00000000e+00, 0.00000000e+00, 3.73504199e-02, 4.45911795e-01,\n",
              "        1.85826445e+00, 4.74068165e+00, 1.16462612e+01, 2.38618355e+01,\n",
              "        4.05935020e+01, 5.94146233e+01, 7.71367416e+01, 9.12556763e+01,\n",
              "        9.90618744e+01, 9.84675140e+01, 8.78590393e+01, 7.41724396e+01,\n",
              "        5.75837593e+01, 4.11999016e+01, 2.65476379e+01, 1.58805475e+01,\n",
              "        8.39397717e+00, 4.29991770e+00, 2.40906096e+00, 1.20512271e+00,\n",
              "        3.63743097e-01, 2.48902142e-02, 1.78932888e-03, 0.00000000e+00,\n",
              "        0.00000000e+00, 0.00000000e+00, 1.25552462e-02, 8.09252113e-02,\n",
              "        6.08442783e-01, 1.61354661e+00, 4.19058895e+00, 8.92981434e+00,\n",
              "        1.69200020e+01, 2.68020630e+01, 3.74375801e+01, 4.59662247e+01,\n",
              "        5.01319656e+01, 4.92724190e+01, 4.42059593e+01, 3.64103851e+01,\n",
              "        2.77511826e+01, 1.97972450e+01, 1.24811106e+01, 7.55877876e+00,\n",
              "        3.81825423e+00, 1.95371854e+00, 1.08799946e+00, 5.58640242e-01,\n",
              "        9.17649567e-02, 9.22695175e-03, 3.80934210e-07, 0.00000000e+00,\n",
              "        0.00000000e+00, 0.00000000e+00, 1.76809356e-03, 6.58368412e-03,\n",
              "        1.43511429e-01, 3.74024153e-01, 1.32112527e+00, 3.11607385e+00,\n",
              "        5.92656565e+00, 9.63263226e+00, 1.38593388e+01, 1.73567543e+01,\n",
              "        1.85592556e+01, 1.84030533e+01, 1.59182043e+01, 1.35037880e+01,\n",
              "        1.09708080e+01, 8.29357624e+00, 5.56992769e+00, 3.31800246e+00,\n",
              "        1.55455279e+00, 6.94353282e-01, 3.13583910e-01, 1.52384773e-01,\n",
              "        4.83155549e-02, 1.01039780e-06, 4.03497978e-07, 0.00000000e+00,\n",
              "        0.00000000e+00, 0.00000000e+00, 0.00000000e+00, 1.10799877e-03,\n",
              "        2.45558992e-02, 2.04827547e-01, 6.84983909e-01, 1.15054297e+00,\n",
              "        2.02252197e+00, 3.05719781e+00, 4.29545689e+00, 5.73127985e+00,\n",
              "        6.60232162e+00, 6.65398264e+00, 5.59142351e+00, 4.66382647e+00,\n",
              "        3.73667455e+00, 2.82598376e+00, 1.89704430e+00, 8.71073365e-01,\n",
              "        4.11519498e-01, 2.67917454e-01, 9.73209888e-02, 1.16865123e-02,\n",
              "        1.93658588e-03, 1.92752077e-06, 0.00000000e+00, 0.00000000e+00,\n",
              "        0.00000000e+00, 0.00000000e+00, 0.00000000e+00, 0.00000000e+00,\n",
              "        9.95673417e-06, 6.10002171e-05, 1.55774620e-03, 7.19799176e-02,\n",
              "        1.15869671e-01, 1.70880303e-01, 3.41776520e-01, 4.57262784e-01,\n",
              "        6.48638248e-01, 6.66726053e-01, 6.41919255e-01, 6.05499625e-01,\n",
              "        4.36662614e-01, 3.21706533e-01, 1.94888264e-01, 7.26953298e-02,\n",
              "        2.52307802e-02, 2.42912630e-03, 2.88637690e-02, 4.38178693e-09,\n",
              "        0.00000000e+00, 0.00000000e+00, 0.00000000e+00, 0.00000000e+00],\n",
              "       dtype=float32),\n",
              " array([1.17198604e-36, 1.17198604e-36, 1.17198604e-36, 1.17198604e-36,\n",
              "        1.17198604e-36, 1.17198604e-36, 1.17198604e-36, 1.17198604e-36,\n",
              "        1.17198604e-36, 1.17198604e-36, 1.17198604e-36, 1.17198604e-36,\n",
              "        1.31648548e-07, 2.23048137e-05, 2.18986424e-05, 3.80185092e-08,\n",
              "        1.17198604e-36, 1.17198604e-36, 1.17198604e-36, 1.17198604e-36,\n",
              "        1.17198604e-36, 1.17198604e-36, 1.17198604e-36, 1.17198604e-36,\n",
              "        1.17198604e-36, 1.17198604e-36, 1.17198604e-36, 1.17198604e-36,\n",
              "        1.17198604e-36, 1.17198604e-36, 1.17198604e-36, 1.17198604e-36,\n",
              "        3.41009290e-05, 2.96085229e-04, 2.03796282e-01, 3.44278860e+00,\n",
              "        8.58663464e+00, 1.60986252e+01, 7.16599731e+01, 5.63532219e+01,\n",
              "        7.20816727e+01, 2.97736645e+01, 2.41362095e+01, 2.69379921e+01,\n",
              "        5.27670097e+01, 3.39296303e+01, 1.95476303e+01, 7.47133064e+00,\n",
              "        8.48696423e+00, 1.19204186e-01, 8.37084234e-01, 1.59014606e+00,\n",
              "        1.17198604e-36, 1.17198604e-36, 1.17198604e-36, 1.17198604e-36,\n",
              "        1.17198604e-36, 1.17198604e-36, 1.61884127e-05, 2.54309361e-06,\n",
              "        1.26242591e-02, 9.58847642e-01, 1.70522833e+00, 8.93722630e+00,\n",
              "        4.19883194e+01, 9.97123642e+01, 2.13066483e+02, 3.42174377e+02,\n",
              "        4.04774902e+02, 4.72617065e+02, 5.10557220e+02, 5.30841125e+02,\n",
              "        6.32755127e+02, 5.80719055e+02, 5.40987000e+02, 4.12839050e+02,\n",
              "        1.77868973e+02, 7.61693497e+01, 2.83218517e+01, 7.25074339e+00,\n",
              "        2.56246781e+00, 8.69738817e-01, 1.17198604e-36, 1.17198604e-36,\n",
              "        1.17198604e-36, 1.17198604e-36, 1.14506632e-02, 1.76730612e-03,\n",
              "        1.50053293e-01, 1.36636391e+01, 2.82409172e+01, 7.50630646e+01,\n",
              "        1.91395538e+02, 4.85185333e+02, 7.85870422e+02, 1.19610510e+03,\n",
              "        1.43569312e+03, 1.74239502e+03, 2.14149097e+03, 2.45398413e+03,\n",
              "        2.32219995e+03, 2.09768921e+03, 1.73279053e+03, 1.22594690e+03,\n",
              "        7.21465637e+02, 3.76466583e+02, 1.30597672e+02, 4.45171204e+01,\n",
              "        1.61907215e+01, 3.17842627e+00, 1.04590543e-01, 1.17198604e-36,\n",
              "        1.17198604e-36, 5.20247035e-04, 1.75702184e-01, 2.40046382e-01,\n",
              "        2.81105566e+00, 4.34486389e+01, 1.26705276e+02, 3.83519836e+02,\n",
              "        8.98389709e+02, 1.69615503e+03, 2.63422266e+03, 3.73316260e+03,\n",
              "        4.76478760e+03, 5.88293799e+03, 6.74136328e+03, 7.14841406e+03,\n",
              "        6.95695508e+03, 6.11750000e+03, 5.05263086e+03, 3.89034448e+03,\n",
              "        2.59282178e+03, 1.49836755e+03, 8.31025330e+02, 3.44137299e+02,\n",
              "        1.32774490e+02, 6.00797653e+01, 1.68456383e+01, 6.25216603e-01,\n",
              "        1.17198604e-36, 1.17198604e-36, 1.44073510e+00, 5.85685682e+00,\n",
              "        4.80181503e+01, 2.44273193e+02, 6.55160767e+02, 1.39506335e+03,\n",
              "        2.61547656e+03, 4.08479980e+03, 5.76610889e+03, 7.44968457e+03,\n",
              "        8.98860254e+03, 1.03773672e+04, 1.11798828e+04, 1.14337061e+04,\n",
              "        1.10863857e+04, 1.02642373e+04, 9.05523535e+03, 7.45641797e+03,\n",
              "        5.62656055e+03, 3.53502197e+03, 2.08369263e+03, 1.12842456e+03,\n",
              "        5.44265442e+02, 1.40180176e+02, 2.35891228e+01, 1.36857033e+00,\n",
              "        1.17198604e-36, 1.37906917e-03, 2.58851147e+00, 2.07874889e+01,\n",
              "        2.12396164e+02, 5.55508362e+02, 1.37398669e+03, 2.69976196e+03,\n",
              "        4.56873828e+03, 6.54386670e+03, 8.50900098e+03, 1.00022451e+04,\n",
              "        1.11815576e+04, 1.19968535e+04, 1.22401943e+04, 1.23772373e+04,\n",
              "        1.23166699e+04, 1.20650850e+04, 1.13045283e+04, 1.01159541e+04,\n",
              "        8.26750879e+03, 5.84474658e+03, 3.70368945e+03, 2.12214990e+03,\n",
              "        1.02040265e+03, 3.35691315e+02, 5.12891464e+01, 1.47688103e+00,\n",
              "        3.14100284e-08, 1.01168585e+00, 2.88682899e+01, 1.26149757e+02,\n",
              "        4.13951660e+02, 1.06850317e+03, 2.31476001e+03, 4.17941406e+03,\n",
              "        6.43724219e+03, 8.53190332e+03, 1.00431260e+04, 1.11912627e+04,\n",
              "        1.17593350e+04, 1.18732227e+04, 1.19091064e+04, 1.18043398e+04,\n",
              "        1.18513398e+04, 1.19237148e+04, 1.18804600e+04, 1.12548262e+04,\n",
              "        9.62442285e+03, 7.33939551e+03, 4.86272705e+03, 2.68040503e+03,\n",
              "        1.20702979e+03, 4.28403595e+02, 6.26429329e+01, 5.61934996e+00,\n",
              "        1.05238917e-06, 1.33043556e+01, 1.02411613e+02, 2.99078552e+02,\n",
              "        7.18013245e+02, 1.66254895e+03, 3.13607349e+03, 5.36980908e+03,\n",
              "        7.67224023e+03, 9.81603418e+03, 1.10961270e+04, 1.17305723e+04,\n",
              "        1.20903008e+04, 1.19241367e+04, 1.19075273e+04, 1.18030205e+04,\n",
              "        1.17903984e+04, 1.19394912e+04, 1.19982021e+04, 1.16250225e+04,\n",
              "        1.01976504e+04, 8.08174854e+03, 5.34355176e+03, 2.80659570e+03,\n",
              "        1.20035815e+03, 4.32547485e+02, 7.96417236e+01, 1.41954374e+00,\n",
              "        4.62617993e-01, 1.09153156e+01, 1.28831223e+02, 4.04776703e+02,\n",
              "        8.73152710e+02, 1.77465442e+03, 3.58811230e+03, 6.11317725e+03,\n",
              "        8.63769043e+03, 1.05262139e+04, 1.17018486e+04, 1.20957979e+04,\n",
              "        1.19263643e+04, 1.16164111e+04, 1.14090703e+04, 1.14819619e+04,\n",
              "        1.15271582e+04, 1.18667051e+04, 1.19365293e+04, 1.17222715e+04,\n",
              "        1.03041426e+04, 8.11051660e+03, 5.35247754e+03, 2.67983203e+03,\n",
              "        9.75202759e+02, 2.87766815e+02, 5.33475914e+01, 3.63891840e+00,\n",
              "        2.60776639e+00, 3.94611359e+01, 1.35407883e+02, 3.64040375e+02,\n",
              "        8.33346924e+02, 1.85545715e+03, 3.79505322e+03, 6.28361621e+03,\n",
              "        8.93516797e+03, 1.06866934e+04, 1.17023164e+04, 1.19634961e+04,\n",
              "        1.12776055e+04, 1.04363857e+04, 1.02939258e+04, 1.07382266e+04,\n",
              "        1.11065830e+04, 1.16903936e+04, 1.17536230e+04, 1.14883779e+04,\n",
              "        1.00391426e+04, 7.79962012e+03, 4.92777002e+03, 2.42257153e+03,\n",
              "        7.76424316e+02, 1.51079895e+02, 3.14552670e+01, 1.02921581e+00,\n",
              "        1.05438077e+00, 2.74787731e+01, 1.05510567e+02, 2.65894775e+02,\n",
              "        7.30042603e+02, 1.80154492e+03, 3.79903638e+03, 6.56705811e+03,\n",
              "        9.33479883e+03, 1.09309043e+04, 1.17681465e+04, 1.15209111e+04,\n",
              "        1.02676562e+04, 9.48904395e+03, 1.01700664e+04, 1.09901816e+04,\n",
              "        1.13044990e+04, 1.17039912e+04, 1.18087754e+04, 1.13851289e+04,\n",
              "        9.43047949e+03, 7.01170801e+03, 4.55935059e+03, 2.41713062e+03,\n",
              "        6.81981079e+02, 1.05086647e+02, 1.39927092e+01, 9.54254866e-01,\n",
              "        9.74602699e-01, 1.25853467e+00, 5.21653137e+01, 2.01417511e+02,\n",
              "        6.49132080e+02, 1.80078723e+03, 3.92703198e+03, 7.08891504e+03,\n",
              "        9.87880566e+03, 1.13583691e+04, 1.18221670e+04, 1.12366592e+04,\n",
              "        1.04770391e+04, 1.02885732e+04, 1.15413691e+04, 1.19033994e+04,\n",
              "        1.18100137e+04, 1.19769932e+04, 1.20366338e+04, 1.11475088e+04,\n",
              "        8.66851758e+03, 6.48967725e+03, 4.45278467e+03, 2.56974561e+03,\n",
              "        7.62197021e+02, 8.67952805e+01, 1.67539196e+01, 2.73964200e-02,\n",
              "        8.85401678e-05, 2.41100565e-02, 2.82532845e+01, 1.76297623e+02,\n",
              "        6.46699158e+02, 1.95543213e+03, 4.40597266e+03, 7.71722607e+03,\n",
              "        1.03510469e+04, 1.15834990e+04, 1.17844150e+04, 1.13593477e+04,\n",
              "        1.09563857e+04, 1.13776553e+04, 1.24547979e+04, 1.20571367e+04,\n",
              "        1.17225293e+04, 1.21339180e+04, 1.21507900e+04, 1.07880879e+04,\n",
              "        8.25676855e+03, 6.35069727e+03, 4.52862354e+03, 2.76990698e+03,\n",
              "        9.93765869e+02, 1.44488144e+02, 1.40890846e+01, 7.72037953e-02,\n",
              "        1.03726201e-01, 2.08004215e-03, 6.95342255e+00, 1.09150421e+02,\n",
              "        6.72599426e+02, 2.31320093e+03, 4.97594434e+03, 8.19843164e+03,\n",
              "        1.05625146e+04, 1.16771348e+04, 1.17342725e+04, 1.14866709e+04,\n",
              "        1.13300420e+04, 1.21447578e+04, 1.25133799e+04, 1.16014404e+04,\n",
              "        1.17622559e+04, 1.20986875e+04, 1.20330625e+04, 1.07679307e+04,\n",
              "        8.55966016e+03, 6.67093896e+03, 4.76472607e+03, 2.85840381e+03,\n",
              "        1.20250562e+03, 1.74538345e+02, 8.57742310e+00, 1.11883471e-03,\n",
              "        1.37278112e-02, 8.65962263e-03, 8.25374317e+00, 8.14941406e+01,\n",
              "        6.15579163e+02, 2.70556348e+03, 5.33355518e+03, 8.21153906e+03,\n",
              "        1.02638340e+04, 1.14410801e+04, 1.14770459e+04, 1.14697695e+04,\n",
              "        1.15763799e+04, 1.21707324e+04, 1.21527773e+04, 1.16570479e+04,\n",
              "        1.20689287e+04, 1.22310322e+04, 1.15951055e+04, 1.07945303e+04,\n",
              "        8.91295508e+03, 7.13941064e+03, 4.92199561e+03, 2.73659570e+03,\n",
              "        1.19133667e+03, 1.82662827e+02, 1.81986942e+01, 8.82214785e-01,\n",
              "        8.51275548e-02, 1.05059814e+00, 1.25174561e+01, 9.34143829e+01,\n",
              "        7.66274597e+02, 3.03410400e+03, 5.54446826e+03, 8.13758936e+03,\n",
              "        9.81263184e+03, 1.07369141e+04, 1.09043916e+04, 1.10504766e+04,\n",
              "        1.16339766e+04, 1.21820010e+04, 1.22649736e+04, 1.21559658e+04,\n",
              "        1.21985527e+04, 1.18591768e+04, 1.13595928e+04, 1.07019082e+04,\n",
              "        9.16573730e+03, 7.23225732e+03, 4.78418262e+03, 2.55977148e+03,\n",
              "        1.05113013e+03, 1.95546143e+02, 1.98919411e+01, 1.18705821e+00,\n",
              "        1.17198604e-36, 1.93179045e-02, 1.42442427e+01, 1.58867630e+02,\n",
              "        1.05573242e+03, 3.27173169e+03, 5.73178174e+03, 7.85851709e+03,\n",
              "        9.24862988e+03, 9.94156934e+03, 1.00897266e+04, 1.04987402e+04,\n",
              "        1.11160508e+04, 1.16542676e+04, 1.20823086e+04, 1.20482178e+04,\n",
              "        1.19194141e+04, 1.15250088e+04, 1.12868086e+04, 1.07344590e+04,\n",
              "        9.13663574e+03, 6.91818506e+03, 4.37167432e+03, 2.25791675e+03,\n",
              "        8.99003113e+02, 2.65876129e+02, 5.26561813e+01, 3.19741726e+00,\n",
              "        3.14489512e-06, 2.17602607e-02, 2.67363815e+01, 2.42437042e+02,\n",
              "        1.27442542e+03, 3.66642407e+03, 5.98589502e+03, 7.85007129e+03,\n",
              "        8.95097852e+03, 9.60815332e+03, 1.01765645e+04, 1.04726504e+04,\n",
              "        1.07871670e+04, 1.14103730e+04, 1.19641279e+04, 1.18801670e+04,\n",
              "        1.18550820e+04, 1.16901475e+04, 1.15550029e+04, 1.07809053e+04,\n",
              "        8.87529102e+03, 6.48482520e+03, 4.04732056e+03, 2.05254932e+03,\n",
              "        8.26327087e+02, 2.54476746e+02, 5.18418579e+01, 3.28622413e+00,\n",
              "        3.97122931e-05, 3.12876254e-02, 4.02519760e+01, 3.37465912e+02,\n",
              "        1.48077209e+03, 3.89476367e+03, 6.41416650e+03, 8.16823535e+03,\n",
              "        9.39856348e+03, 1.03120898e+04, 1.08523066e+04, 1.10064883e+04,\n",
              "        1.12661406e+04, 1.17646230e+04, 1.19801318e+04, 1.18105186e+04,\n",
              "        1.17861309e+04, 1.19783604e+04, 1.16240244e+04, 1.01801992e+04,\n",
              "        8.08504443e+03, 5.78368262e+03, 3.47524731e+03, 1.71020056e+03,\n",
              "        7.09603210e+02, 1.87956406e+02, 2.95488605e+01, 6.88053727e-01,\n",
              "        1.17198604e-36, 2.16888928e+00, 2.26747665e+01, 3.76911255e+02,\n",
              "        1.45568018e+03, 3.57775977e+03, 6.19461182e+03, 8.47917871e+03,\n",
              "        1.00735557e+04, 1.09572275e+04, 1.15737197e+04, 1.18222344e+04,\n",
              "        1.20720469e+04, 1.19840176e+04, 1.20581006e+04, 1.19893057e+04,\n",
              "        1.19630996e+04, 1.18531289e+04, 1.09817549e+04, 9.08389648e+03,\n",
              "        6.73361621e+03, 4.57511621e+03, 2.63173535e+03, 1.30327454e+03,\n",
              "        5.57968994e+02, 1.10868202e+02, 7.02457952e+00, 7.99130052e-02,\n",
              "        4.80962797e-07, 1.17006576e+00, 2.73313370e+01, 2.99425873e+02,\n",
              "        1.12920581e+03, 2.86884668e+03, 5.48649512e+03, 8.14601758e+03,\n",
              "        1.02566172e+04, 1.14378516e+04, 1.19083193e+04, 1.21249717e+04,\n",
              "        1.20305791e+04, 1.18464492e+04, 1.19580996e+04, 1.19650615e+04,\n",
              "        1.18814668e+04, 1.11762012e+04, 9.59831250e+03, 7.29595215e+03,\n",
              "        4.98680566e+03, 3.02590942e+03, 1.62047803e+03, 8.22793884e+02,\n",
              "        3.77297974e+02, 7.30289078e+01, 8.89872074e+00, 6.44269458e-05,\n",
              "        4.51373296e-07, 3.10374028e-03, 1.57953787e+01, 1.56942230e+02,\n",
              "        6.55685303e+02, 1.73103809e+03, 3.88276514e+03, 6.68165234e+03,\n",
              "        9.39257520e+03, 1.11680312e+04, 1.20199941e+04, 1.22210859e+04,\n",
              "        1.21404521e+04, 1.21594131e+04, 1.21520986e+04, 1.18027656e+04,\n",
              "        1.10456553e+04, 9.56725195e+03, 7.39356055e+03, 4.98296191e+03,\n",
              "        2.98643896e+03, 1.62317786e+03, 8.98722656e+02, 4.50387970e+02,\n",
              "        1.56594208e+02, 2.17164135e+01, 4.93179321e+00, 2.19585607e-04,\n",
              "        1.17198604e-36, 1.17198604e-36, 4.90302849e+00, 6.12053108e+01,\n",
              "        3.23180786e+02, 8.32702332e+02, 2.01831409e+03, 4.05877490e+03,\n",
              "        6.56209521e+03, 9.07625781e+03, 1.06212520e+04, 1.15080664e+04,\n",
              "        1.17948330e+04, 1.15813252e+04, 1.09731367e+04, 1.01246836e+04,\n",
              "        8.58941406e+03, 6.67773389e+03, 4.59596973e+03, 2.79161304e+03,\n",
              "        1.49222229e+03, 7.67847900e+02, 4.42404144e+02, 2.19981277e+02,\n",
              "        5.89176369e+01, 3.32285452e+00, 1.07184693e-01, 1.17198604e-36,\n",
              "        1.17198604e-36, 1.17198604e-36, 1.94628978e+00, 1.09615297e+01,\n",
              "        9.16512222e+01, 2.88669952e+02, 7.28098633e+02, 1.59796838e+03,\n",
              "        2.98442798e+03, 4.65129932e+03, 6.26180615e+03, 7.44831201e+03,\n",
              "        7.86956787e+03, 7.80965869e+03, 7.09092432e+03, 5.96223535e+03,\n",
              "        4.68811084e+03, 3.47382446e+03, 2.24877100e+03, 1.40300793e+03,\n",
              "        6.67524719e+02, 3.56088135e+02, 1.97790405e+02, 9.21625366e+01,\n",
              "        1.25392761e+01, 7.85453856e-01, 3.61096209e-05, 1.17198604e-36,\n",
              "        1.17198604e-36, 1.17198604e-36, 4.94126864e-02, 8.07651997e-01,\n",
              "        2.62938614e+01, 6.16011581e+01, 2.29730392e+02, 5.91460754e+02,\n",
              "        1.12514856e+03, 1.84113538e+03, 2.65031396e+03, 3.20358740e+03,\n",
              "        3.43409277e+03, 3.43398877e+03, 2.85985889e+03, 2.47063623e+03,\n",
              "        2.06772852e+03, 1.54211499e+03, 1.07547119e+03, 6.19035339e+02,\n",
              "        2.88282227e+02, 1.26431000e+02, 5.34431725e+01, 2.21444607e+01,\n",
              "        6.71181583e+00, 1.11230787e-04, 4.06525032e-05, 1.17198604e-36,\n",
              "        1.17198604e-36, 1.17198604e-36, 1.17198604e-36, 4.07882370e-02,\n",
              "        4.71642303e+00, 3.06634827e+01, 1.37644348e+02, 2.15959381e+02,\n",
              "        3.87645203e+02, 5.61320984e+02, 8.04956726e+02, 1.05480688e+03,\n",
              "        1.23157312e+03, 1.25437244e+03, 1.02221149e+03, 8.50409851e+02,\n",
              "        7.09165039e+02, 5.12090820e+02, 3.56559296e+02, 1.62382675e+02,\n",
              "        7.93679276e+01, 5.11218872e+01, 1.52266874e+01, 1.11782670e+00,\n",
              "        5.02569824e-02, 1.10170062e-04, 1.17198604e-36, 1.17198604e-36,\n",
              "        1.17198604e-36, 1.17198604e-36, 1.17198604e-36, 1.17198604e-36,\n",
              "        6.95269322e-04, 1.02356523e-02, 8.36664885e-02, 1.38128471e+01,\n",
              "        1.79137783e+01, 3.23403664e+01, 5.63783112e+01, 8.47037277e+01,\n",
              "        1.20754684e+02, 1.11041321e+02, 1.15035904e+02, 1.17095810e+02,\n",
              "        6.95258331e+01, 5.91797485e+01, 3.40098076e+01, 1.37559996e+01,\n",
              "        1.63548267e+00, 7.58623555e-02, 4.30182219e+00, 2.46886231e-07,\n",
              "        1.17198604e-36, 1.17198604e-36, 1.17198604e-36, 1.17198604e-36],\n",
              "       dtype=float32),\n",
              " array([[-0.06087761,  0.04237816, -0.07681239, ..., -0.01042919,\n",
              "          0.05277896,  0.05456151],\n",
              "        [-0.04937775,  0.0007392 ,  0.06482202, ...,  0.07368945,\n",
              "         -0.05592574, -0.02915327],\n",
              "        [-0.02461756,  0.02065931, -0.01167561, ..., -0.04756713,\n",
              "          0.07003362, -0.02627953],\n",
              "        ...,\n",
              "        [-0.01584289,  0.00249059, -0.00316912, ..., -0.00243726,\n",
              "          0.07705791,  0.06729646],\n",
              "        [ 0.03194606,  0.07607056, -0.04483726, ..., -0.05373714,\n",
              "         -0.03099794,  0.00162484],\n",
              "        [ 0.00800806, -0.06165862,  0.00908293, ...,  0.03820886,\n",
              "          0.02723932, -0.0635487 ]], dtype=float32),\n",
              " array([-6.38632337e-04,  3.18768551e-04, -8.73991812e-04, -3.63871310e-04,\n",
              "        -1.19527824e-04,  3.18021572e-04, -3.86862303e-05,  1.12043032e-04,\n",
              "        -1.37739896e-03, -1.16336357e-03, -7.32290267e-04,  4.12912166e-04,\n",
              "        -7.77028326e-05,  2.33092331e-04, -3.39243183e-04,  3.48216359e-04,\n",
              "        -1.80683855e-04, -8.77475948e-04, -1.16391362e-04,  6.71596557e-04,\n",
              "         7.83259922e-04,  3.58048652e-04, -1.60268322e-03,  4.83062060e-04,\n",
              "         2.40910376e-04,  3.79702717e-04, -2.25742024e-05,  1.26051691e-05,\n",
              "        -5.06827550e-04, -1.09293114e-03, -1.18389726e-03, -4.34759364e-04,\n",
              "        -2.29093057e-04, -1.26423046e-03, -4.31768451e-04, -1.84399949e-03,\n",
              "        -4.98122477e-04, -2.25351818e-04, -2.45548342e-03,  7.29894091e-04,\n",
              "        -1.13000965e-03, -2.58061540e-04,  7.97484827e-04, -5.27890261e-05,\n",
              "        -1.05773308e-03,  4.36375238e-04, -2.37471354e-03, -1.24188419e-03,\n",
              "         5.16956148e-04, -1.46639033e-03, -1.88952094e-04,  1.41315686e-03,\n",
              "        -1.90074003e-04, -4.83413547e-04, -3.48396075e-04,  1.11038433e-04,\n",
              "         3.41422681e-04, -1.75122084e-04,  1.88198581e-04, -4.11636487e-04,\n",
              "        -1.96773268e-04, -9.54228686e-04, -9.92622445e-05, -8.78623629e-04,\n",
              "        -6.65525382e-04,  9.40781552e-04, -9.58507240e-04,  1.71056759e-04,\n",
              "         3.19253770e-04, -2.00387251e-04, -1.48529280e-03, -1.12746831e-03,\n",
              "        -7.51926040e-04,  4.92582447e-04,  4.01983532e-04, -3.19127488e-04,\n",
              "        -8.41360525e-05, -8.47349875e-04,  6.14113873e-04,  4.50805121e-04,\n",
              "         3.88180430e-04,  1.13300199e-03, -9.20384889e-04, -1.03143591e-03,\n",
              "        -1.19009300e-03, -1.27076369e-03, -5.33965474e-04, -1.92058156e-03,\n",
              "        -1.03418552e-03,  2.32555773e-04, -1.31991284e-03,  1.21687066e-04,\n",
              "         1.28591026e-03,  1.44573301e-03,  2.58012977e-03,  8.62735033e-04,\n",
              "        -2.79969216e-04, -2.09476799e-03, -7.00957200e-04, -7.08192645e-04,\n",
              "         1.03176944e-03,  7.08037114e-04, -1.00600813e-03, -7.33612978e-04,\n",
              "        -8.23208073e-04, -6.99478143e-04, -1.77798350e-03, -3.11637035e-04,\n",
              "        -7.50459905e-04,  2.75115541e-04,  1.38220587e-03, -2.80567002e-03,\n",
              "        -1.21223880e-03, -6.94260059e-04, -1.07585511e-03, -6.09302078e-04,\n",
              "         6.55340147e-04, -1.07342354e-03, -1.38222054e-03, -1.00321032e-03,\n",
              "         1.46093324e-03,  1.37098436e-03, -8.73800454e-05,  4.49040381e-04,\n",
              "         4.31932509e-04, -5.88990457e-04,  2.04994954e-04,  1.08138367e-03,\n",
              "         1.01720405e-04, -9.31424729e-04, -1.84859673e-04,  3.32305732e-04,\n",
              "         1.12249830e-03, -7.92523904e-04,  1.09825407e-04, -2.47381208e-03,\n",
              "        -1.12588576e-03, -2.22408050e-03, -6.77228556e-04, -3.12734774e-04,\n",
              "        -8.64407455e-04,  2.64843111e-03, -2.38412787e-04, -3.03008623e-04,\n",
              "        -7.74573011e-04,  1.46675375e-04, -2.13927458e-04, -1.72527623e-03,\n",
              "        -4.16919531e-04, -8.36853578e-04, -5.39581175e-04,  2.40062771e-04,\n",
              "        -1.78361812e-03, -5.08766214e-04,  9.47861263e-05,  1.69342311e-04,\n",
              "        -1.50244322e-03, -5.13737381e-04, -4.40626231e-04,  1.32290908e-04,\n",
              "         2.11318280e-03, -5.78487874e-04,  8.32388992e-04, -5.50712924e-04,\n",
              "         2.13668260e-04, -1.11768092e-03, -5.59724402e-04,  7.77109177e-04,\n",
              "         6.10823510e-04, -3.51930415e-04, -4.03573562e-04, -6.99312368e-04,\n",
              "         6.56031829e-04,  4.74688713e-04,  8.05822259e-04, -3.76030686e-04,\n",
              "        -1.12082483e-03,  9.68537293e-04, -7.82678253e-04, -1.42412819e-03,\n",
              "         6.30286668e-05, -8.92034906e-04, -1.22048170e-03,  3.68183508e-04,\n",
              "        -1.08678325e-03, -7.53787754e-04, -2.04349853e-04,  5.69764350e-04,\n",
              "         1.40019250e-03, -3.38188908e-03,  2.65315815e-04,  1.65838841e-03,\n",
              "        -4.22664598e-04, -3.06941423e-04, -5.75793034e-04,  1.77497583e-04,\n",
              "        -2.35485286e-03, -7.68191356e-04,  2.31682803e-04,  5.48674259e-04],\n",
              "       dtype=float32),\n",
              " array([[ 0.0362297 , -0.09719513,  0.05036961, ..., -0.12519474,\n",
              "          0.01282079, -0.1253552 ],\n",
              "        [-0.12002192, -0.13127948, -0.11818599, ...,  0.0543621 ,\n",
              "         -0.12098847, -0.04891731],\n",
              "        [ 0.08000299,  0.04675317,  0.0108373 , ..., -0.134931  ,\n",
              "          0.10191092, -0.12947814],\n",
              "        ...,\n",
              "        [-0.13671081, -0.10081474,  0.07710319, ...,  0.09565724,\n",
              "          0.08660121, -0.00916648],\n",
              "        [ 0.00728715, -0.12339027, -0.08921696, ...,  0.02608837,\n",
              "          0.08326306,  0.11267695],\n",
              "        [ 0.04935809,  0.01474253, -0.02989784, ..., -0.04842955,\n",
              "          0.0644483 ,  0.00085229]], dtype=float32),\n",
              " array([-2.8422116e-03,  9.1953727e-04, -3.4349475e-03, -2.0103806e-03,\n",
              "         1.7919780e-03, -4.2060795e-03,  5.6572986e-04,  1.7957906e-03,\n",
              "        -3.5568312e-04, -3.6535875e-03,  8.9780724e-06, -8.4207393e-03,\n",
              "         1.2556443e-03,  1.4178590e-03,  1.9103410e-03, -2.4462121e-03,\n",
              "         3.3851664e-03, -1.2589748e-03,  1.7929884e-03,  2.9490744e-03,\n",
              "         7.0080167e-04,  1.3833730e-03, -2.9147607e-03,  1.0933490e-03,\n",
              "        -9.6750315e-05, -2.0041983e-03, -7.1886270e-03,  5.5918546e-04,\n",
              "         2.4718414e-03,  1.8053756e-03, -3.1450733e-03, -3.0525145e-03,\n",
              "        -2.1576753e-03, -3.6887233e-03, -7.6938383e-03, -2.3915737e-03,\n",
              "         4.0501431e-03, -5.9082848e-04,  5.2075204e-04, -2.0731515e-03,\n",
              "         1.3401564e-03, -5.1790951e-03, -7.4837741e-04,  5.4735574e-03,\n",
              "        -5.1583513e-03,  1.1317194e-03,  1.7515821e-03, -9.5290942e-03,\n",
              "        -2.5498059e-03, -3.1590930e-03, -1.0535173e-03,  1.5985869e-03,\n",
              "        -5.2217338e-03,  1.9208249e-03,  6.9945725e-04,  3.2761134e-03,\n",
              "         2.0075605e-04, -3.6672663e-03, -8.9217797e-03,  8.9757942e-04,\n",
              "         4.1550840e-03, -2.3228864e-03,  2.4027911e-03, -1.1539921e-03,\n",
              "        -2.5965744e-03, -3.3523028e-03,  9.3276636e-04, -4.1566584e-03,\n",
              "        -5.2595563e-04,  4.7772494e-03, -5.9832574e-04, -1.4998112e-03,\n",
              "         2.9286151e-03, -1.4135581e-03, -1.6663276e-03, -2.0998956e-03,\n",
              "         2.4077033e-03, -1.5185013e-03, -1.0543829e-02,  1.4379276e-03,\n",
              "        -5.2343652e-04, -2.6191513e-03, -1.9253815e-03,  4.5443974e-03,\n",
              "         1.0210299e-02, -8.9501007e-04, -7.2778361e-03, -2.3949028e-03,\n",
              "         6.7937630e-03,  4.6012253e-03,  1.1273705e-03,  1.3760516e-03,\n",
              "         9.5622358e-04, -2.3703779e-04, -6.7996080e-03, -1.7276192e-03,\n",
              "         9.4095506e-03,  1.7355030e-03,  1.5015044e-03, -4.3649301e-03],\n",
              "       dtype=float32),\n",
              " array([[-0.08256196, -0.0265685 ,  0.06476597, ..., -0.18571138,\n",
              "          0.13904394, -0.20145924],\n",
              "        [ 0.1764658 , -0.00465928, -0.06883644, ..., -0.07272088,\n",
              "          0.18333203,  0.17569324],\n",
              "        [ 0.17360294,  0.04401077,  0.02581947, ..., -0.07773087,\n",
              "         -0.07379033,  0.09722371],\n",
              "        ...,\n",
              "        [ 0.01667785, -0.02612183, -0.05672225, ..., -0.11187759,\n",
              "          0.02305322, -0.08591398],\n",
              "        [ 0.13431852, -0.14228044, -0.13533159, ..., -0.02441919,\n",
              "         -0.00141698,  0.08535075],\n",
              "        [ 0.16933152,  0.10929247, -0.03243739, ..., -0.16058427,\n",
              "          0.16958006,  0.00738912]], dtype=float32),\n",
              " array([ 1.65179590e-04, -1.02176354e-03, -3.88742238e-03,  8.80140346e-03,\n",
              "         3.62622133e-03,  6.63013570e-03,  8.31239019e-03, -1.17789104e-03,\n",
              "         1.22783575e-02, -4.08484740e-03,  5.80515992e-03,  2.49073957e-03,\n",
              "        -5.82529092e-03,  2.34825211e-03, -4.25018976e-03,  8.15263542e-04,\n",
              "        -1.60510391e-02, -2.73909827e-04,  3.30335344e-03,  4.75091976e-04,\n",
              "        -4.32301918e-03,  2.11014936e-04, -5.13544586e-03,  6.58256328e-03,\n",
              "        -2.94951396e-03, -3.54816648e-03, -4.44334699e-03,  9.59370693e-04,\n",
              "        -5.18900575e-03, -3.10512516e-03,  5.54011844e-04,  3.90223367e-03,\n",
              "         1.84240192e-03,  5.80429751e-03, -3.25811241e-04, -4.39419132e-03,\n",
              "        -1.64202135e-03,  4.34172619e-03, -6.97446661e-03, -9.93469078e-03,\n",
              "        -1.17189009e-02,  1.03119984e-02, -6.14736709e-05, -9.52749047e-03,\n",
              "        -2.19089352e-03, -1.04679354e-02, -1.54184690e-03,  4.71208291e-03,\n",
              "         7.50089204e-03, -1.55142173e-02, -5.49519248e-03,  6.95000216e-03,\n",
              "        -1.56374474e-03, -6.39397139e-03,  7.34471949e-03, -3.67203401e-03,\n",
              "         7.60358642e-04,  6.62537292e-03, -8.98156359e-05, -6.32357690e-03],\n",
              "       dtype=float32),\n",
              " array([[ 0.22100645,  0.22169119, -0.20388559, ...,  0.17280173,\n",
              "         -0.25890514,  0.0072193 ],\n",
              "        [-0.04018525,  0.20835078, -0.17737721, ...,  0.21554671,\n",
              "         -0.2277157 , -0.02471434],\n",
              "        [-0.05875919,  0.0317428 ,  0.05265186, ..., -0.0380867 ,\n",
              "          0.13053448,  0.02512757],\n",
              "        ...,\n",
              "        [ 0.22360049,  0.10945089,  0.15666799, ...,  0.1651217 ,\n",
              "         -0.01463942, -0.20316152],\n",
              "        [ 0.121831  , -0.21749747,  0.12024318, ...,  0.15006368,\n",
              "          0.15365373, -0.09341981],\n",
              "        [-0.02954243,  0.00556257,  0.1550187 , ...,  0.27443463,\n",
              "         -0.21268673,  0.00277455]], dtype=float32),\n",
              " array([-0.00199788, -0.00990523,  0.02184171,  0.00753872, -0.00227174,\n",
              "         0.02646266,  0.01409992, -0.0142241 , -0.00709128,  0.00230214,\n",
              "         0.00660615,  0.00151085, -0.00326195, -0.01228237, -0.01392814,\n",
              "         0.00217294, -0.02705929, -0.01036042, -0.00389323, -0.01146908,\n",
              "         0.01123527, -0.01995677,  0.00438652, -0.00358236, -0.02271665,\n",
              "         0.00356406,  0.01275344, -0.0090428 , -0.00625533,  0.0041077 ],\n",
              "       dtype=float32),\n",
              " array([[ 0.4182788 ,  0.26561683, -0.0652118 ,  0.34349254, -0.15189117,\n",
              "          0.21742986, -0.20498303,  0.3471988 , -0.3837062 ,  0.10483145],\n",
              "        [ 0.10854788,  0.1533583 ,  0.16228862,  0.10036965, -0.18483633,\n",
              "         -0.02928022, -0.06358433, -0.17365345,  0.25852075, -0.11282511],\n",
              "        [ 0.05990544,  0.1773669 ,  0.05041221,  0.02908217,  0.34425643,\n",
              "          0.2150523 , -0.2647436 ,  0.40262967, -0.09968456,  0.4675544 ],\n",
              "        [-0.41275135,  0.03184391,  0.3227281 ,  0.22978686, -0.03973163,\n",
              "          0.25427538, -0.3363722 ,  0.18073253, -0.04468459, -0.32740366],\n",
              "        [ 0.2594158 , -0.29082075,  0.13280748, -0.08336619, -0.13432613,\n",
              "          0.2109078 , -0.25309262,  0.20022856,  0.37535915,  0.11914086],\n",
              "        [-0.2701699 ,  0.3853661 ,  0.19253327,  0.36713272, -0.11663286,\n",
              "         -0.2445059 ,  0.0196169 , -0.14460467,  0.18077712, -0.2674365 ],\n",
              "        [-0.00844221, -0.12201468,  0.21704645, -0.33963832,  0.14373818,\n",
              "         -0.3298068 , -0.261553  ,  0.23656805,  0.34707284,  0.27266493],\n",
              "        [ 0.39415023, -0.02196383, -0.37164232,  0.02183072, -0.27590236,\n",
              "          0.01488927, -0.04530425,  0.07171682, -0.16318491, -0.12704451],\n",
              "        [-0.15708132,  0.06964709, -0.35938892, -0.18474789,  0.00987662,\n",
              "         -0.34793934,  0.27625206,  0.17835712,  0.17057344,  0.01686594],\n",
              "        [ 0.1356515 ,  0.26397482,  0.38675463,  0.11535966,  0.21935156,\n",
              "          0.3071264 , -0.00164531, -0.20163856,  0.08098312,  0.05346941],\n",
              "        [ 0.04940582, -0.26285967, -0.10217332,  0.44413432, -0.09469897,\n",
              "          0.10390791, -0.03494685, -0.40896976, -0.35085982, -0.06301361],\n",
              "        [-0.24080507, -0.29239258, -0.08856242,  0.1713104 ,  0.02046642,\n",
              "         -0.18178189, -0.1866119 , -0.31471282,  0.16433343, -0.14407468],\n",
              "        [-0.03674843,  0.11397939, -0.3642372 ,  0.10644418, -0.01327393,\n",
              "         -0.30787206,  0.24205141,  0.27474156,  0.26412776,  0.1044723 ],\n",
              "        [ 0.231717  ,  0.04870895, -0.21519126, -0.06405151,  0.32364458,\n",
              "         -0.2900117 ,  0.04070279,  0.13550077, -0.37082767,  0.17323641],\n",
              "        [-0.377706  ,  0.5209419 ,  0.10322888, -0.12864517,  0.18300208,\n",
              "         -0.24480271,  0.19099121,  0.1210106 ,  0.39560473,  0.00664836],\n",
              "        [-0.2556144 , -0.12088398, -0.33146322,  0.11797946,  0.10539132,\n",
              "          0.15203445, -0.06544443, -0.21888041,  0.00960198,  0.05440397],\n",
              "        [ 0.2528704 , -0.16115704,  0.27665758, -0.17990226,  0.05358475,\n",
              "         -0.08050093, -0.07986764,  0.30453092, -0.07342907, -0.16535188],\n",
              "        [ 0.17984372, -0.2508225 , -0.05897469, -0.2654489 , -0.1722635 ,\n",
              "          0.4248146 ,  0.3084245 , -0.00739721, -0.0723158 ,  0.11151291],\n",
              "        [ 0.08231455,  0.06064693, -0.14995122,  0.35727158, -0.03667026,\n",
              "          0.29883626,  0.22336514,  0.24553576, -0.1174474 ,  0.0641922 ],\n",
              "        [ 0.3908313 ,  0.1500003 ,  0.18132104, -0.29450908,  0.31784022,\n",
              "          0.1504612 ,  0.24135725,  0.01072866, -0.25852126,  0.22633232],\n",
              "        [-0.3309172 , -0.21124189, -0.25519702, -0.02149358,  0.02662891,\n",
              "          0.4708399 , -0.06790396, -0.45790273, -0.23740378, -0.29585266],\n",
              "        [ 0.20208755, -0.2073708 ,  0.14526987,  0.0024449 ,  0.23554955,\n",
              "          0.09370628, -0.32161868, -0.21713038, -0.02419108, -0.33348945],\n",
              "        [-0.21035132, -0.24593435,  0.17750055, -0.30282056,  0.04679411,\n",
              "         -0.36226955,  0.15997382, -0.2314694 ,  0.38715202, -0.21688168],\n",
              "        [-0.26119778,  0.11338056,  0.2030445 ,  0.23289165, -0.4341547 ,\n",
              "         -0.10083903, -0.02697744, -0.20311804,  0.12636209, -0.17547639],\n",
              "        [ 0.2935653 , -0.1247955 ,  0.30126625,  0.30242702,  0.24799573,\n",
              "          0.27928925, -0.12996148,  0.22602168, -0.32421064, -0.16065067],\n",
              "        [ 0.00190279,  0.48642203,  0.16754025, -0.08140947,  0.39464405,\n",
              "         -0.23633213,  0.39814946,  0.29666153, -0.21489942,  0.29051134],\n",
              "        [ 0.18319961,  0.15408623, -0.03813113, -0.05217043, -0.18304   ,\n",
              "         -0.25561526,  0.04964813, -0.09336706, -0.14327271,  0.30132955],\n",
              "        [ 0.24863495, -0.29498765, -0.2767724 , -0.00081178,  0.36615175,\n",
              "          0.06698965,  0.14238648,  0.40992057,  0.35722864,  0.42032385],\n",
              "        [-0.10861464,  0.20361778,  0.23093386,  0.01865585, -0.43634975,\n",
              "          0.1660371 ,  0.13982493,  0.13072883,  0.37163857, -0.00983558],\n",
              "        [-0.43468994, -0.14993966, -0.26986703,  0.09502561,  0.17056865,\n",
              "         -0.16937782, -0.03671483,  0.20696042, -0.3579192 ,  0.03214287]],\n",
              "       dtype=float32),\n",
              " array([-0.07352147,  0.09015784,  0.01151188, -0.022456  , -0.06766067,\n",
              "         0.01907601,  0.03793324, -0.13143186,  0.01311944,  0.12327101],\n",
              "       dtype=float32)]"
            ]
          },
          "metadata": {
            "tags": []
          },
          "execution_count": 19
        }
      ]
    },
    {
      "cell_type": "markdown",
      "metadata": {
        "id": "eIH6j76HGoMT",
        "colab_type": "text"
      },
      "source": [
        "#Save the model"
      ]
    },
    {
      "cell_type": "code",
      "metadata": {
        "id": "tV_eDIEHExkg",
        "colab_type": "code",
        "colab": {}
      },
      "source": [
        "model.save('mnist_dnn_v1.h5')"
      ],
      "execution_count": 0,
      "outputs": []
    },
    {
      "cell_type": "code",
      "metadata": {
        "id": "I3aeoPu7IfF8",
        "colab_type": "code",
        "colab": {}
      },
      "source": [
        "from google.colab import files\n",
        "files.download('mnist_dnn_v1.h5')"
      ],
      "execution_count": 0,
      "outputs": []
    },
    {
      "cell_type": "code",
      "metadata": {
        "id": "cXcDLBzCIn1L",
        "colab_type": "code",
        "colab": {
          "base_uri": "https://localhost:8080/",
          "height": 68
        },
        "outputId": "2b982bf9-1063-4ce1-ed5f-0a2b30a339ed"
      },
      "source": [
        "!ls -l"
      ],
      "execution_count": 22,
      "outputs": [
        {
          "output_type": "stream",
          "text": [
            "total 772\n",
            "-rw-r--r-- 1 root root 782744 Apr 16 05:49 mnist_dnn_v1.h5\n",
            "drwxr-xr-x 1 root root   4096 Apr  3 16:24 sample_data\n"
          ],
          "name": "stdout"
        }
      ]
    }
  ]
}