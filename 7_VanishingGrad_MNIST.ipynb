{
  "nbformat": 4,
  "nbformat_minor": 0,
  "metadata": {
    "colab": {
      "name": "7_VanishingGrad_MNIST.ipynb",
      "provenance": [],
      "collapsed_sections": []
    },
    "kernelspec": {
      "name": "python3",
      "display_name": "Python 3"
    }
  },
  "cells": [
    {
      "cell_type": "markdown",
      "metadata": {
        "id": "tbuSrUKDbMM4",
        "colab_type": "text"
      },
      "source": [
        "# Load Tensorflow"
      ]
    },
    {
      "cell_type": "code",
      "metadata": {
        "id": "_p1ghSekbSWg",
        "colab_type": "code",
        "colab": {}
      },
      "source": [
        "import tensorflow as tf\n",
        "#tf.set_random_seed(42)\n",
        "tf.random.set_seed(55)"
      ],
      "execution_count": 0,
      "outputs": []
    },
    {
      "cell_type": "markdown",
      "metadata": {
        "id": "L9XDv88RbbAf",
        "colab_type": "text"
      },
      "source": [
        "# Collect Data"
      ]
    },
    {
      "cell_type": "code",
      "metadata": {
        "id": "xxYHTOXxbddB",
        "colab_type": "code",
        "colab": {}
      },
      "source": [
        "#MNIST Data\n",
        "(trainX, trainY), (testX,testY)= tf.keras.datasets.mnist.load_data()"
      ],
      "execution_count": 0,
      "outputs": []
    },
    {
      "cell_type": "code",
      "metadata": {
        "id": "YgFMssbJbuq4",
        "colab_type": "code",
        "outputId": "104f57e9-c76f-425d-ca76-53f90c00c488",
        "colab": {
          "base_uri": "https://localhost:8080/",
          "height": 34
        }
      },
      "source": [
        "trainX.shape"
      ],
      "execution_count": 3,
      "outputs": [
        {
          "output_type": "execute_result",
          "data": {
            "text/plain": [
              "(60000, 28, 28)"
            ]
          },
          "metadata": {
            "tags": []
          },
          "execution_count": 3
        }
      ]
    },
    {
      "cell_type": "code",
      "metadata": {
        "id": "1wVKplnLdtIE",
        "colab_type": "code",
        "outputId": "1cd7699f-50e6-4555-d62e-acec6234ffb2",
        "colab": {
          "base_uri": "https://localhost:8080/",
          "height": 34
        }
      },
      "source": [
        "testX.shape"
      ],
      "execution_count": 4,
      "outputs": [
        {
          "output_type": "execute_result",
          "data": {
            "text/plain": [
              "(10000, 28, 28)"
            ]
          },
          "metadata": {
            "tags": []
          },
          "execution_count": 4
        }
      ]
    },
    {
      "cell_type": "code",
      "metadata": {
        "id": "hfpSd4X8d2AJ",
        "colab_type": "code",
        "outputId": "4bf1413f-60b5-48f6-d36e-8a2f05a9b4da",
        "colab": {
          "base_uri": "https://localhost:8080/",
          "height": 34
        }
      },
      "source": [
        "#Number of labels\n",
        "trainY.shape"
      ],
      "execution_count": 5,
      "outputs": [
        {
          "output_type": "execute_result",
          "data": {
            "text/plain": [
              "(60000,)"
            ]
          },
          "metadata": {
            "tags": []
          },
          "execution_count": 5
        }
      ]
    },
    {
      "cell_type": "code",
      "metadata": {
        "id": "RB7nHQP7d7lh",
        "colab_type": "code",
        "outputId": "1a44c49f-76c1-43d3-a80d-f7f4bd4a3025",
        "colab": {
          "base_uri": "https://localhost:8080/",
          "height": 34
        }
      },
      "source": [
        "testY.shape"
      ],
      "execution_count": 6,
      "outputs": [
        {
          "output_type": "execute_result",
          "data": {
            "text/plain": [
              "(10000,)"
            ]
          },
          "metadata": {
            "tags": []
          },
          "execution_count": 6
        }
      ]
    },
    {
      "cell_type": "code",
      "metadata": {
        "id": "RsbCWvJMbwvA",
        "colab_type": "code",
        "outputId": "aa881dec-e3ed-4269-8e72-1823b7b34d26",
        "colab": {
          "base_uri": "https://localhost:8080/",
          "height": 1000
        }
      },
      "source": [
        "trainX[0]"
      ],
      "execution_count": 7,
      "outputs": [
        {
          "output_type": "execute_result",
          "data": {
            "text/plain": [
              "array([[  0,   0,   0,   0,   0,   0,   0,   0,   0,   0,   0,   0,   0,\n",
              "          0,   0,   0,   0,   0,   0,   0,   0,   0,   0,   0,   0,   0,\n",
              "          0,   0],\n",
              "       [  0,   0,   0,   0,   0,   0,   0,   0,   0,   0,   0,   0,   0,\n",
              "          0,   0,   0,   0,   0,   0,   0,   0,   0,   0,   0,   0,   0,\n",
              "          0,   0],\n",
              "       [  0,   0,   0,   0,   0,   0,   0,   0,   0,   0,   0,   0,   0,\n",
              "          0,   0,   0,   0,   0,   0,   0,   0,   0,   0,   0,   0,   0,\n",
              "          0,   0],\n",
              "       [  0,   0,   0,   0,   0,   0,   0,   0,   0,   0,   0,   0,   0,\n",
              "          0,   0,   0,   0,   0,   0,   0,   0,   0,   0,   0,   0,   0,\n",
              "          0,   0],\n",
              "       [  0,   0,   0,   0,   0,   0,   0,   0,   0,   0,   0,   0,   0,\n",
              "          0,   0,   0,   0,   0,   0,   0,   0,   0,   0,   0,   0,   0,\n",
              "          0,   0],\n",
              "       [  0,   0,   0,   0,   0,   0,   0,   0,   0,   0,   0,   0,   3,\n",
              "         18,  18,  18, 126, 136, 175,  26, 166, 255, 247, 127,   0,   0,\n",
              "          0,   0],\n",
              "       [  0,   0,   0,   0,   0,   0,   0,   0,  30,  36,  94, 154, 170,\n",
              "        253, 253, 253, 253, 253, 225, 172, 253, 242, 195,  64,   0,   0,\n",
              "          0,   0],\n",
              "       [  0,   0,   0,   0,   0,   0,   0,  49, 238, 253, 253, 253, 253,\n",
              "        253, 253, 253, 253, 251,  93,  82,  82,  56,  39,   0,   0,   0,\n",
              "          0,   0],\n",
              "       [  0,   0,   0,   0,   0,   0,   0,  18, 219, 253, 253, 253, 253,\n",
              "        253, 198, 182, 247, 241,   0,   0,   0,   0,   0,   0,   0,   0,\n",
              "          0,   0],\n",
              "       [  0,   0,   0,   0,   0,   0,   0,   0,  80, 156, 107, 253, 253,\n",
              "        205,  11,   0,  43, 154,   0,   0,   0,   0,   0,   0,   0,   0,\n",
              "          0,   0],\n",
              "       [  0,   0,   0,   0,   0,   0,   0,   0,   0,  14,   1, 154, 253,\n",
              "         90,   0,   0,   0,   0,   0,   0,   0,   0,   0,   0,   0,   0,\n",
              "          0,   0],\n",
              "       [  0,   0,   0,   0,   0,   0,   0,   0,   0,   0,   0, 139, 253,\n",
              "        190,   2,   0,   0,   0,   0,   0,   0,   0,   0,   0,   0,   0,\n",
              "          0,   0],\n",
              "       [  0,   0,   0,   0,   0,   0,   0,   0,   0,   0,   0,  11, 190,\n",
              "        253,  70,   0,   0,   0,   0,   0,   0,   0,   0,   0,   0,   0,\n",
              "          0,   0],\n",
              "       [  0,   0,   0,   0,   0,   0,   0,   0,   0,   0,   0,   0,  35,\n",
              "        241, 225, 160, 108,   1,   0,   0,   0,   0,   0,   0,   0,   0,\n",
              "          0,   0],\n",
              "       [  0,   0,   0,   0,   0,   0,   0,   0,   0,   0,   0,   0,   0,\n",
              "         81, 240, 253, 253, 119,  25,   0,   0,   0,   0,   0,   0,   0,\n",
              "          0,   0],\n",
              "       [  0,   0,   0,   0,   0,   0,   0,   0,   0,   0,   0,   0,   0,\n",
              "          0,  45, 186, 253, 253, 150,  27,   0,   0,   0,   0,   0,   0,\n",
              "          0,   0],\n",
              "       [  0,   0,   0,   0,   0,   0,   0,   0,   0,   0,   0,   0,   0,\n",
              "          0,   0,  16,  93, 252, 253, 187,   0,   0,   0,   0,   0,   0,\n",
              "          0,   0],\n",
              "       [  0,   0,   0,   0,   0,   0,   0,   0,   0,   0,   0,   0,   0,\n",
              "          0,   0,   0,   0, 249, 253, 249,  64,   0,   0,   0,   0,   0,\n",
              "          0,   0],\n",
              "       [  0,   0,   0,   0,   0,   0,   0,   0,   0,   0,   0,   0,   0,\n",
              "          0,  46, 130, 183, 253, 253, 207,   2,   0,   0,   0,   0,   0,\n",
              "          0,   0],\n",
              "       [  0,   0,   0,   0,   0,   0,   0,   0,   0,   0,   0,   0,  39,\n",
              "        148, 229, 253, 253, 253, 250, 182,   0,   0,   0,   0,   0,   0,\n",
              "          0,   0],\n",
              "       [  0,   0,   0,   0,   0,   0,   0,   0,   0,   0,  24, 114, 221,\n",
              "        253, 253, 253, 253, 201,  78,   0,   0,   0,   0,   0,   0,   0,\n",
              "          0,   0],\n",
              "       [  0,   0,   0,   0,   0,   0,   0,   0,  23,  66, 213, 253, 253,\n",
              "        253, 253, 198,  81,   2,   0,   0,   0,   0,   0,   0,   0,   0,\n",
              "          0,   0],\n",
              "       [  0,   0,   0,   0,   0,   0,  18, 171, 219, 253, 253, 253, 253,\n",
              "        195,  80,   9,   0,   0,   0,   0,   0,   0,   0,   0,   0,   0,\n",
              "          0,   0],\n",
              "       [  0,   0,   0,   0,  55, 172, 226, 253, 253, 253, 253, 244, 133,\n",
              "         11,   0,   0,   0,   0,   0,   0,   0,   0,   0,   0,   0,   0,\n",
              "          0,   0],\n",
              "       [  0,   0,   0,   0, 136, 253, 253, 253, 212, 135, 132,  16,   0,\n",
              "          0,   0,   0,   0,   0,   0,   0,   0,   0,   0,   0,   0,   0,\n",
              "          0,   0],\n",
              "       [  0,   0,   0,   0,   0,   0,   0,   0,   0,   0,   0,   0,   0,\n",
              "          0,   0,   0,   0,   0,   0,   0,   0,   0,   0,   0,   0,   0,\n",
              "          0,   0],\n",
              "       [  0,   0,   0,   0,   0,   0,   0,   0,   0,   0,   0,   0,   0,\n",
              "          0,   0,   0,   0,   0,   0,   0,   0,   0,   0,   0,   0,   0,\n",
              "          0,   0],\n",
              "       [  0,   0,   0,   0,   0,   0,   0,   0,   0,   0,   0,   0,   0,\n",
              "          0,   0,   0,   0,   0,   0,   0,   0,   0,   0,   0,   0,   0,\n",
              "          0,   0]], dtype=uint8)"
            ]
          },
          "metadata": {
            "tags": []
          },
          "execution_count": 7
        }
      ]
    },
    {
      "cell_type": "code",
      "metadata": {
        "id": "J6NUInmbeDc5",
        "colab_type": "code",
        "outputId": "94631b4b-e0e5-4faa-d648-7751a7968f62",
        "colab": {
          "base_uri": "https://localhost:8080/",
          "height": 34
        }
      },
      "source": [
        "trainY[0]"
      ],
      "execution_count": 8,
      "outputs": [
        {
          "output_type": "execute_result",
          "data": {
            "text/plain": [
              "5"
            ]
          },
          "metadata": {
            "tags": []
          },
          "execution_count": 8
        }
      ]
    },
    {
      "cell_type": "code",
      "metadata": {
        "id": "DNJ2VPw4dFsH",
        "colab_type": "code",
        "outputId": "eab2d77d-e5e0-4f04-929d-f14a1700bbaf",
        "colab": {
          "base_uri": "https://localhost:8080/",
          "height": 282
        }
      },
      "source": [
        "# To print the data\n",
        "import matplotlib.pyplot as plt\n",
        "plt.imshow(trainX[0], cmap='gray')"
      ],
      "execution_count": 9,
      "outputs": [
        {
          "output_type": "execute_result",
          "data": {
            "text/plain": [
              "<matplotlib.image.AxesImage at 0x7f10b82cb0f0>"
            ]
          },
          "metadata": {
            "tags": []
          },
          "execution_count": 9
        },
        {
          "output_type": "display_data",
          "data": {
            "image/png": "[encoded data removed]",
            "text/plain": [
              "<Figure size 432x288 with 1 Axes>"
            ]
          },
          "metadata": {
            "tags": [],
            "needs_background": "light"
          }
        }
      ]
    },
    {
      "cell_type": "code",
      "metadata": {
        "id": "dVqNB0PnfHt_",
        "colab_type": "code",
        "colab": {}
      },
      "source": [
        ""
      ],
      "execution_count": 0,
      "outputs": []
    },
    {
      "cell_type": "markdown",
      "metadata": {
        "id": "-hFuklRcftHH",
        "colab_type": "text"
      },
      "source": [
        "# Convert Output label to multiple values"
      ]
    },
    {
      "cell_type": "code",
      "metadata": {
        "id": "0tUAR2lvfwv-",
        "colab_type": "code",
        "outputId": "bb719c86-a7fa-4264-b3db-b3609bd2ef6b",
        "colab": {
          "base_uri": "https://localhost:8080/",
          "height": 51
        }
      },
      "source": [
        "print(trainY.shape)\n",
        "print('Samples of trainY :', trainY[0:2])"
      ],
      "execution_count": 10,
      "outputs": [
        {
          "output_type": "stream",
          "text": [
            "(60000,)\n",
            "Samples of trainY : [5 0]\n"
          ],
          "name": "stdout"
        }
      ]
    },
    {
      "cell_type": "code",
      "metadata": {
        "id": "4X5LVDc0f9g_",
        "colab_type": "code",
        "colab": {}
      },
      "source": [
        "trainY = tf.keras.utils.to_categorical(trainY, num_classes=10)"
      ],
      "execution_count": 0,
      "outputs": []
    },
    {
      "cell_type": "code",
      "metadata": {
        "id": "ryi7V0y_hFw-",
        "colab_type": "code",
        "colab": {}
      },
      "source": [
        "testY=tf.keras.utils.to_categorical(testY,num_classes=10)"
      ],
      "execution_count": 0,
      "outputs": []
    },
    {
      "cell_type": "code",
      "metadata": {
        "id": "xDLvqAoahaPV",
        "colab_type": "code",
        "outputId": "76bbfe69-f129-4be6-e21c-11067780b78a",
        "colab": {
          "base_uri": "https://localhost:8080/",
          "height": 68
        }
      },
      "source": [
        "print (trainY.shape)\n",
        "print('Samples of trainY :', trainY[0:2])"
      ],
      "execution_count": 13,
      "outputs": [
        {
          "output_type": "stream",
          "text": [
            "(60000, 10)\n",
            "Samples of trainY : [[0. 0. 0. 0. 0. 1. 0. 0. 0. 0.]\n",
            " [1. 0. 0. 0. 0. 0. 0. 0. 0. 0.]]\n"
          ],
          "name": "stdout"
        }
      ]
    },
    {
      "cell_type": "markdown",
      "metadata": {
        "id": "fNIQNHHUhjrj",
        "colab_type": "text"
      },
      "source": [
        "# Build the NN"
      ]
    },
    {
      "cell_type": "code",
      "metadata": {
        "id": "R10CwdAOhmu9",
        "colab_type": "code",
        "colab": {}
      },
      "source": [
        "#Clear out tensorflow memory\n",
        "tf.keras.backend.clear_session()\n",
        "\n",
        "#Initialize Sequential Model\n",
        "model = tf.keras.models.Sequential()\n",
        "\n",
        "#Reshape the data from 2D to 1D -> 28x28 to 784\n",
        "# The equation accepts samples at vectors. Our current input is matrix\n",
        "model.add(tf.keras.layers.Reshape((784,),input_shape=(28,28,)))\n",
        "\n",
        "#Normalize the data\n",
        "model.add(tf.keras.layers.BatchNormalization())\n"
      ],
      "execution_count": 0,
      "outputs": []
    },
    {
      "cell_type": "markdown",
      "metadata": {
        "id": "8bciygrNCWEC",
        "colab_type": "text"
      },
      "source": [
        "#Build DNN"
      ]
    },
    {
      "cell_type": "code",
      "metadata": {
        "id": "2Vt8g8O0lBYF",
        "colab_type": "code",
        "colab": {}
      },
      "source": [
        "#Add 1st hidden layer\n",
        "model.add(tf.keras.layers.Dense(200, activation='relu'))\n",
        "\n",
        "#Add 2nd hidden layer\n",
        "model.add(tf.keras.layers.Dense(100, activation='relu'))\n",
        "\n",
        "#Add 3rd hidden layer\n",
        "model.add(tf.keras.layers.Dense(60, activation='relu'))\n",
        "\n",
        "#Add 4th hidden layer\n",
        "model.add(tf.keras.layers.Dense(30, activation='relu'))\n",
        "\n",
        "#Add output layer\n",
        "model.add(tf.keras.layers.Dense(10, activation='softmax'))"
      ],
      "execution_count": 0,
      "outputs": []
    },
    {
      "cell_type": "markdown",
      "metadata": {
        "id": "Sf9cMgH2Dg5c",
        "colab_type": "text"
      },
      "source": [
        "# Build the Graph"
      ]
    },
    {
      "cell_type": "code",
      "metadata": {
        "id": "upuyC6H2Dju0",
        "colab_type": "code",
        "colab": {}
      },
      "source": [
        "#Compile the model\n",
        "model.compile(optimizer='sgd', loss='categorical_crossentropy', metrics=['accuracy'])"
      ],
      "execution_count": 0,
      "outputs": []
    },
    {
      "cell_type": "code",
      "metadata": {
        "id": "1mTRzQl5D5cU",
        "colab_type": "code",
        "outputId": "fd8d8bed-82a1-4ac0-b1dd-0bab510b8da2",
        "colab": {
          "base_uri": "https://localhost:8080/",
          "height": 391
        }
      },
      "source": [
        "model.summary()"
      ],
      "execution_count": 17,
      "outputs": [
        {
          "output_type": "stream",
          "text": [
            "Model: \"sequential\"\n",
            "_________________________________________________________________\n",
            "Layer (type)                 Output Shape              Param #   \n",
            "=================================================================\n",
            "reshape (Reshape)            (None, 784)               0         \n",
            "_________________________________________________________________\n",
            "batch_normalization (BatchNo (None, 784)               3136      \n",
            "_________________________________________________________________\n",
            "dense (Dense)                (None, 200)               157000    \n",
            "_________________________________________________________________\n",
            "dense_1 (Dense)              (None, 100)               20100     \n",
            "_________________________________________________________________\n",
            "dense_2 (Dense)              (None, 60)                6060      \n",
            "_________________________________________________________________\n",
            "dense_3 (Dense)              (None, 30)                1830      \n",
            "_________________________________________________________________\n",
            "dense_4 (Dense)              (None, 10)                310       \n",
            "=================================================================\n",
            "Total params: 188,436\n",
            "Trainable params: 186,868\n",
            "Non-trainable params: 1,568\n",
            "_________________________________________________________________\n"
          ],
          "name": "stdout"
        }
      ]
    },
    {
      "cell_type": "markdown",
      "metadata": {
        "id": "1bnjWH2_EKSq",
        "colab_type": "text"
      },
      "source": [
        "# Train the model"
      ]
    },
    {
      "cell_type": "code",
      "metadata": {
        "id": "q1eN_JPIEMjS",
        "colab_type": "code",
        "outputId": "2245badf-649c-45f4-9168-1ba02446bc26",
        "colab": {
          "base_uri": "https://localhost:8080/",
          "height": 204
        }
      },
      "source": [
        "model.fit(trainX,trainY, \n",
        "          validataion_data=(testX,testY),\n",
        "          epochs=5,\n",
        "          batch_size=32)"
      ],
      "execution_count": 18,
      "outputs": [
        {
          "output_type": "stream",
          "text": [
            "Epoch 1/5\n",
            "1875/1875 [==============================] - 6s 3ms/step - loss: 0.5589 - accuracy: 0.8344\n",
            "Epoch 2/5\n",
            "1875/1875 [==============================] - 6s 3ms/step - loss: 0.1933 - accuracy: 0.9414\n",
            "Epoch 3/5\n",
            "1875/1875 [==============================] - 6s 3ms/step - loss: 0.1477 - accuracy: 0.9547\n",
            "Epoch 4/5\n",
            "1875/1875 [==============================] - 6s 3ms/step - loss: 0.1190 - accuracy: 0.9641\n",
            "Epoch 5/5\n",
            "1875/1875 [==============================] - 6s 3ms/step - loss: 0.0997 - accuracy: 0.9691\n"
          ],
          "name": "stdout"
        },
        {
          "output_type": "execute_result",
          "data": {
            "text/plain": [
              "<tensorflow.python.keras.callbacks.History at 0x7f10b1a915c0>"
            ]
          },
          "metadata": {
            "tags": []
          },
          "execution_count": 18
        }
      ]
    },
    {
      "cell_type": "markdown",
      "metadata": {
        "id": "fJPiwXA5hiGZ",
        "colab_type": "text"
      },
      "source": [
        "#Sigmoid case\n",
        "We are experiencing VG. Loss is reducing very slowly. accuracy is increasing very slowly\n",
        "\n",
        "#ReLU case\n",
        "In this case we could see there is a significant improvemnt in the accuracy as well as the loss."
      ]
    },
    {
      "cell_type": "code",
      "metadata": {
        "id": "CX6c1cyzhZkV",
        "colab_type": "code",
        "outputId": "413181b6-6cd3-4e00-eefb-051ba6959ce5",
        "colab": {
          "base_uri": "https://localhost:8080/",
          "height": 1000
        }
      },
      "source": [
        "model.get_weights()"
      ],
      "execution_count": 19,
      "outputs": [
        {
          "output_type": "execute_result",
          "data": {
            "text/plain": [
              "[array([1.        , 1.        , 1.        , 1.        , 1.        ,\n",
              "        1.        , 1.        , 1.        , 1.        , 1.        ,\n",
              "        1.        , 1.        , 0.999959  , 0.99997246, 1.0000192 ,\n",
              "        1.0000073 , 1.        , 1.        , 1.        , 1.        ,\n",
              "        1.        , 1.        , 1.        , 1.        , 1.        ,\n",
              "        1.        , 1.        , 1.        , 1.        , 1.        ,\n",
              "        1.        , 1.        , 0.9999988 , 1.0000683 , 1.0003717 ,\n",
              "        1.000398  , 1.0005076 , 1.0002686 , 0.9986616 , 0.99916035,\n",
              "        1.0009035 , 0.99842435, 0.99917424, 0.99923426, 1.000744  ,\n",
              "        0.9991527 , 0.999437  , 0.9993388 , 1.0009359 , 0.99969983,\n",
              "        1.0002224 , 0.9999265 , 1.        , 1.        , 1.        ,\n",
              "        1.        , 1.        , 1.        , 0.9999796 , 1.0001022 ,\n",
              "        0.9995753 , 0.9998753 , 1.0006292 , 0.9965368 , 1.0001595 ,\n",
              "        0.9999236 , 1.0019655 , 1.0028515 , 1.002695  , 1.0004494 ,\n",
              "        0.9984803 , 1.000168  , 1.0021864 , 1.0033    , 0.9988784 ,\n",
              "        0.9989472 , 0.99883246, 1.0008216 , 0.9997354 , 0.9999514 ,\n",
              "        0.99893135, 0.9998564 , 1.        , 1.        , 1.        ,\n",
              "        1.        , 0.99947137, 1.0002999 , 0.9988447 , 0.99832356,\n",
              "        0.99935913, 1.002184  , 0.99974704, 0.991978  , 0.9977841 ,\n",
              "        0.989789  , 1.007188  , 1.0031428 , 1.009125  , 1.0005634 ,\n",
              "        0.9935302 , 0.9980728 , 0.995287  , 0.99404305, 0.99000835,\n",
              "        0.99729705, 0.9906443 , 1.0008506 , 0.9976786 , 1.0004396 ,\n",
              "        1.0000623 , 1.        , 1.        , 1.0000143 , 1.0010827 ,\n",
              "        0.9987164 , 0.9977586 , 1.0015209 , 0.9954563 , 0.9955299 ,\n",
              "        0.9959995 , 1.0067488 , 0.997984  , 1.0027883 , 1.0024183 ,\n",
              "        1.0046523 , 0.99618053, 1.0107387 , 1.0093422 , 0.99607855,\n",
              "        1.0027969 , 0.9975615 , 1.0015815 , 1.0030696 , 0.99242216,\n",
              "        0.9972253 , 0.9935138 , 0.9991919 , 0.99968207, 0.99933416,\n",
              "        1.        , 1.        , 1.0000086 , 0.99853325, 0.9988969 ,\n",
              "        0.99680066, 0.9977869 , 0.99229616, 0.9918008 , 0.99207073,\n",
              "        1.0149599 , 1.0113946 , 1.0034174 , 0.99887747, 1.0242325 ,\n",
              "        1.0083042 , 1.013542  , 1.0177752 , 1.0110518 , 1.002024  ,\n",
              "        0.99839693, 0.98816985, 0.9986654 , 0.9759335 , 0.99629194,\n",
              "        0.99683493, 0.99841255, 1.0004646 , 1.        , 1.0000913 ,\n",
              "        0.9993363 , 1.0014976 , 0.9962777 , 0.9980492 , 0.9785494 ,\n",
              "        0.99605715, 1.0019529 , 0.99569696, 1.0027198 , 1.0218903 ,\n",
              "        1.00367   , 1.0242188 , 1.0308411 , 1.0178777 , 1.0285302 ,\n",
              "        1.0227464 , 1.0122378 , 1.013355  , 1.0149926 , 0.9950298 ,\n",
              "        1.007496  , 0.99873173, 1.005256  , 0.99338037, 0.9994051 ,\n",
              "        1.0003304 , 1.000011  , 0.9999984 , 1.0001391 , 0.99363685,\n",
              "        0.99311525, 0.99575275, 0.99107254, 0.9924807 , 1.0161375 ,\n",
              "        1.0164495 , 1.0086946 , 1.0123436 , 1.0185637 , 1.0227346 ,\n",
              "        1.0337473 , 1.0247381 , 1.0292678 , 1.0074906 , 1.0250151 ,\n",
              "        1.0302672 , 1.0018623 , 1.0023397 , 1.0082113 , 0.9995682 ,\n",
              "        0.9899322 , 0.99662185, 0.9974496 , 1.0006684 , 0.9989258 ,\n",
              "        0.99984545, 0.99824804, 0.9989992 , 0.9977499 , 0.9959347 ,\n",
              "        0.988651  , 0.9925649 , 1.0115284 , 1.0121047 , 1.0116591 ,\n",
              "        1.00871   , 1.0329543 , 1.0170795 , 1.0518088 , 1.0176907 ,\n",
              "        1.0392132 , 1.0251329 , 1.032279  , 1.0273927 , 1.016368  ,\n",
              "        1.0133666 , 1.0248162 , 1.0103501 , 0.9930058 , 0.99631387,\n",
              "        0.99779654, 0.99851966, 0.9995237 , 0.9975959 , 0.9988092 ,\n",
              "        0.99885184, 0.9891295 , 0.99012643, 0.9969847 , 1.0129427 ,\n",
              "        1.0120281 , 1.0025676 , 1.0044717 , 1.0345979 , 1.0097072 ,\n",
              "        1.0400798 , 1.0554011 , 1.0291836 , 1.0156729 , 1.03356   ,\n",
              "        1.0377779 , 1.0221477 , 1.0080415 , 1.0058278 , 1.0031046 ,\n",
              "        0.9901159 , 1.0034822 , 0.99818677, 1.0012668 , 1.0010062 ,\n",
              "        1.0000756 , 0.9987432 , 0.9978353 , 0.99374557, 0.99031544,\n",
              "        0.98812246, 0.9962656 , 1.0048866 , 1.0090995 , 1.0283887 ,\n",
              "        1.015211  , 1.026719  , 1.0464009 , 1.0476017 , 1.0705826 ,\n",
              "        1.0312068 , 1.0280628 , 1.0235595 , 1.0263478 , 1.0207747 ,\n",
              "        1.0248928 , 1.0067059 , 1.0064635 , 1.0057492 , 0.995162  ,\n",
              "        1.0002301 , 0.9948912 , 0.9997844 , 1.000078  , 0.9973043 ,\n",
              "        0.9978756 , 1.005077  , 1.0010289 , 0.9941262 , 0.9886344 ,\n",
              "        1.0032725 , 1.0022856 , 1.0220913 , 1.0218006 , 1.0185225 ,\n",
              "        1.0510663 , 1.0278213 , 1.0511582 , 1.0117565 , 1.0273104 ,\n",
              "        1.01718   , 1.0202186 , 1.0019573 , 1.0246909 , 1.0029434 ,\n",
              "        1.0015864 , 1.01403   , 1.0006379 , 0.9932102 , 0.9966501 ,\n",
              "        0.9991419 , 0.9999994 , 0.99915713, 0.99888074, 0.998644  ,\n",
              "        0.9900312 , 1.0054688 , 1.0103741 , 1.0091156 , 1.0079832 ,\n",
              "        1.0033916 , 1.0028133 , 1.0661496 , 1.0420882 , 1.042561  ,\n",
              "        1.057611  , 1.028024  , 1.0050092 , 1.0121784 , 1.0227158 ,\n",
              "        1.011472  , 0.9988739 , 1.0198464 , 1.0020338 , 1.0041223 ,\n",
              "        0.9946406 , 0.99901795, 0.9996247 , 0.9985763 , 0.9999722 ,\n",
              "        0.9993615 , 1.0012473 , 0.99577934, 0.99452573, 1.0017966 ,\n",
              "        0.9991921 , 1.005914  , 1.0169473 , 1.0392909 , 1.0295804 ,\n",
              "        1.0238574 , 1.0404052 , 1.038253  , 1.002033  , 1.0322722 ,\n",
              "        1.0138272 , 1.0030575 , 1.0071255 , 0.9924999 , 1.0117818 ,\n",
              "        1.0168473 , 1.0014797 , 0.9992341 , 1.0043323 , 1.0014662 ,\n",
              "        1.0017467 , 1.0001317 , 0.99995446, 1.0005838 , 0.99741566,\n",
              "        0.9943615 , 0.993452  , 1.0031235 , 1.0074213 , 1.0219487 ,\n",
              "        1.0048229 , 1.0090834 , 1.0145576 , 1.0353756 , 1.0390214 ,\n",
              "        1.0178912 , 1.039124  , 1.023479  , 1.0109167 , 1.0111139 ,\n",
              "        1.0135587 , 1.0058646 , 1.0057676 , 1.0102892 , 0.9979879 ,\n",
              "        1.000783  , 0.9924073 , 0.99235755, 0.9986213 , 0.99907887,\n",
              "        0.9998274 , 0.9994166 , 0.99703854, 0.9966327 , 1.0042943 ,\n",
              "        0.9941036 , 1.0024267 , 1.0142579 , 1.0130923 , 1.0071899 ,\n",
              "        1.0221275 , 1.0304847 , 1.0272629 , 1.0196079 , 1.024632  ,\n",
              "        1.0269504 , 1.0106914 , 1.0223755 , 1.0014789 , 1.0267875 ,\n",
              "        0.998741  , 1.005767  , 1.0100859 , 1.0021884 , 0.99869007,\n",
              "        0.9947284 , 0.9996722 , 0.999154  , 0.9999474 , 0.999118  ,\n",
              "        1.0008231 , 0.9961308 , 0.9927577 , 0.99872226, 1.0147185 ,\n",
              "        1.0061252 , 1.0079857 , 1.0275135 , 1.0202125 , 1.0396477 ,\n",
              "        1.038016  , 1.048882  , 1.0112503 , 1.0085535 , 1.0309447 ,\n",
              "        1.0185133 , 1.0158807 , 1.0157703 , 1.0055063 , 1.003718  ,\n",
              "        1.0048627 , 0.99379814, 0.9950727 , 0.99942434, 1.0002677 ,\n",
              "        0.99946666, 1.        , 0.9992495 , 0.99659956, 0.99757296,\n",
              "        0.9852576 , 0.99906135, 1.0114342 , 1.0177232 , 1.0086002 ,\n",
              "        1.0247833 , 1.035181  , 1.0406442 , 1.0059403 , 1.0299413 ,\n",
              "        1.0252233 , 1.0176512 , 1.0206301 , 1.0040565 , 1.0085478 ,\n",
              "        1.0090433 , 1.0110849 , 1.0081631 , 1.0086368 , 1.0041322 ,\n",
              "        1.0010631 , 0.9973593 , 1.0024157 , 0.9981524 , 1.0002476 ,\n",
              "        0.99982065, 0.99908376, 0.9956472 , 0.99490905, 1.0075517 ,\n",
              "        1.007541  , 1.0110115 , 1.008751  , 1.0200564 , 1.0301769 ,\n",
              "        1.017028  , 1.037765  , 1.0136145 , 1.0105854 , 1.01588   ,\n",
              "        1.0189716 , 1.0204918 , 1.0183393 , 1.0241072 , 1.0110103 ,\n",
              "        1.0004065 , 1.0130448 , 1.0062038 , 0.9954158 , 1.0022454 ,\n",
              "        0.9989975 , 0.99965936, 0.9999628 , 0.9985813 , 1.000356  ,\n",
              "        0.99886686, 0.9892313 , 1.0077415 , 0.99801505, 1.0126429 ,\n",
              "        1.0021423 , 1.0283947 , 1.0239491 , 1.0395119 , 1.03904   ,\n",
              "        1.0216242 , 1.028405  , 1.0207437 , 1.0080231 , 0.9885609 ,\n",
              "        0.9949934 , 1.0236799 , 0.9911979 , 0.9997311 , 1.0050819 ,\n",
              "        0.9974472 , 0.99383354, 0.99105376, 0.9994404 , 1.0001117 ,\n",
              "        1.        , 0.9999251 , 0.99960655, 1.0015448 , 1.006464  ,\n",
              "        0.9966118 , 1.0000293 , 1.0002314 , 1.0122216 , 1.008507  ,\n",
              "        1.0090603 , 1.014736  , 1.0250902 , 1.0227062 , 1.0101521 ,\n",
              "        1.0109041 , 0.9970083 , 0.999641  , 1.0123299 , 0.9969566 ,\n",
              "        1.0040592 , 0.9924614 , 0.9949272 , 0.9965012 , 0.9944198 ,\n",
              "        0.9921    , 0.99769706, 0.9999138 , 0.9999307 , 1.0000252 ,\n",
              "        0.9988696 , 0.9962286 , 0.9854875 , 0.9931303 , 1.003904  ,\n",
              "        1.0121087 , 1.0092254 , 1.0032951 , 1.00932   , 1.0078205 ,\n",
              "        1.0186986 , 1.0039347 , 1.0123402 , 1.0212144 , 1.0014279 ,\n",
              "        0.9965999 , 1.0137817 , 1.0074158 , 0.99497634, 1.000273  ,\n",
              "        0.99566466, 0.9916018 , 0.9950656 , 0.99665946, 1.0021478 ,\n",
              "        1.0000031 , 0.99994034, 1.0000329 , 0.99961543, 0.9967833 ,\n",
              "        0.9952064 , 0.98319453, 1.0064771 , 1.0085014 , 1.0019668 ,\n",
              "        0.9912776 , 1.0017141 , 0.9892479 , 1.0210879 , 1.0168036 ,\n",
              "        1.0012779 , 1.0096428 , 1.0043225 , 0.99625486, 1.0184153 ,\n",
              "        1.0001665 , 0.99145573, 1.000979  , 0.99355346, 0.9919766 ,\n",
              "        0.9969211 , 0.9965402 , 1.0010667 , 0.9999914 , 1.        ,\n",
              "        1.        , 0.99984694, 0.9997505 , 0.9968921 , 0.9845029 ,\n",
              "        0.9922481 , 0.99564916, 0.9986236 , 1.0015339 , 1.0139364 ,\n",
              "        1.0199112 , 1.0132518 , 1.0227554 , 1.0127013 , 1.013943  ,\n",
              "        1.0168173 , 1.0096633 , 0.9950648 , 0.9967863 , 0.9997967 ,\n",
              "        0.99387574, 0.9959294 , 1.0080633 , 1.0015976 , 0.99822044,\n",
              "        1.0003998 , 1.        , 1.        , 1.        , 1.0001897 ,\n",
              "        0.99776703, 1.0041671 , 0.9957138 , 0.9895401 , 0.9902076 ,\n",
              "        0.9926041 , 0.9890459 , 0.9880382 , 1.0026408 , 1.0021341 ,\n",
              "        1.0046021 , 1.0068983 , 1.0088435 , 0.993237  , 0.9925705 ,\n",
              "        0.98583   , 1.0085411 , 0.99205273, 0.9849365 , 0.99640405,\n",
              "        0.994047  , 0.9978402 , 1.0016651 , 0.9996771 , 1.        ,\n",
              "        1.        , 1.        , 0.99991024, 1.000092  , 1.000532  ,\n",
              "        0.99951583, 1.0002506 , 0.9992806 , 0.99362403, 0.98897743,\n",
              "        0.99890363, 0.992866  , 0.99485433, 0.9970356 , 0.98714113,\n",
              "        1.0009968 , 0.9898024 , 0.9943407 , 0.9982716 , 0.98401314,\n",
              "        0.9927783 , 0.9977337 , 0.99889225, 0.99758327, 1.000314  ,\n",
              "        1.0001235 , 0.9998644 , 1.        , 1.        , 1.        ,\n",
              "        1.        , 0.9999277 , 1.0006492 , 1.0004616 , 0.99849224,\n",
              "        1.0012307 , 0.99980706, 0.99322855, 0.9981253 , 0.9926262 ,\n",
              "        0.99286747, 0.9941918 , 0.9916167 , 0.9961837 , 0.9975156 ,\n",
              "        0.99717677, 1.001214  , 0.9962863 , 1.0025947 , 0.99915373,\n",
              "        0.9985797 , 1.0010949 , 0.9998722 , 0.99998325, 1.        ,\n",
              "        1.        , 1.        , 1.        , 1.        , 1.        ,\n",
              "        1.0001028 , 0.9999592 , 1.0006336 , 0.9997941 , 1.0003086 ,\n",
              "        1.0002471 , 0.9974125 , 0.9987453 , 0.99994963, 0.99895006,\n",
              "        1.0010747 , 0.99714625, 0.9958993 , 0.997616  , 0.99916977,\n",
              "        1.0003458 , 1.0009662 , 0.998581  , 0.9997493 , 0.9999988 ,\n",
              "        1.        , 1.        , 1.        , 1.        ], dtype=float32),\n",
              " array([-8.75650439e-03, -8.32041260e-03,  6.02737255e-03, -3.37499031e-03,\n",
              "         1.70103386e-02, -6.59912359e-03, -3.39238322e-03, -6.30902639e-03,\n",
              "        -1.32127386e-02,  2.03560833e-02,  1.08707638e-03,  1.29485590e-04,\n",
              "        -6.49482291e-03, -2.63875909e-03,  1.21441102e-02, -9.51955095e-03,\n",
              "         9.39596538e-03, -6.84691733e-03, -4.04868217e-04, -4.90783667e-03,\n",
              "        -8.74815101e-04, -1.34712702e-03,  1.83103830e-02, -9.02580796e-04,\n",
              "        -4.80904290e-03,  4.55677323e-03, -1.00921877e-02,  1.67763536e-03,\n",
              "        -2.31303740e-03, -6.08588615e-03,  3.23764142e-03, -1.20828440e-03,\n",
              "        -5.31152682e-03,  1.12429215e-03, -2.11270945e-03,  1.65512487e-02,\n",
              "         3.59038822e-03, -1.93815678e-03, -1.05926674e-02,  1.39822746e-02,\n",
              "        -6.69136457e-03, -3.89167946e-03,  6.26683701e-03, -6.77163806e-03,\n",
              "         7.55598582e-03,  1.50277959e-02,  2.71075405e-03, -2.35084314e-02,\n",
              "        -1.08171580e-02, -1.13778806e-04,  1.13532962e-02, -4.13989322e-03,\n",
              "        -5.70323877e-03,  8.40143207e-03, -1.51356664e-02,  2.69547547e-03,\n",
              "         6.19689841e-03, -1.64878480e-02, -1.01077743e-03, -1.24051934e-02,\n",
              "         8.18850100e-03,  2.62245932e-03,  2.26571853e-03, -1.58037059e-02,\n",
              "         6.51345169e-03, -3.12768854e-03,  8.88788141e-03, -8.21879320e-03,\n",
              "        -3.56632052e-03,  5.89801185e-03, -1.40390685e-03,  5.92279714e-03,\n",
              "         1.17023364e-02,  7.69088557e-03, -8.37945007e-03, -2.20857692e-04,\n",
              "         1.00990226e-02, -4.75230347e-03, -1.64327072e-03,  1.88879948e-03,\n",
              "         1.69299375e-02, -1.80234562e-03,  6.84253033e-03,  6.83372840e-03,\n",
              "         1.35916448e-03, -3.88239208e-03,  2.68943757e-02,  1.50572730e-03,\n",
              "         5.90657443e-03, -2.61103013e-03, -6.93200110e-03,  2.72578094e-03,\n",
              "        -2.86417129e-03,  8.38550925e-03, -2.00528763e-02,  9.08710994e-03,\n",
              "        -1.92754064e-03, -1.80372933e-03,  1.39678335e-02, -1.61631443e-02,\n",
              "         1.43103767e-03, -3.00011528e-03,  8.36132211e-04, -8.64261854e-03,\n",
              "         1.08591728e-02, -9.29512177e-03,  2.59717787e-03, -8.46606307e-03,\n",
              "        -2.81083491e-03, -2.16144440e-03,  1.15257278e-02,  1.98480600e-04,\n",
              "         5.09402365e-04,  5.98919624e-03, -5.69080841e-03,  2.55616428e-03,\n",
              "         2.85196095e-03,  4.80781822e-03,  4.59860057e-05,  7.31615582e-03,\n",
              "        -7.33208493e-04,  5.08891512e-03, -6.63432712e-03,  1.72424794e-03,\n",
              "         4.06471314e-03, -1.43824583e-02,  1.57230825e-03,  1.25687364e-02,\n",
              "         7.10492069e-03, -5.12686279e-03,  7.91195221e-03,  8.49940843e-05,\n",
              "         1.83860457e-03,  1.40785269e-04, -2.04440369e-03, -2.20524438e-04,\n",
              "        -1.50942826e-03,  1.65413003e-02,  5.55902999e-03, -6.84635481e-03,\n",
              "        -1.33477943e-02,  1.79957561e-02, -4.98053944e-03,  4.24791733e-03,\n",
              "         8.04986991e-03, -7.76206050e-03, -2.71738740e-03, -1.17093623e-02,\n",
              "        -1.84267422e-03,  8.58344603e-03, -7.10251648e-03, -5.44409966e-03,\n",
              "         2.40398608e-02,  5.64820087e-03,  7.05175987e-03,  8.16268101e-03,\n",
              "         5.70167042e-03,  1.39887668e-02, -3.33807361e-03,  9.52557940e-03,\n",
              "         2.06659213e-02, -6.47990778e-03,  9.30508412e-03, -1.04394183e-02,\n",
              "        -3.28727625e-03,  1.75044220e-02,  1.44050242e-02,  4.00055200e-03,\n",
              "         8.46100785e-03,  1.02300504e-02, -5.63290250e-03, -1.62122992e-03,\n",
              "        -8.94751865e-03, -6.58929814e-03, -1.38983671e-02, -3.39160068e-03,\n",
              "         8.05793796e-03,  1.61669515e-02,  7.61396112e-03, -4.56755428e-04,\n",
              "         1.22475077e-03,  8.40115454e-03,  1.92819582e-03,  9.72615182e-03,\n",
              "        -6.19095564e-03, -1.16976630e-02, -5.48905833e-03,  2.95850856e-04,\n",
              "         6.62335195e-03, -1.19601982e-03,  5.81901055e-04, -3.51378066e-03,\n",
              "        -8.06565583e-03,  3.81228863e-03, -1.48095386e-02, -4.71041026e-03,\n",
              "         5.59851818e-04, -1.75375082e-02,  9.00595449e-03,  1.77776888e-02,\n",
              "        -2.90219230e-03, -5.40885795e-03, -6.46291720e-03,  8.45396891e-03,\n",
              "        -1.29902149e-02, -4.78093605e-03,  6.83098100e-03, -3.58580588e-03,\n",
              "        -1.13321329e-03,  7.00426893e-03,  8.42433609e-03,  6.43766997e-03,\n",
              "         6.71142293e-03, -6.10284647e-03,  6.39682356e-03, -1.71185285e-02,\n",
              "        -1.39541179e-02,  7.09797163e-03, -5.03745256e-03, -8.50255415e-03,\n",
              "         8.04098696e-03,  1.11393118e-03,  7.93285109e-03,  7.36601138e-03,\n",
              "         4.74761194e-03,  6.17440371e-03,  2.54350179e-03,  7.41478894e-03,\n",
              "         7.59467774e-04,  3.68554349e-04,  1.01595360e-03,  6.27155928e-03,\n",
              "        -3.38531332e-03,  2.20698919e-02, -7.22660264e-03,  8.83417856e-03,\n",
              "         4.01829835e-03, -6.19928353e-03, -1.47622859e-03,  1.36697013e-03,\n",
              "        -5.77615760e-03, -1.95730291e-02,  1.26418401e-03, -3.90535593e-03,\n",
              "         1.25841834e-02,  2.55381409e-02,  3.75449425e-03, -2.50820583e-03,\n",
              "        -1.98230264e-03,  1.62972827e-02, -1.13204191e-03, -5.94576646e-04,\n",
              "         5.96716651e-04,  1.05238017e-02,  3.34523781e-03,  6.20352197e-03,\n",
              "         4.20350581e-03,  1.21387979e-02, -9.07316338e-03,  4.49586241e-03,\n",
              "         1.10702328e-02, -1.31266154e-02, -3.49806435e-03, -3.53282643e-03,\n",
              "         2.00892240e-02, -1.04199816e-02, -5.41050127e-03, -1.46302273e-02,\n",
              "        -3.21997702e-03,  7.41577998e-04,  1.06953904e-02,  7.28665851e-03,\n",
              "         5.56043669e-05,  6.76208735e-03,  5.16312104e-03,  1.23095009e-02,\n",
              "         3.71640502e-03, -4.12016548e-03, -1.55196814e-02, -1.33412378e-02,\n",
              "        -1.28433881e-02,  7.22797634e-03, -2.19498295e-03,  1.19695440e-02,\n",
              "        -9.94243193e-03, -7.47487973e-03, -6.69557182e-03,  1.30405482e-02,\n",
              "         1.16671631e-02, -5.81081444e-03,  5.74498298e-03,  1.31979296e-02,\n",
              "        -5.60862804e-03,  6.63640152e-04, -7.81256473e-04, -6.81146001e-03,\n",
              "        -1.09924935e-02,  5.31004975e-03,  1.23106381e-02,  5.61569538e-03,\n",
              "         6.23393711e-03,  5.34114987e-03,  3.43940128e-03,  1.76960183e-03,\n",
              "         1.42351529e-02,  2.09831959e-03, -1.17034903e-02,  1.88518187e-03,\n",
              "         5.87539934e-03,  4.17641690e-03,  3.38924164e-03,  2.36815144e-03,\n",
              "        -6.70208875e-03,  7.69355940e-03, -3.76633997e-03, -1.36055856e-03,\n",
              "         2.39137039e-02,  2.11566687e-03, -6.15531462e-04, -4.41683456e-03,\n",
              "        -4.52910597e-03, -2.70842039e-03,  8.33717920e-03, -1.64607307e-03,\n",
              "        -1.00251138e-02,  5.33158192e-03,  1.15671079e-03,  6.03432721e-03,\n",
              "         4.03644238e-03,  3.35864315e-04,  8.71161278e-03,  2.26899298e-04,\n",
              "         1.20755401e-03, -4.34476649e-03, -1.42909372e-02,  2.62868009e-03,\n",
              "        -1.70674780e-03,  5.90763753e-04, -1.39703918e-02,  1.61092216e-03,\n",
              "         2.30906197e-04, -6.11264491e-03,  4.65579890e-03, -9.24804155e-03,\n",
              "        -1.37725119e-02,  1.31710535e-02,  7.06906663e-03,  6.38745259e-03,\n",
              "         1.41663859e-02,  1.84769640e-04,  9.61375143e-03, -9.14401095e-03,\n",
              "        -1.65133300e-04,  3.77121475e-03,  3.41267209e-03,  1.09306127e-02,\n",
              "         8.55080504e-03,  1.09791686e-03, -5.10671828e-03,  5.87784359e-03,\n",
              "        -5.95731137e-04, -1.77359022e-02, -2.52627651e-03, -4.74357652e-03,\n",
              "        -5.31246327e-03, -6.93061482e-03,  1.30522382e-02,  7.68053858e-03,\n",
              "        -1.43547412e-02, -7.08013214e-03,  6.81400904e-03,  1.07812684e-03,\n",
              "        -5.32780075e-03,  2.77615967e-03,  4.53035394e-03, -6.10463740e-03,\n",
              "         1.73295997e-02, -1.20880397e-03, -1.23006403e-02, -8.16046912e-03,\n",
              "         7.71706225e-03,  5.88524388e-03,  1.23597393e-02,  9.48924012e-03,\n",
              "        -1.02402195e-02,  9.23692994e-03, -3.86571349e-03, -5.57622267e-03,\n",
              "        -3.91763309e-03, -1.10807596e-02, -1.03041939e-02,  4.65936074e-03,\n",
              "         4.82922746e-03,  2.50677089e-03, -1.63439643e-02, -2.17116161e-04,\n",
              "        -2.04624254e-02,  8.76652543e-03,  4.49500949e-04,  2.09282544e-02,\n",
              "         3.00638610e-04,  1.69195384e-02,  2.03000810e-02, -2.60835909e-03,\n",
              "         1.28096063e-02,  5.52362669e-03, -9.57699586e-03,  1.10138496e-02,\n",
              "        -2.88064801e-03,  1.13227945e-02, -2.59202044e-03,  1.13107702e-02,\n",
              "         5.75213321e-03, -8.51123536e-04, -6.02335855e-03, -1.71339372e-03,\n",
              "        -9.38389543e-03, -7.31558539e-03,  7.77967041e-03, -1.25508886e-02,\n",
              "         4.99216095e-03,  4.13881987e-03, -1.67109683e-04,  1.39088342e-02,\n",
              "         7.33587332e-03, -8.94428417e-03, -2.41045980e-03,  4.32944112e-03,\n",
              "         5.69254812e-03,  3.55543382e-03, -1.90861672e-02,  1.58324186e-02,\n",
              "         7.87971728e-03,  1.53216291e-02, -3.44048743e-03, -1.95188704e-03,\n",
              "        -1.42592238e-03, -1.50363182e-03,  5.87006449e-04,  6.13337569e-03,\n",
              "         6.53612195e-04, -4.67547961e-03, -6.57762866e-03,  4.13600216e-03,\n",
              "        -5.79007622e-03,  1.57035012e-02,  5.42312115e-03,  4.18080064e-03,\n",
              "         5.58111537e-03,  1.66542884e-02,  1.71162747e-02,  1.29844027e-03,\n",
              "        -3.90729215e-03,  3.01922252e-03,  1.72311645e-02,  1.08943097e-02,\n",
              "        -1.82188628e-03,  8.40853958e-04,  4.83007776e-03,  9.20428615e-03,\n",
              "         7.24271545e-03, -1.30024069e-04,  7.10828137e-03,  1.28160708e-03,\n",
              "        -5.17866015e-03,  6.09655958e-03,  2.68255174e-03,  1.52941467e-02,\n",
              "         2.35332362e-03, -1.08396290e-02, -2.53718160e-03,  1.48209920e-02,\n",
              "        -3.16386322e-05,  7.05444533e-03,  9.29856393e-03, -1.43602621e-02,\n",
              "        -7.54185347e-03, -3.64682463e-04,  1.44614780e-03,  1.78784914e-02,\n",
              "        -1.18696252e-02,  1.05091576e-02,  1.27488107e-03,  5.78710390e-03,\n",
              "         8.87589063e-03,  1.91618409e-02, -9.62957973e-04,  1.23867048e-02,\n",
              "         1.85115486e-02,  9.05027986e-03, -4.31104889e-03,  9.18651279e-03,\n",
              "         1.17111327e-02,  1.02819214e-02, -1.02812154e-02,  2.21883017e-03,\n",
              "         2.79691583e-03, -1.19863357e-02, -5.54949744e-03, -1.37453992e-02,\n",
              "         4.79026348e-05, -5.81475440e-03, -1.37493592e-02, -9.58781410e-03,\n",
              "         1.63515710e-04,  7.70865800e-03, -2.85155931e-03,  4.87816893e-03,\n",
              "         1.71750374e-02, -1.26151387e-02,  1.60242319e-02,  2.19054148e-02,\n",
              "         1.57316849e-02,  6.57638442e-03,  8.39390885e-03,  6.85544685e-03,\n",
              "         2.00156844e-03,  1.36853103e-02, -1.49050634e-03,  3.52727839e-05,\n",
              "         9.58674774e-03,  3.50626861e-03,  8.95676855e-03, -7.87918363e-03,\n",
              "        -3.49912210e-03, -7.10898254e-04, -5.09107718e-03, -4.02995414e-04,\n",
              "         5.46012167e-03, -4.99480544e-03, -5.32193854e-03, -9.26699955e-03,\n",
              "         6.46939036e-04,  1.25860153e-02, -2.21416783e-02,  2.47286563e-03,\n",
              "         2.55206740e-03,  3.77425109e-03,  6.94429781e-03,  1.24410121e-02,\n",
              "         1.95353255e-02,  2.53220880e-03,  1.45430844e-02,  2.15936895e-03,\n",
              "         6.71114260e-03, -1.00131268e-02,  1.68395648e-03, -3.57218878e-03,\n",
              "         9.33692977e-03,  1.05729476e-02,  1.67283230e-02,  2.26326920e-02,\n",
              "         1.67141445e-02,  4.01774095e-03, -3.55191738e-03,  7.26346485e-03,\n",
              "         5.89879276e-03,  1.59694925e-02, -1.26027307e-02,  6.90940116e-03,\n",
              "        -1.02484580e-02,  1.97423715e-02, -3.47506418e-03, -7.99379405e-03,\n",
              "        -1.27719706e-02,  1.06158424e-02,  5.90377301e-03,  1.38569372e-02,\n",
              "         1.40325185e-02,  8.02916475e-03,  7.35388417e-03,  1.33318314e-03,\n",
              "        -4.75861086e-03, -1.52673468e-03, -1.73787232e-02,  9.37636662e-03,\n",
              "        -9.88097023e-03,  1.03228604e-02,  2.65849149e-03,  1.77280772e-02,\n",
              "        -6.41668215e-03,  2.94769718e-03,  2.39481069e-02,  2.72526639e-04,\n",
              "        -5.74159296e-03,  6.60800375e-03, -1.24076009e-02, -7.32367160e-03,\n",
              "         6.35011867e-03,  1.62303715e-03, -1.86684430e-02, -1.07987542e-02,\n",
              "        -5.90858189e-03,  1.02155218e-02,  1.29400035e-02,  6.74950751e-03,\n",
              "        -6.22444134e-03, -4.33665840e-03,  6.23818254e-03,  2.71711359e-03,\n",
              "         2.16720570e-02, -3.97154409e-03,  4.76366607e-03,  2.37281108e-03,\n",
              "         5.23994816e-03,  2.64275447e-03, -9.43953171e-03,  7.25168735e-03,\n",
              "        -2.72939331e-03, -5.43124974e-03,  2.44144467e-03,  3.10339546e-03,\n",
              "         1.27560655e-02, -3.28657171e-03,  7.58016249e-04, -6.20405143e-03,\n",
              "         5.23511134e-03,  5.02803456e-03,  1.58569328e-02,  4.52317623e-03,\n",
              "         3.91512224e-03,  3.32579162e-04,  5.82462235e-04, -1.54499430e-02,\n",
              "         2.11315724e-04,  2.87018134e-03,  6.58692559e-03,  1.23672970e-02,\n",
              "        -3.60160065e-03,  8.60896613e-03,  2.41162023e-03, -7.57190585e-03,\n",
              "        -3.46648344e-03,  1.45305600e-02,  1.66255198e-02,  2.22478784e-03,\n",
              "        -8.03677551e-03, -3.86224128e-04, -9.83603299e-03, -3.72481125e-04,\n",
              "         5.13338950e-03, -3.99006810e-03, -9.25397500e-03,  9.40097310e-03,\n",
              "         9.03491676e-03,  1.13834077e-02,  2.45139701e-03,  8.84425081e-03,\n",
              "         1.21781370e-02,  1.58132371e-02,  1.44559215e-03,  3.16983997e-03,\n",
              "        -2.31606141e-03, -1.34430118e-02,  5.82181057e-03, -8.69535655e-03,\n",
              "        -1.76760256e-02, -8.14967137e-03,  6.70324638e-03, -9.78589337e-03,\n",
              "        -2.96421233e-03,  1.00874668e-02, -8.50314740e-03,  2.77310936e-03,\n",
              "         4.50970046e-03,  4.09569737e-04,  9.52565204e-03,  2.15035584e-03,\n",
              "        -6.74393773e-03, -3.11054871e-03, -1.31294329e-03, -8.50725861e-04,\n",
              "        -4.57983743e-03,  1.45416521e-03,  3.49261821e-03,  3.48440459e-04,\n",
              "        -1.86107866e-02, -5.75938146e-04, -6.40686462e-03, -1.27692474e-03,\n",
              "        -1.43615510e-02,  1.02585852e-02, -6.28798315e-03,  1.56445876e-02,\n",
              "        -5.59521560e-03,  8.07873625e-03, -6.27918309e-03, -4.74949507e-03,\n",
              "        -1.28478687e-02, -7.14007358e-04, -7.51953246e-03, -3.03726969e-03,\n",
              "         1.78400532e-03, -9.20761842e-03, -1.41716730e-02, -1.26148127e-02,\n",
              "        -4.59416583e-03,  6.09470590e-04,  9.66486987e-03, -7.29828747e-03,\n",
              "        -1.19532868e-02, -7.61253992e-03,  3.06814583e-03, -2.02323729e-03,\n",
              "        -1.36766350e-02,  1.20006490e-03, -1.24250194e-02,  7.94974621e-03,\n",
              "        -1.54852727e-03,  1.28455553e-03,  1.53515702e-02, -1.59966424e-02,\n",
              "        -7.57823186e-03,  1.51463831e-03, -3.73384636e-03,  1.41350450e-02,\n",
              "         4.54247603e-03,  1.35369995e-03, -2.67404760e-03,  5.52365230e-03,\n",
              "        -4.45096404e-04, -3.30770412e-03, -4.97181155e-03,  1.01042911e-02,\n",
              "         1.11331986e-02, -7.53953494e-03, -1.06487898e-02,  6.87446073e-03,\n",
              "        -7.36284070e-03,  1.63052429e-03,  2.34804396e-02, -7.66473543e-03,\n",
              "         7.21409975e-04, -1.69440988e-03,  1.38272480e-05,  9.44064651e-03,\n",
              "        -5.29464986e-03,  1.31744407e-02, -1.66577788e-03, -5.69911068e-03,\n",
              "         2.61158519e-03, -1.55598318e-04, -4.46473481e-03, -5.48791233e-03,\n",
              "        -5.48333162e-04,  1.42400423e-02, -1.37662906e-02, -1.88944936e-02,\n",
              "         1.14039816e-02,  1.11790455e-03, -4.56662988e-03, -9.36238002e-03,\n",
              "        -1.03360498e-02,  4.75120125e-03, -1.50006311e-03, -8.64907820e-03,\n",
              "        -1.45581309e-02,  1.54148480e-02, -4.50224383e-03,  6.95134141e-03,\n",
              "        -1.22717582e-02,  4.16622870e-03, -1.23871677e-02, -1.69077670e-04,\n",
              "         1.81869715e-02,  3.06598423e-03,  4.50270280e-04, -6.22124597e-03,\n",
              "        -7.63370772e-05,  7.94792548e-03,  6.39731716e-03,  1.38373282e-02,\n",
              "         1.92701016e-02,  5.44114038e-03,  5.90657489e-03, -3.61812790e-03,\n",
              "        -7.23316194e-03, -3.13855475e-03,  3.89490882e-03,  1.22346925e-02,\n",
              "        -9.52399895e-03, -1.51011790e-03, -4.84673260e-03,  1.09713189e-02],\n",
              "       dtype=float32),\n",
              " array([0.00000000e+00, 0.00000000e+00, 0.00000000e+00, 0.00000000e+00,\n",
              "        0.00000000e+00, 0.00000000e+00, 0.00000000e+00, 0.00000000e+00,\n",
              "        0.00000000e+00, 0.00000000e+00, 0.00000000e+00, 0.00000000e+00,\n",
              "        5.59888935e-09, 1.06303560e-07, 1.04653004e-07, 4.36053460e-09,\n",
              "        0.00000000e+00, 0.00000000e+00, 0.00000000e+00, 0.00000000e+00,\n",
              "        0.00000000e+00, 0.00000000e+00, 0.00000000e+00, 0.00000000e+00,\n",
              "        0.00000000e+00, 0.00000000e+00, 0.00000000e+00, 0.00000000e+00,\n",
              "        0.00000000e+00, 0.00000000e+00, 0.00000000e+00, 0.00000000e+00,\n",
              "        2.20006109e-06, 6.69905921e-06, 3.14820674e-03, 1.99668426e-02,\n",
              "        3.99757959e-02, 1.12824328e-01, 3.32691133e-01, 3.53526622e-01,\n",
              "        3.56454015e-01, 1.96405947e-01, 1.45932779e-01, 1.25301108e-01,\n",
              "        2.65915185e-01, 1.93789855e-01, 9.53888074e-02, 4.89468761e-02,\n",
              "        4.03679758e-02, 3.09545081e-03, 6.09267177e-03, 8.34132917e-03,\n",
              "        0.00000000e+00, 0.00000000e+00, 0.00000000e+00, 0.00000000e+00,\n",
              "        0.00000000e+00, 0.00000000e+00, 2.61103565e-07, 1.81622227e-07,\n",
              "        4.95525834e-04, 1.68940667e-02, 1.40065774e-02, 6.98001161e-02,\n",
              "        2.21484542e-01, 5.86539030e-01, 1.14334512e+00, 1.79726183e+00,\n",
              "        2.20741129e+00, 2.50887322e+00, 2.78023505e+00, 3.02650380e+00,\n",
              "        3.34680033e+00, 3.07625318e+00, 2.83023596e+00, 2.08076882e+00,\n",
              "        1.00854552e+00, 4.03937578e-01, 1.74916461e-01, 4.86413389e-02,\n",
              "        1.40303439e-02, 6.93484116e-03, 0.00000000e+00, 0.00000000e+00,\n",
              "        0.00000000e+00, 0.00000000e+00, 2.80074048e-04, 1.08340493e-04,\n",
              "        2.29471992e-03, 7.63779655e-02, 1.62241757e-01, 4.47172076e-01,\n",
              "        1.14815676e+00, 2.59803796e+00, 4.19330215e+00, 6.21883917e+00,\n",
              "        7.73275280e+00, 9.43921280e+00, 1.15629864e+01, 1.30046492e+01,\n",
              "        1.26875458e+01, 1.12971687e+01, 9.21151257e+00, 6.50696039e+00,\n",
              "        3.98313618e+00, 2.04533696e+00, 8.07337582e-01, 2.42795244e-01,\n",
              "        1.10131383e-01, 3.79641913e-02, 8.95281206e-04, 0.00000000e+00,\n",
              "        0.00000000e+00, 1.41323362e-05, 2.31308164e-03, 5.01851458e-03,\n",
              "        3.63659672e-02, 3.01488072e-01, 8.69186819e-01, 2.32130647e+00,\n",
              "        5.08005714e+00, 9.30733967e+00, 1.47547140e+01, 2.10504379e+01,\n",
              "        2.77865372e+01, 3.55500565e+01, 4.18961868e+01, 4.43734055e+01,\n",
              "        4.35878639e+01, 3.71999741e+01, 2.93596554e+01, 2.22836819e+01,\n",
              "        1.44518099e+01, 8.33127975e+00, 4.63205767e+00, 1.96657586e+00,\n",
              "        8.06088328e-01, 3.28157127e-01, 1.07150458e-01, 1.02442037e-02,\n",
              "        0.00000000e+00, 0.00000000e+00, 1.57719571e-02, 3.52502763e-02,\n",
              "        3.51735741e-01, 1.39912927e+00, 3.67928886e+00, 7.74433136e+00,\n",
              "        1.43816643e+01, 2.33119736e+01, 3.42380257e+01, 4.62132072e+01,\n",
              "        5.99333305e+01, 7.44649506e+01, 8.49684753e+01, 8.92980881e+01,\n",
              "        8.66048813e+01, 7.56532516e+01, 6.14989777e+01, 4.67388458e+01,\n",
              "        3.32121162e+01, 2.05360641e+01, 1.17014847e+01, 6.43680477e+00,\n",
              "        3.13118148e+00, 9.78401661e-01, 1.65003806e-01, 1.52002797e-02,\n",
              "        0.00000000e+00, 3.55887023e-04, 2.68887244e-02, 1.63361788e-01,\n",
              "        1.14403057e+00, 3.12100673e+00, 7.56173992e+00, 1.51784172e+01,\n",
              "        2.61240482e+01, 3.94185028e+01, 5.52190361e+01, 7.13430557e+01,\n",
              "        8.98611145e+01, 1.07304977e+02, 1.18954636e+02, 1.23036041e+02,\n",
              "        1.20776421e+02, 1.07981964e+02, 9.06016312e+01, 7.08215637e+01,\n",
              "        5.23353767e+01, 3.49981537e+01, 2.09230137e+01, 1.18103523e+01,\n",
              "        5.67865849e+00, 2.01309085e+00, 3.23134452e-01, 1.93567183e-02,\n",
              "        6.89856228e-10, 1.93130746e-02, 1.75836116e-01, 7.04167902e-01,\n",
              "        2.34309840e+00, 6.01711273e+00, 1.29866476e+01, 2.37434807e+01,\n",
              "        3.83099861e+01, 5.60377731e+01, 7.48818817e+01, 9.47055664e+01,\n",
              "        1.12179268e+02, 1.25664772e+02, 1.32632965e+02, 1.34614670e+02,\n",
              "        1.33252914e+02, 1.25691071e+02, 1.10347893e+02, 8.96250000e+01,\n",
              "        6.66559372e+01, 4.53631859e+01, 2.80631313e+01, 1.52019968e+01,\n",
              "        6.91694450e+00, 2.68077517e+00, 4.26967084e-01, 3.96337211e-02,\n",
              "        1.31973890e-08, 8.33274350e-02, 5.26614368e-01, 1.65236366e+00,\n",
              "        3.91292477e+00, 8.98331642e+00, 1.73393211e+01, 3.10634575e+01,\n",
              "        4.86274185e+01, 6.93650284e+01, 8.99721680e+01, 1.08007286e+02,\n",
              "        1.19398308e+02, 1.23647568e+02, 1.22996078e+02, 1.22220154e+02,\n",
              "        1.23650017e+02, 1.23039345e+02, 1.15593353e+02, 9.82200317e+01,\n",
              "        7.39187317e+01, 5.07517815e+01, 3.09700832e+01, 1.59028959e+01,\n",
              "        6.82553148e+00, 2.49757147e+00, 4.69294667e-01, 1.39889987e-02,\n",
              "        6.09126873e-03, 9.62381139e-02, 6.82596684e-01, 2.04107738e+00,\n",
              "        4.56670523e+00, 9.78932953e+00, 2.00310097e+01, 3.54331436e+01,\n",
              "        5.56925888e+01, 7.77338638e+01, 9.85627518e+01, 1.10660561e+02,\n",
              "        1.10538284e+02, 1.04768295e+02, 9.92809219e+01, 9.99321899e+01,\n",
              "        1.05620728e+02, 1.11717865e+02, 1.11160690e+02, 9.74796906e+01,\n",
              "        7.42347870e+01, 5.06936226e+01, 3.06944332e+01, 1.53366861e+01,\n",
              "        5.72997665e+00, 1.73172140e+00, 3.45787346e-01, 2.10451223e-02,\n",
              "        1.45362401e-02, 1.83232471e-01, 6.88709974e-01, 1.90250361e+00,\n",
              "        4.43442106e+00, 1.01227922e+01, 2.07083397e+01, 3.71438026e+01,\n",
              "        5.85581856e+01, 8.16546936e+01, 9.96873016e+01, 1.02980736e+02,\n",
              "        9.27854385e+01, 8.17243271e+01, 7.96824799e+01, 8.51699371e+01,\n",
              "        9.45185699e+01, 1.04967857e+02, 1.06329453e+02, 9.24582062e+01,\n",
              "        7.02794724e+01, 4.78024712e+01, 2.81328487e+01, 1.35656939e+01,\n",
              "        4.56552696e+00, 9.14723933e-01, 1.78088143e-01, 1.27646653e-02,\n",
              "        9.98397078e-03, 1.43392697e-01, 5.68645418e-01, 1.42871952e+00,\n",
              "        3.90680647e+00, 9.92865944e+00, 2.09646645e+01, 3.98063927e+01,\n",
              "        6.24723701e+01, 8.55395355e+01, 9.80530624e+01, 9.43999329e+01,\n",
              "        7.96788864e+01, 7.15422668e+01, 7.60798569e+01, 8.59837341e+01,\n",
              "        9.82399445e+01, 1.08102844e+02, 1.05545174e+02, 8.85315933e+01,\n",
              "        6.48594131e+01, 4.25089340e+01, 2.51956081e+01, 1.30584650e+01,\n",
              "        4.18500566e+00, 6.18400574e-01, 1.14708759e-01, 8.87137651e-03,\n",
              "        6.17203629e-03, 1.54591324e-02, 2.78336942e-01, 1.10738111e+00,\n",
              "        3.47216749e+00, 9.65556622e+00, 2.20900631e+01, 4.32855606e+01,\n",
              "        6.75128937e+01, 8.82325974e+01, 9.76957855e+01, 9.10390015e+01,\n",
              "        7.93280106e+01, 7.94231415e+01, 9.00634613e+01, 1.03149078e+02,\n",
              "        1.14651588e+02, 1.18189484e+02, 1.08501556e+02, 8.59645691e+01,\n",
              "        5.89316902e+01, 3.83145447e+01, 2.42630100e+01, 1.35244226e+01,\n",
              "        4.50760841e+00, 5.62164307e-01, 7.60958493e-02, 2.70048942e-04,\n",
              "        2.85613373e-06, 5.97491395e-04, 1.27556309e-01, 9.22995090e-01,\n",
              "        3.38618588e+00, 1.07006769e+01, 2.50950375e+01, 4.75227737e+01,\n",
              "        7.20381622e+01, 9.11513596e+01, 9.73603592e+01, 9.14134750e+01,\n",
              "        8.71237793e+01, 9.73330536e+01, 1.11532692e+02, 1.24620277e+02,\n",
              "        1.30548523e+02, 1.27221725e+02, 1.11181534e+02, 8.30691147e+01,\n",
              "        5.50072136e+01, 3.71333733e+01, 2.46883793e+01, 1.45063868e+01,\n",
              "        5.40742779e+00, 8.53702605e-01, 1.00556180e-01, 3.82102677e-04,\n",
              "        9.47541790e-04, 2.41166708e-05, 6.60629049e-02, 6.36401534e-01,\n",
              "        3.62092686e+00, 1.25885983e+01, 2.79554958e+01, 4.99878883e+01,\n",
              "        7.38734055e+01, 9.12766800e+01, 9.62843857e+01, 9.36009598e+01,\n",
              "        9.83604736e+01, 1.15218285e+02, 1.29307007e+02, 1.38430298e+02,\n",
              "        1.36121277e+02, 1.28220444e+02, 1.09557556e+02, 8.15500031e+01,\n",
              "        5.64897041e+01, 3.92678108e+01, 2.62123413e+01, 1.51138010e+01,\n",
              "        6.35823441e+00, 1.06930888e+00, 8.11054111e-02, 3.88184089e-05,\n",
              "        6.94704358e-04, 3.95546194e-05, 5.41924126e-02, 4.71551061e-01,\n",
              "        3.68811679e+00, 1.45588923e+01, 2.99856567e+01, 5.07372131e+01,\n",
              "        7.10809326e+01, 8.70345535e+01, 9.21024857e+01, 9.51521912e+01,\n",
              "        1.04953781e+02, 1.21495140e+02, 1.33323456e+02, 1.36942581e+02,\n",
              "        1.30769028e+02, 1.20290466e+02, 1.02077972e+02, 8.05798492e+01,\n",
              "        5.94864960e+01, 4.21365166e+01, 2.74707088e+01, 1.48554726e+01,\n",
              "        6.39212465e+00, 1.13270378e+00, 1.18980080e-01, 9.67364106e-03,\n",
              "        2.19684117e-03, 1.18115144e-02, 6.48362190e-02, 6.14506423e-01,\n",
              "        4.43391991e+00, 1.63437939e+01, 3.14072285e+01, 4.97498741e+01,\n",
              "        6.62017593e+01, 7.85473480e+01, 8.37347031e+01, 8.83569870e+01,\n",
              "        9.89598465e+01, 1.11984398e+02, 1.23986824e+02, 1.25519783e+02,\n",
              "        1.19138367e+02, 1.09116997e+02, 9.50706024e+01, 7.95641251e+01,\n",
              "        6.15771027e+01, 4.31649284e+01, 2.68873138e+01, 1.39576721e+01,\n",
              "        5.72011089e+00, 1.14853728e+00, 1.48135751e-01, 1.57659687e-02,\n",
              "        0.00000000e+00, 8.01907852e-04, 7.69241303e-02, 9.62052464e-01,\n",
              "        5.73906136e+00, 1.77987022e+01, 3.23699226e+01, 4.82055817e+01,\n",
              "        6.04610100e+01, 6.86723328e+01, 7.31017532e+01, 7.83558426e+01,\n",
              "        8.68157501e+01, 9.95101089e+01, 1.10177963e+02, 1.11484573e+02,\n",
              "        1.08710030e+02, 1.02765877e+02, 9.30441589e+01, 7.90610580e+01,\n",
              "        6.03962097e+01, 4.12608604e+01, 2.46409359e+01, 1.24212227e+01,\n",
              "        5.11702013e+00, 1.52771878e+00, 2.96769768e-01, 3.23643647e-02,\n",
              "        5.77885544e-07, 2.37559492e-04, 1.58809707e-01, 1.36535585e+00,\n",
              "        6.94454002e+00, 1.98890171e+01, 3.40453949e+01, 4.80125237e+01,\n",
              "        5.77190094e+01, 6.51814957e+01, 7.08412323e+01, 7.50994644e+01,\n",
              "        8.07295380e+01, 9.36645126e+01, 1.04193695e+02, 1.08078842e+02,\n",
              "        1.08519669e+02, 1.03992310e+02, 9.42362518e+01, 7.81635742e+01,\n",
              "        5.71705856e+01, 3.82974281e+01, 2.27372913e+01, 1.13474293e+01,\n",
              "        4.64161205e+00, 1.40662932e+00, 2.65190870e-01, 2.97571234e-02,\n",
              "        2.73288902e-06, 2.84111768e-04, 2.07021251e-01, 1.78946364e+00,\n",
              "        7.93863487e+00, 2.08473454e+01, 3.66490746e+01, 5.02959023e+01,\n",
              "        6.17277908e+01, 7.15450439e+01, 7.81758652e+01, 8.27794037e+01,\n",
              "        8.96281662e+01, 1.00930054e+02, 1.10226227e+02, 1.14172791e+02,\n",
              "        1.13728607e+02, 1.06886009e+02, 9.30204163e+01, 7.23245239e+01,\n",
              "        5.02441406e+01, 3.29277611e+01, 1.92127991e+01, 9.38266277e+00,\n",
              "        3.88121700e+00, 1.08712173e+00, 1.65463030e-01, 1.35262692e-02,\n",
              "        0.00000000e+00, 1.21354368e-02, 1.47776306e-01, 2.01491642e+00,\n",
              "        7.51340961e+00, 1.94182758e+01, 3.55165596e+01, 5.24487381e+01,\n",
              "        6.83711166e+01, 8.09684372e+01, 9.08524933e+01, 9.80014496e+01,\n",
              "        1.07210381e+02, 1.16974342e+02, 1.23749977e+02, 1.23760071e+02,\n",
              "        1.17511887e+02, 1.03374657e+02, 8.32393951e+01, 6.03871574e+01,\n",
              "        4.04976883e+01, 2.53808346e+01, 1.44047394e+01, 7.06200314e+00,\n",
              "        3.12203526e+00, 7.46619880e-01, 6.53626770e-02, 1.61758601e-03,\n",
              "        1.55149475e-08, 8.89764912e-03, 1.45714417e-01, 1.71326053e+00,\n",
              "        6.10514402e+00, 1.56534262e+01, 3.11219559e+01, 5.01592484e+01,\n",
              "        7.00816269e+01, 8.71473694e+01, 1.01330475e+02, 1.13091713e+02,\n",
              "        1.23274841e+02, 1.30383194e+02, 1.31847626e+02, 1.24675247e+02,\n",
              "        1.10164055e+02, 8.96671524e+01, 6.59161530e+01, 4.48699532e+01,\n",
              "        2.82149467e+01, 1.67765865e+01, 8.94849205e+00, 4.47889423e+00,\n",
              "        2.14099312e+00, 4.44668055e-01, 7.00755715e-02, 1.70526516e-06,\n",
              "        1.50300874e-08, 4.56515962e-04, 8.54777470e-02, 1.01743186e+00,\n",
              "        3.68891692e+00, 9.88372135e+00, 2.24288540e+01, 4.04251251e+01,\n",
              "        6.11238098e+01, 8.09794617e+01, 9.93687973e+01, 1.13868034e+02,\n",
              "        1.23058655e+02, 1.25913513e+02, 1.21301628e+02, 1.07109505e+02,\n",
              "        8.82769623e+01, 6.65438995e+01, 4.56989822e+01, 2.89296074e+01,\n",
              "        1.67754230e+01, 9.09892368e+00, 4.81987667e+00, 2.41520858e+00,\n",
              "        9.89408493e-01, 1.78157225e-01, 3.86262387e-02, 3.14817999e-06,\n",
              "        0.00000000e+00, 0.00000000e+00, 3.73504199e-02, 4.45911795e-01,\n",
              "        1.85826445e+00, 4.74068165e+00, 1.16462612e+01, 2.38618355e+01,\n",
              "        4.05935020e+01, 5.94146233e+01, 7.71367416e+01, 9.12556763e+01,\n",
              "        9.90618744e+01, 9.84675140e+01, 8.78590393e+01, 7.41724396e+01,\n",
              "        5.75837593e+01, 4.11999016e+01, 2.65476379e+01, 1.58805475e+01,\n",
              "        8.39397717e+00, 4.29991770e+00, 2.40906096e+00, 1.20512271e+00,\n",
              "        3.63743097e-01, 2.48902142e-02, 1.78932888e-03, 0.00000000e+00,\n",
              "        0.00000000e+00, 0.00000000e+00, 1.25552462e-02, 8.09252113e-02,\n",
              "        6.08442783e-01, 1.61354661e+00, 4.19058895e+00, 8.92981434e+00,\n",
              "        1.69200020e+01, 2.68020630e+01, 3.74375801e+01, 4.59662247e+01,\n",
              "        5.01319656e+01, 4.92724190e+01, 4.42059593e+01, 3.64103851e+01,\n",
              "        2.77511826e+01, 1.97972450e+01, 1.24811106e+01, 7.55877876e+00,\n",
              "        3.81825423e+00, 1.95371854e+00, 1.08799946e+00, 5.58640242e-01,\n",
              "        9.17649567e-02, 9.22695175e-03, 3.80934210e-07, 0.00000000e+00,\n",
              "        0.00000000e+00, 0.00000000e+00, 1.76809356e-03, 6.58368412e-03,\n",
              "        1.43511429e-01, 3.74024153e-01, 1.32112527e+00, 3.11607385e+00,\n",
              "        5.92656565e+00, 9.63263226e+00, 1.38593388e+01, 1.73567543e+01,\n",
              "        1.85592556e+01, 1.84030533e+01, 1.59182043e+01, 1.35037880e+01,\n",
              "        1.09708080e+01, 8.29357624e+00, 5.56992769e+00, 3.31800246e+00,\n",
              "        1.55455279e+00, 6.94353282e-01, 3.13583910e-01, 1.52384773e-01,\n",
              "        4.83155549e-02, 1.01039780e-06, 4.03497978e-07, 0.00000000e+00,\n",
              "        0.00000000e+00, 0.00000000e+00, 0.00000000e+00, 1.10799877e-03,\n",
              "        2.45558992e-02, 2.04827547e-01, 6.84983909e-01, 1.15054297e+00,\n",
              "        2.02252197e+00, 3.05719781e+00, 4.29545689e+00, 5.73127985e+00,\n",
              "        6.60232162e+00, 6.65398264e+00, 5.59142351e+00, 4.66382647e+00,\n",
              "        3.73667455e+00, 2.82598376e+00, 1.89704430e+00, 8.71073365e-01,\n",
              "        4.11519498e-01, 2.67917454e-01, 9.73209888e-02, 1.16865123e-02,\n",
              "        1.93658588e-03, 1.92752077e-06, 0.00000000e+00, 0.00000000e+00,\n",
              "        0.00000000e+00, 0.00000000e+00, 0.00000000e+00, 0.00000000e+00,\n",
              "        9.95673417e-06, 6.10002171e-05, 1.55774620e-03, 7.19799176e-02,\n",
              "        1.15869671e-01, 1.70880303e-01, 3.41776520e-01, 4.57262784e-01,\n",
              "        6.48638248e-01, 6.66726053e-01, 6.41919255e-01, 6.05499625e-01,\n",
              "        4.36662614e-01, 3.21706533e-01, 1.94888264e-01, 7.26953298e-02,\n",
              "        2.52307802e-02, 2.42912630e-03, 2.88637690e-02, 4.38178693e-09,\n",
              "        0.00000000e+00, 0.00000000e+00, 0.00000000e+00, 0.00000000e+00],\n",
              "       dtype=float32),\n",
              " array([1.17198604e-36, 1.17198604e-36, 1.17198604e-36, 1.17198604e-36,\n",
              "        1.17198604e-36, 1.17198604e-36, 1.17198604e-36, 1.17198604e-36,\n",
              "        1.17198604e-36, 1.17198604e-36, 1.17198604e-36, 1.17198604e-36,\n",
              "        1.31648548e-07, 2.23048137e-05, 2.18986424e-05, 3.80185092e-08,\n",
              "        1.17198604e-36, 1.17198604e-36, 1.17198604e-36, 1.17198604e-36,\n",
              "        1.17198604e-36, 1.17198604e-36, 1.17198604e-36, 1.17198604e-36,\n",
              "        1.17198604e-36, 1.17198604e-36, 1.17198604e-36, 1.17198604e-36,\n",
              "        1.17198604e-36, 1.17198604e-36, 1.17198604e-36, 1.17198604e-36,\n",
              "        3.41009290e-05, 2.96085229e-04, 2.03796282e-01, 3.44278860e+00,\n",
              "        8.58663464e+00, 1.60986252e+01, 7.16599731e+01, 5.63532219e+01,\n",
              "        7.20816727e+01, 2.97736645e+01, 2.41362095e+01, 2.69379921e+01,\n",
              "        5.27670097e+01, 3.39296303e+01, 1.95476303e+01, 7.47133064e+00,\n",
              "        8.48696423e+00, 1.19204186e-01, 8.37084234e-01, 1.59014606e+00,\n",
              "        1.17198604e-36, 1.17198604e-36, 1.17198604e-36, 1.17198604e-36,\n",
              "        1.17198604e-36, 1.17198604e-36, 1.61884127e-05, 2.54309361e-06,\n",
              "        1.26242591e-02, 9.58847642e-01, 1.70522833e+00, 8.93722630e+00,\n",
              "        4.19883194e+01, 9.97123642e+01, 2.13066483e+02, 3.42174377e+02,\n",
              "        4.04774902e+02, 4.72617065e+02, 5.10557220e+02, 5.30841125e+02,\n",
              "        6.32755127e+02, 5.80719055e+02, 5.40987000e+02, 4.12839050e+02,\n",
              "        1.77868973e+02, 7.61693497e+01, 2.83218517e+01, 7.25074339e+00,\n",
              "        2.56246781e+00, 8.69738817e-01, 1.17198604e-36, 1.17198604e-36,\n",
              "        1.17198604e-36, 1.17198604e-36, 1.14506632e-02, 1.76730612e-03,\n",
              "        1.50053293e-01, 1.36636391e+01, 2.82409172e+01, 7.50630646e+01,\n",
              "        1.91395538e+02, 4.85185333e+02, 7.85870422e+02, 1.19610510e+03,\n",
              "        1.43569312e+03, 1.74239502e+03, 2.14149097e+03, 2.45398413e+03,\n",
              "        2.32219995e+03, 2.09768921e+03, 1.73279053e+03, 1.22594690e+03,\n",
              "        7.21465637e+02, 3.76466583e+02, 1.30597672e+02, 4.45171204e+01,\n",
              "        1.61907215e+01, 3.17842627e+00, 1.04590543e-01, 1.17198604e-36,\n",
              "        1.17198604e-36, 5.20247035e-04, 1.75702184e-01, 2.40046382e-01,\n",
              "        2.81105566e+00, 4.34486389e+01, 1.26705276e+02, 3.83519836e+02,\n",
              "        8.98389709e+02, 1.69615503e+03, 2.63422266e+03, 3.73316260e+03,\n",
              "        4.76478760e+03, 5.88293799e+03, 6.74136328e+03, 7.14841406e+03,\n",
              "        6.95695508e+03, 6.11750000e+03, 5.05263086e+03, 3.89034448e+03,\n",
              "        2.59282178e+03, 1.49836755e+03, 8.31025330e+02, 3.44137299e+02,\n",
              "        1.32774490e+02, 6.00797653e+01, 1.68456383e+01, 6.25216603e-01,\n",
              "        1.17198604e-36, 1.17198604e-36, 1.44073510e+00, 5.85685682e+00,\n",
              "        4.80181503e+01, 2.44273193e+02, 6.55160767e+02, 1.39506335e+03,\n",
              "        2.61547656e+03, 4.08479980e+03, 5.76610889e+03, 7.44968457e+03,\n",
              "        8.98860254e+03, 1.03773672e+04, 1.11798828e+04, 1.14337061e+04,\n",
              "        1.10863857e+04, 1.02642373e+04, 9.05523535e+03, 7.45641797e+03,\n",
              "        5.62656055e+03, 3.53502197e+03, 2.08369263e+03, 1.12842456e+03,\n",
              "        5.44265442e+02, 1.40180176e+02, 2.35891228e+01, 1.36857033e+00,\n",
              "        1.17198604e-36, 1.37906917e-03, 2.58851147e+00, 2.07874889e+01,\n",
              "        2.12396164e+02, 5.55508362e+02, 1.37398669e+03, 2.69976196e+03,\n",
              "        4.56873828e+03, 6.54386670e+03, 8.50900098e+03, 1.00022451e+04,\n",
              "        1.11815576e+04, 1.19968535e+04, 1.22401943e+04, 1.23772373e+04,\n",
              "        1.23166699e+04, 1.20650850e+04, 1.13045283e+04, 1.01159541e+04,\n",
              "        8.26750879e+03, 5.84474658e+03, 3.70368945e+03, 2.12214990e+03,\n",
              "        1.02040265e+03, 3.35691315e+02, 5.12891464e+01, 1.47688103e+00,\n",
              "        3.14100284e-08, 1.01168585e+00, 2.88682899e+01, 1.26149757e+02,\n",
              "        4.13951660e+02, 1.06850317e+03, 2.31476001e+03, 4.17941406e+03,\n",
              "        6.43724219e+03, 8.53190332e+03, 1.00431260e+04, 1.11912627e+04,\n",
              "        1.17593350e+04, 1.18732227e+04, 1.19091064e+04, 1.18043398e+04,\n",
              "        1.18513398e+04, 1.19237148e+04, 1.18804600e+04, 1.12548262e+04,\n",
              "        9.62442285e+03, 7.33939551e+03, 4.86272705e+03, 2.68040503e+03,\n",
              "        1.20702979e+03, 4.28403595e+02, 6.26429329e+01, 5.61934996e+00,\n",
              "        1.05238917e-06, 1.33043556e+01, 1.02411613e+02, 2.99078552e+02,\n",
              "        7.18013245e+02, 1.66254895e+03, 3.13607349e+03, 5.36980908e+03,\n",
              "        7.67224023e+03, 9.81603418e+03, 1.10961270e+04, 1.17305723e+04,\n",
              "        1.20903008e+04, 1.19241367e+04, 1.19075273e+04, 1.18030205e+04,\n",
              "        1.17903984e+04, 1.19394912e+04, 1.19982021e+04, 1.16250225e+04,\n",
              "        1.01976504e+04, 8.08174854e+03, 5.34355176e+03, 2.80659570e+03,\n",
              "        1.20035815e+03, 4.32547485e+02, 7.96417236e+01, 1.41954374e+00,\n",
              "        4.62617993e-01, 1.09153156e+01, 1.28831223e+02, 4.04776703e+02,\n",
              "        8.73152710e+02, 1.77465442e+03, 3.58811230e+03, 6.11317725e+03,\n",
              "        8.63769043e+03, 1.05262139e+04, 1.17018486e+04, 1.20957979e+04,\n",
              "        1.19263643e+04, 1.16164111e+04, 1.14090703e+04, 1.14819619e+04,\n",
              "        1.15271582e+04, 1.18667051e+04, 1.19365293e+04, 1.17222715e+04,\n",
              "        1.03041426e+04, 8.11051660e+03, 5.35247754e+03, 2.67983203e+03,\n",
              "        9.75202759e+02, 2.87766815e+02, 5.33475914e+01, 3.63891840e+00,\n",
              "        2.60776639e+00, 3.94611359e+01, 1.35407883e+02, 3.64040375e+02,\n",
              "        8.33346924e+02, 1.85545715e+03, 3.79505322e+03, 6.28361621e+03,\n",
              "        8.93516797e+03, 1.06866934e+04, 1.17023164e+04, 1.19634961e+04,\n",
              "        1.12776055e+04, 1.04363857e+04, 1.02939258e+04, 1.07382266e+04,\n",
              "        1.11065830e+04, 1.16903936e+04, 1.17536230e+04, 1.14883779e+04,\n",
              "        1.00391426e+04, 7.79962012e+03, 4.92777002e+03, 2.42257153e+03,\n",
              "        7.76424316e+02, 1.51079895e+02, 3.14552670e+01, 1.02921581e+00,\n",
              "        1.05438077e+00, 2.74787731e+01, 1.05510567e+02, 2.65894775e+02,\n",
              "        7.30042603e+02, 1.80154492e+03, 3.79903638e+03, 6.56705811e+03,\n",
              "        9.33479883e+03, 1.09309043e+04, 1.17681465e+04, 1.15209111e+04,\n",
              "        1.02676562e+04, 9.48904395e+03, 1.01700664e+04, 1.09901816e+04,\n",
              "        1.13044990e+04, 1.17039912e+04, 1.18087754e+04, 1.13851289e+04,\n",
              "        9.43047949e+03, 7.01170801e+03, 4.55935059e+03, 2.41713062e+03,\n",
              "        6.81981079e+02, 1.05086647e+02, 1.39927092e+01, 9.54254866e-01,\n",
              "        9.74602699e-01, 1.25853467e+00, 5.21653137e+01, 2.01417511e+02,\n",
              "        6.49132080e+02, 1.80078723e+03, 3.92703198e+03, 7.08891504e+03,\n",
              "        9.87880566e+03, 1.13583691e+04, 1.18221670e+04, 1.12366592e+04,\n",
              "        1.04770391e+04, 1.02885732e+04, 1.15413691e+04, 1.19033994e+04,\n",
              "        1.18100137e+04, 1.19769932e+04, 1.20366338e+04, 1.11475088e+04,\n",
              "        8.66851758e+03, 6.48967725e+03, 4.45278467e+03, 2.56974561e+03,\n",
              "        7.62197021e+02, 8.67952805e+01, 1.67539196e+01, 2.73964200e-02,\n",
              "        8.85401678e-05, 2.41100565e-02, 2.82532845e+01, 1.76297623e+02,\n",
              "        6.46699158e+02, 1.95543213e+03, 4.40597266e+03, 7.71722607e+03,\n",
              "        1.03510469e+04, 1.15834990e+04, 1.17844150e+04, 1.13593477e+04,\n",
              "        1.09563857e+04, 1.13776553e+04, 1.24547979e+04, 1.20571367e+04,\n",
              "        1.17225293e+04, 1.21339180e+04, 1.21507900e+04, 1.07880879e+04,\n",
              "        8.25676855e+03, 6.35069727e+03, 4.52862354e+03, 2.76990698e+03,\n",
              "        9.93765869e+02, 1.44488144e+02, 1.40890846e+01, 7.72037953e-02,\n",
              "        1.03726201e-01, 2.08004215e-03, 6.95342255e+00, 1.09150421e+02,\n",
              "        6.72599426e+02, 2.31320093e+03, 4.97594434e+03, 8.19843164e+03,\n",
              "        1.05625146e+04, 1.16771348e+04, 1.17342725e+04, 1.14866709e+04,\n",
              "        1.13300420e+04, 1.21447578e+04, 1.25133799e+04, 1.16014404e+04,\n",
              "        1.17622559e+04, 1.20986875e+04, 1.20330625e+04, 1.07679307e+04,\n",
              "        8.55966016e+03, 6.67093896e+03, 4.76472607e+03, 2.85840381e+03,\n",
              "        1.20250562e+03, 1.74538345e+02, 8.57742310e+00, 1.11883471e-03,\n",
              "        1.37278112e-02, 8.65962263e-03, 8.25374317e+00, 8.14941406e+01,\n",
              "        6.15579163e+02, 2.70556348e+03, 5.33355518e+03, 8.21153906e+03,\n",
              "        1.02638340e+04, 1.14410801e+04, 1.14770459e+04, 1.14697695e+04,\n",
              "        1.15763799e+04, 1.21707324e+04, 1.21527773e+04, 1.16570479e+04,\n",
              "        1.20689287e+04, 1.22310322e+04, 1.15951055e+04, 1.07945303e+04,\n",
              "        8.91295508e+03, 7.13941064e+03, 4.92199561e+03, 2.73659570e+03,\n",
              "        1.19133667e+03, 1.82662827e+02, 1.81986942e+01, 8.82214785e-01,\n",
              "        8.51275548e-02, 1.05059814e+00, 1.25174561e+01, 9.34143829e+01,\n",
              "        7.66274597e+02, 3.03410400e+03, 5.54446826e+03, 8.13758936e+03,\n",
              "        9.81263184e+03, 1.07369141e+04, 1.09043916e+04, 1.10504766e+04,\n",
              "        1.16339766e+04, 1.21820010e+04, 1.22649736e+04, 1.21559658e+04,\n",
              "        1.21985527e+04, 1.18591768e+04, 1.13595928e+04, 1.07019082e+04,\n",
              "        9.16573730e+03, 7.23225732e+03, 4.78418262e+03, 2.55977148e+03,\n",
              "        1.05113013e+03, 1.95546143e+02, 1.98919411e+01, 1.18705821e+00,\n",
              "        1.17198604e-36, 1.93179045e-02, 1.42442427e+01, 1.58867630e+02,\n",
              "        1.05573242e+03, 3.27173169e+03, 5.73178174e+03, 7.85851709e+03,\n",
              "        9.24862988e+03, 9.94156934e+03, 1.00897266e+04, 1.04987402e+04,\n",
              "        1.11160508e+04, 1.16542676e+04, 1.20823086e+04, 1.20482178e+04,\n",
              "        1.19194141e+04, 1.15250088e+04, 1.12868086e+04, 1.07344590e+04,\n",
              "        9.13663574e+03, 6.91818506e+03, 4.37167432e+03, 2.25791675e+03,\n",
              "        8.99003113e+02, 2.65876129e+02, 5.26561813e+01, 3.19741726e+00,\n",
              "        3.14489512e-06, 2.17602607e-02, 2.67363815e+01, 2.42437042e+02,\n",
              "        1.27442542e+03, 3.66642407e+03, 5.98589502e+03, 7.85007129e+03,\n",
              "        8.95097852e+03, 9.60815332e+03, 1.01765645e+04, 1.04726504e+04,\n",
              "        1.07871670e+04, 1.14103730e+04, 1.19641279e+04, 1.18801670e+04,\n",
              "        1.18550820e+04, 1.16901475e+04, 1.15550029e+04, 1.07809053e+04,\n",
              "        8.87529102e+03, 6.48482520e+03, 4.04732056e+03, 2.05254932e+03,\n",
              "        8.26327087e+02, 2.54476746e+02, 5.18418579e+01, 3.28622413e+00,\n",
              "        3.97122931e-05, 3.12876254e-02, 4.02519760e+01, 3.37465912e+02,\n",
              "        1.48077209e+03, 3.89476367e+03, 6.41416650e+03, 8.16823535e+03,\n",
              "        9.39856348e+03, 1.03120898e+04, 1.08523066e+04, 1.10064883e+04,\n",
              "        1.12661406e+04, 1.17646230e+04, 1.19801318e+04, 1.18105186e+04,\n",
              "        1.17861309e+04, 1.19783604e+04, 1.16240244e+04, 1.01801992e+04,\n",
              "        8.08504443e+03, 5.78368262e+03, 3.47524731e+03, 1.71020056e+03,\n",
              "        7.09603210e+02, 1.87956406e+02, 2.95488605e+01, 6.88053727e-01,\n",
              "        1.17198604e-36, 2.16888928e+00, 2.26747665e+01, 3.76911255e+02,\n",
              "        1.45568018e+03, 3.57775977e+03, 6.19461182e+03, 8.47917871e+03,\n",
              "        1.00735557e+04, 1.09572275e+04, 1.15737197e+04, 1.18222344e+04,\n",
              "        1.20720469e+04, 1.19840176e+04, 1.20581006e+04, 1.19893057e+04,\n",
              "        1.19630996e+04, 1.18531289e+04, 1.09817549e+04, 9.08389648e+03,\n",
              "        6.73361621e+03, 4.57511621e+03, 2.63173535e+03, 1.30327454e+03,\n",
              "        5.57968994e+02, 1.10868202e+02, 7.02457952e+00, 7.99130052e-02,\n",
              "        4.80962797e-07, 1.17006576e+00, 2.73313370e+01, 2.99425873e+02,\n",
              "        1.12920581e+03, 2.86884668e+03, 5.48649512e+03, 8.14601758e+03,\n",
              "        1.02566172e+04, 1.14378516e+04, 1.19083193e+04, 1.21249717e+04,\n",
              "        1.20305791e+04, 1.18464492e+04, 1.19580996e+04, 1.19650615e+04,\n",
              "        1.18814668e+04, 1.11762012e+04, 9.59831250e+03, 7.29595215e+03,\n",
              "        4.98680566e+03, 3.02590942e+03, 1.62047803e+03, 8.22793884e+02,\n",
              "        3.77297974e+02, 7.30289078e+01, 8.89872074e+00, 6.44269458e-05,\n",
              "        4.51373296e-07, 3.10374028e-03, 1.57953787e+01, 1.56942230e+02,\n",
              "        6.55685303e+02, 1.73103809e+03, 3.88276514e+03, 6.68165234e+03,\n",
              "        9.39257520e+03, 1.11680312e+04, 1.20199941e+04, 1.22210859e+04,\n",
              "        1.21404521e+04, 1.21594131e+04, 1.21520986e+04, 1.18027656e+04,\n",
              "        1.10456553e+04, 9.56725195e+03, 7.39356055e+03, 4.98296191e+03,\n",
              "        2.98643896e+03, 1.62317786e+03, 8.98722656e+02, 4.50387970e+02,\n",
              "        1.56594208e+02, 2.17164135e+01, 4.93179321e+00, 2.19585607e-04,\n",
              "        1.17198604e-36, 1.17198604e-36, 4.90302849e+00, 6.12053108e+01,\n",
              "        3.23180786e+02, 8.32702332e+02, 2.01831409e+03, 4.05877490e+03,\n",
              "        6.56209521e+03, 9.07625781e+03, 1.06212520e+04, 1.15080664e+04,\n",
              "        1.17948330e+04, 1.15813252e+04, 1.09731367e+04, 1.01246836e+04,\n",
              "        8.58941406e+03, 6.67773389e+03, 4.59596973e+03, 2.79161304e+03,\n",
              "        1.49222229e+03, 7.67847900e+02, 4.42404144e+02, 2.19981277e+02,\n",
              "        5.89176369e+01, 3.32285452e+00, 1.07184693e-01, 1.17198604e-36,\n",
              "        1.17198604e-36, 1.17198604e-36, 1.94628978e+00, 1.09615297e+01,\n",
              "        9.16512222e+01, 2.88669952e+02, 7.28098633e+02, 1.59796838e+03,\n",
              "        2.98442798e+03, 4.65129932e+03, 6.26180615e+03, 7.44831201e+03,\n",
              "        7.86956787e+03, 7.80965869e+03, 7.09092432e+03, 5.96223535e+03,\n",
              "        4.68811084e+03, 3.47382446e+03, 2.24877100e+03, 1.40300793e+03,\n",
              "        6.67524719e+02, 3.56088135e+02, 1.97790405e+02, 9.21625366e+01,\n",
              "        1.25392761e+01, 7.85453856e-01, 3.61096209e-05, 1.17198604e-36,\n",
              "        1.17198604e-36, 1.17198604e-36, 4.94126864e-02, 8.07651997e-01,\n",
              "        2.62938614e+01, 6.16011581e+01, 2.29730392e+02, 5.91460754e+02,\n",
              "        1.12514856e+03, 1.84113538e+03, 2.65031396e+03, 3.20358740e+03,\n",
              "        3.43409277e+03, 3.43398877e+03, 2.85985889e+03, 2.47063623e+03,\n",
              "        2.06772852e+03, 1.54211499e+03, 1.07547119e+03, 6.19035339e+02,\n",
              "        2.88282227e+02, 1.26431000e+02, 5.34431725e+01, 2.21444607e+01,\n",
              "        6.71181583e+00, 1.11230787e-04, 4.06525032e-05, 1.17198604e-36,\n",
              "        1.17198604e-36, 1.17198604e-36, 1.17198604e-36, 4.07882370e-02,\n",
              "        4.71642303e+00, 3.06634827e+01, 1.37644348e+02, 2.15959381e+02,\n",
              "        3.87645203e+02, 5.61320984e+02, 8.04956726e+02, 1.05480688e+03,\n",
              "        1.23157312e+03, 1.25437244e+03, 1.02221149e+03, 8.50409851e+02,\n",
              "        7.09165039e+02, 5.12090820e+02, 3.56559296e+02, 1.62382675e+02,\n",
              "        7.93679276e+01, 5.11218872e+01, 1.52266874e+01, 1.11782670e+00,\n",
              "        5.02569824e-02, 1.10170062e-04, 1.17198604e-36, 1.17198604e-36,\n",
              "        1.17198604e-36, 1.17198604e-36, 1.17198604e-36, 1.17198604e-36,\n",
              "        6.95269322e-04, 1.02356523e-02, 8.36664885e-02, 1.38128471e+01,\n",
              "        1.79137783e+01, 3.23403664e+01, 5.63783112e+01, 8.47037277e+01,\n",
              "        1.20754684e+02, 1.11041321e+02, 1.15035904e+02, 1.17095810e+02,\n",
              "        6.95258331e+01, 5.91797485e+01, 3.40098076e+01, 1.37559996e+01,\n",
              "        1.63548267e+00, 7.58623555e-02, 4.30182219e+00, 2.46886231e-07,\n",
              "        1.17198604e-36, 1.17198604e-36, 1.17198604e-36, 1.17198604e-36],\n",
              "       dtype=float32),\n",
              " array([[-0.06087445,  0.04239643, -0.07676255, ..., -0.0104647 ,\n",
              "          0.05284254,  0.05459137],\n",
              "        [-0.04935335,  0.00072588,  0.06489139, ...,  0.07368571,\n",
              "         -0.05589194, -0.0291219 ],\n",
              "        [-0.02457925,  0.02060266, -0.0116686 , ..., -0.04749432,\n",
              "          0.06992207, -0.02630161],\n",
              "        ...,\n",
              "        [-0.01584718,  0.00250883, -0.00315439, ..., -0.00245881,\n",
              "          0.07709945,  0.06730225],\n",
              "        [ 0.03192569,  0.0761157 , -0.04482695, ..., -0.05379112,\n",
              "         -0.03090326,  0.00164788],\n",
              "        [ 0.00801844, -0.06168698,  0.00905289, ...,  0.03825785,\n",
              "          0.02714325, -0.06359178]], dtype=float32),\n",
              " array([ 2.26939609e-03, -2.89335218e-03,  2.18445645e-03,  1.14245703e-02,\n",
              "        -1.40838027e-02,  1.14131225e-02, -1.13539351e-02, -6.13135239e-03,\n",
              "         6.73411507e-03,  6.39254833e-03,  2.42974333e-04,  1.33782718e-02,\n",
              "         2.23046914e-02,  4.19093855e-03,  1.96301052e-03,  2.58780755e-02,\n",
              "         1.07186204e-02,  1.27161741e-02,  1.13057299e-03,  1.13873584e-02,\n",
              "        -1.52937369e-03,  8.54458194e-03,  4.90456773e-03, -5.53316018e-03,\n",
              "         2.91944426e-02,  4.46642330e-03,  3.11414502e-03,  1.50802301e-03,\n",
              "         8.35456513e-03,  2.40118261e-02, -1.11978315e-02,  2.00358238e-02,\n",
              "         1.16099771e-02,  5.11374138e-03, -3.56258068e-04,  1.20958975e-02,\n",
              "         5.12541085e-03, -9.99775715e-03, -1.05726672e-02, -9.60830320e-03,\n",
              "         1.94002967e-02, -5.44079626e-03,  1.78014289e-03, -6.86480023e-04,\n",
              "         1.48327332e-02,  7.43009383e-03,  1.09426305e-02,  7.54493661e-03,\n",
              "        -3.59099312e-03,  3.17879692e-02,  3.85669642e-03,  9.55857057e-03,\n",
              "         1.84557922e-02,  1.03454133e-02,  6.44021714e-03, -1.98985524e-02,\n",
              "         1.99104031e-03,  1.29225617e-03,  1.47858467e-02,  2.27448624e-02,\n",
              "         1.14629650e-02,  4.64988500e-03,  1.01382211e-02,  1.65739227e-02,\n",
              "         1.77509878e-02,  1.03076957e-02,  6.38251938e-03, -1.29086887e-02,\n",
              "         6.53519435e-03,  1.76979266e-02, -4.42538294e-04,  1.62578579e-02,\n",
              "         1.21760117e-02, -3.91583890e-03,  1.63791385e-02,  1.47205377e-02,\n",
              "         6.60231430e-03,  3.73911392e-03,  3.29694850e-03,  1.92254018e-02,\n",
              "         2.23132167e-02,  1.99013986e-02,  1.35752531e-02,  2.97324285e-02,\n",
              "         7.13646552e-03,  1.63819874e-03,  1.68777537e-02, -2.07939115e-03,\n",
              "         2.25126706e-02,  1.61602919e-03, -3.66561324e-03,  3.00071146e-02,\n",
              "        -6.75280299e-03, -5.94688021e-03, -2.27527739e-03,  2.82788035e-02,\n",
              "         1.60951819e-02,  5.97148063e-03,  5.08248666e-03,  8.07890110e-03,\n",
              "         2.35049017e-02,  8.53119045e-03, -5.06471144e-03,  3.09538487e-02,\n",
              "         2.07641385e-02,  1.56362932e-02,  6.87252759e-05,  7.57360226e-03,\n",
              "         2.35537626e-02,  9.99094173e-03,  5.78728504e-03,  2.71353615e-03,\n",
              "         1.06815072e-02,  1.01817632e-02,  1.15702804e-02,  8.07671435e-03,\n",
              "        -4.06193687e-03,  1.16866836e-02, -3.00713326e-03,  3.71902972e-03,\n",
              "        -2.75986479e-03, -5.29289199e-03,  2.10603122e-02,  1.00745540e-02,\n",
              "         4.81663877e-03, -1.26735633e-02,  5.47530549e-03, -4.09605360e-04,\n",
              "        -1.31643387e-02, -1.00996867e-02,  2.44963635e-02, -9.65683442e-03,\n",
              "         1.23075563e-02,  1.09540625e-02,  1.52832335e-02,  2.63189822e-02,\n",
              "        -5.59280161e-04,  8.93725455e-03,  7.86034763e-03,  9.06142592e-03,\n",
              "        -4.34573711e-04,  4.44769301e-03,  7.67532561e-04,  2.26360429e-02,\n",
              "         2.55951844e-02, -9.92747024e-03, -2.92968168e-03,  7.40052899e-03,\n",
              "         2.33501429e-03,  1.17358137e-02,  3.00647840e-02, -1.14389798e-02,\n",
              "         1.46842413e-02,  2.93466765e-02, -8.78909603e-03,  1.13383988e-02,\n",
              "         2.45362408e-02,  2.94392789e-03,  1.96953472e-02,  1.42907836e-02,\n",
              "         1.88036934e-02, -2.63382569e-02, -1.93830822e-02, -1.81190018e-03,\n",
              "        -1.51616707e-02,  8.35997052e-03,  3.42622725e-03, -2.40369118e-03,\n",
              "        -2.22766213e-03, -1.38199911e-03, -2.09371541e-02,  6.87550986e-03,\n",
              "         9.68819484e-03, -8.46197736e-03,  8.20512790e-03,  1.25879599e-02,\n",
              "         4.26830864e-03,  5.14681233e-05,  1.38594909e-02, -3.32595897e-04,\n",
              "         3.57250147e-03,  1.32970477e-03,  1.90881919e-02, -1.37901818e-02,\n",
              "        -7.92709086e-03, -1.37279043e-02, -8.45216960e-03, -2.11190488e-02,\n",
              "        -2.37742963e-04, -7.29956105e-03,  1.01913593e-03,  5.45122707e-03,\n",
              "         1.00255106e-02, -5.64527325e-03,  4.12851898e-03, -1.90619268e-02,\n",
              "         3.49392444e-02,  6.36333087e-03, -1.21726124e-02, -7.39419181e-03],\n",
              "       dtype=float32),\n",
              " array([[ 0.04101679, -0.10637062,  0.04186865, ..., -0.13788177,\n",
              "          0.014956  , -0.1346327 ],\n",
              "        [-0.11256754, -0.1391118 , -0.10866258, ...,  0.04592953,\n",
              "         -0.11522356, -0.0321882 ],\n",
              "        [ 0.06442314,  0.05758115,  0.01587018, ..., -0.09788425,\n",
              "          0.10999074, -0.14822185],\n",
              "        ...,\n",
              "        [-0.13525026, -0.08569548,  0.07319508, ...,  0.12843384,\n",
              "          0.09188596, -0.00857419],\n",
              "        [-0.00254327, -0.12609074, -0.09036728, ...,  0.02359998,\n",
              "          0.08163714,  0.10066237],\n",
              "        [ 0.04382007,  0.01653614, -0.01498744, ..., -0.06211593,\n",
              "          0.06009947, -0.00209134]], dtype=float32),\n",
              " array([ 0.01555117,  0.00797671,  0.01791024, -0.0132341 , -0.00327327,\n",
              "         0.04549288,  0.00152769,  0.0041512 , -0.00788843,  0.00610661,\n",
              "        -0.00108469,  0.00626934,  0.00859451,  0.01458891,  0.00464022,\n",
              "         0.00589734,  0.02882325, -0.00141772,  0.00260211,  0.02123536,\n",
              "         0.00437508,  0.00068449,  0.01987955,  0.01551597,  0.03220272,\n",
              "         0.01600113,  0.0052722 ,  0.00139896,  0.01082263,  0.01003454,\n",
              "         0.00025684,  0.00825802,  0.01537628,  0.00713356, -0.00984236,\n",
              "        -0.00336748, -0.0105186 ,  0.03530005,  0.00500672, -0.00575037,\n",
              "         0.0261586 , -0.0032183 ,  0.00125125, -0.00127364,  0.01620346,\n",
              "         0.00449512, -0.00358967,  0.03063228,  0.05722325, -0.00185636,\n",
              "         0.03558073, -0.00272916,  0.05344497,  0.00949251,  0.01650619,\n",
              "         0.0035955 ,  0.02924879,  0.01770321,  0.00919026,  0.00291468,\n",
              "         0.02364408, -0.00927574,  0.00308715,  0.00275722,  0.02261382,\n",
              "         0.00336074,  0.03162233,  0.01382206,  0.03838579,  0.00272906,\n",
              "         0.02850133,  0.01673396,  0.00369632, -0.00893846,  0.01728197,\n",
              "        -0.00264658,  0.01356491,  0.01118326,  0.00417902,  0.0445067 ,\n",
              "        -0.00518166,  0.00431765,  0.04725343, -0.00147633,  0.00992532,\n",
              "         0.03916263, -0.00514344,  0.00323746,  0.01279132,  0.01997592,\n",
              "         0.01232432,  0.00669847,  0.02049444, -0.00269872,  0.02872855,\n",
              "         0.01130019,  0.00393402,  0.01786584,  0.00812587,  0.02585902],\n",
              "       dtype=float32),\n",
              " array([[-0.06277191, -0.04940119,  0.08955403, ..., -0.17357227,\n",
              "          0.16918199, -0.19132255],\n",
              "        [ 0.17325293,  0.0304173 , -0.07299085, ..., -0.05990388,\n",
              "          0.20267485,  0.18869346],\n",
              "        [ 0.17706679, -0.00695204,  0.05016417, ..., -0.10278843,\n",
              "         -0.09066761,  0.11109079],\n",
              "        ...,\n",
              "        [ 0.00614246, -0.01766521, -0.09647121, ..., -0.12538418,\n",
              "          0.05713852, -0.02957021],\n",
              "        [ 0.13752493, -0.13276626, -0.12909989, ..., -0.04786623,\n",
              "          0.00295124,  0.09641995],\n",
              "        [ 0.16229162,  0.14235559, -0.04212226, ..., -0.16061655,\n",
              "          0.22320455,  0.08613726]], dtype=float32),\n",
              " array([-2.1943077e-03, -3.3697255e-03, -1.1354511e-02, -3.2011975e-04,\n",
              "         1.5604154e-02,  5.3899765e-02, -7.2986977e-03,  1.5146649e-02,\n",
              "         2.6674788e-03,  2.8017205e-03,  1.1223040e-02,  1.5363191e-02,\n",
              "         1.0225912e-02, -5.5320170e-03,  1.6632723e-02, -1.3269346e-02,\n",
              "        -2.3795443e-03,  3.3258838e-03, -6.2461905e-03,  6.9411150e-03,\n",
              "        -9.6964529e-03,  5.2556958e-02, -1.9694462e-02,  1.6940920e-02,\n",
              "         8.4894346e-03,  3.2217793e-02,  1.6404616e-02,  2.6692191e-02,\n",
              "         1.9747583e-02, -1.9620640e-04, -2.8828715e-03,  3.9086483e-02,\n",
              "        -5.9553527e-04,  1.7636318e-02,  8.7046275e-05,  4.8068020e-02,\n",
              "         3.5181891e-02, -2.0426437e-03,  4.1746730e-03,  1.0885332e-03,\n",
              "         8.6398339e-03,  1.0183749e-03,  1.0253226e-03,  4.6103533e-02,\n",
              "        -4.5403824e-03,  1.4086924e-02,  3.0340455e-02,  3.0869933e-02,\n",
              "        -4.5610944e-04, -1.5899589e-02,  2.7222395e-02,  1.9039858e-02,\n",
              "         2.9697077e-02, -2.6235899e-03,  9.6131368e-03,  2.6248936e-02,\n",
              "        -2.5303748e-03,  1.5986178e-04,  1.1855683e-02,  1.5390038e-02],\n",
              "       dtype=float32),\n",
              " array([[ 0.2147643 ,  0.22269817, -0.2095394 , ...,  0.19534312,\n",
              "         -0.2572822 ,  0.01848644],\n",
              "        [-0.03992756,  0.1786187 , -0.16544211, ...,  0.26711038,\n",
              "         -0.22190343, -0.05264874],\n",
              "        [-0.06578801,  0.08698998,  0.04284701, ..., -0.00138199,\n",
              "          0.19061254,  0.06746147],\n",
              "        ...,\n",
              "        [ 0.22249596,  0.10539553,  0.15467504, ...,  0.16733363,\n",
              "         -0.01644213, -0.19404162],\n",
              "        [ 0.1294431 , -0.21749996,  0.11256085, ...,  0.20707868,\n",
              "          0.18681063, -0.10607443],\n",
              "        [-0.03324602,  0.02074657,  0.12411257, ...,  0.23035827,\n",
              "         -0.2200546 , -0.01046033]], dtype=float32),\n",
              " array([-6.5716105e-03,  9.4496580e-03,  4.0197418e-05,  2.6291670e-02,\n",
              "         4.2502850e-02,  2.1256642e-02,  7.3541634e-02, -2.8647208e-03,\n",
              "         2.4446740e-03, -6.1614877e-03,  2.2556862e-02,  1.7163234e-02,\n",
              "        -5.7916585e-03,  4.6948371e-03,  5.4535210e-02,  1.8649995e-02,\n",
              "        -4.5905173e-02, -1.3243489e-02,  1.1961070e-03,  4.8095798e-03,\n",
              "         3.4939203e-02,  2.7523715e-02,  2.8909063e-02,  1.8063929e-02,\n",
              "        -2.1540720e-02,  1.7231602e-02,  2.1639651e-02,  7.5388521e-02,\n",
              "         3.0706815e-02,  1.8296327e-02], dtype=float32),\n",
              " array([[ 0.4216429 ,  0.28225696, -0.04946585,  0.3565958 , -0.13177764,\n",
              "          0.14494783, -0.19202504,  0.3536471 , -0.3622743 ,  0.06753596],\n",
              "        [ 0.15680836,  0.22951466,  0.12134966,  0.13390507, -0.2208097 ,\n",
              "          0.02378617, -0.21616986, -0.2130083 ,  0.2759479 , -0.07241615],\n",
              "        [ 0.11382799,  0.17112404,  0.08457756,  0.04255376,  0.33364275,\n",
              "          0.20608422, -0.22601263,  0.369287  , -0.09625111,  0.3829983 ],\n",
              "        [-0.43786183,  0.00487721,  0.3174718 ,  0.1700601 , -0.01666943,\n",
              "          0.3290329 , -0.39613378,  0.3941018 , -0.14090814, -0.36554545],\n",
              "        [ 0.3227408 , -0.31803286,  0.19162506, -0.07110098, -0.22574705,\n",
              "          0.13489416, -0.30701795,  0.22235355,  0.37523237,  0.21130547],\n",
              "        [-0.22592469,  0.5438042 ,  0.14897583,  0.2709508 , -0.06934647,\n",
              "         -0.22836848, -0.06276686, -0.05596968,  0.04396155, -0.26323855],\n",
              "        [-0.03338239, -0.16026232,  0.17993623, -0.20613725,  0.13547258,\n",
              "         -0.33187824, -0.4726411 ,  0.21957126,  0.38045284,  0.44450176],\n",
              "        [ 0.4687522 ,  0.03965823, -0.38972503,  0.05084453, -0.2858838 ,\n",
              "          0.03219306, -0.11836742,  0.10225571, -0.19265723, -0.20953071],\n",
              "        [-0.01125354, -0.00123716, -0.44860348, -0.11317427, -0.05038691,\n",
              "         -0.3600128 ,  0.43467754,  0.15751308,  0.20620851, -0.14132   ],\n",
              "        [ 0.20351374,  0.21725899,  0.3482027 ,  0.15053584,  0.24291079,\n",
              "          0.31461325, -0.00948891, -0.1419333 ,  0.06580302, -0.0320245 ],\n",
              "        [-0.04219227, -0.3185009 , -0.16893207,  0.5570211 , -0.07848562,\n",
              "          0.2170046 , -0.03858584, -0.5691765 , -0.31663868,  0.03841281],\n",
              "        [-0.24283448, -0.31071272, -0.04981935,  0.1301939 ,  0.04348809,\n",
              "         -0.22439311, -0.22574197, -0.20686337,  0.17059347, -0.17674415],\n",
              "        [-0.03552957,  0.07728703, -0.4749726 ,  0.2876804 , -0.07317912,\n",
              "         -0.3203987 ,  0.1409409 ,  0.36030337,  0.3258686 ,  0.09568104],\n",
              "        [ 0.16127667,  0.1301079 , -0.11852603,  0.04026721,  0.2942482 ,\n",
              "         -0.33783558, -0.1224699 ,  0.1900823 , -0.47782278,  0.25409862],\n",
              "        [-0.33698115,  0.69372565, -0.02469837, -0.13609168,  0.3552352 ,\n",
              "         -0.1492852 ,  0.09648166,  0.03558319,  0.3903576 , -0.1540562 ],\n",
              "        [-0.24210253, -0.14854264, -0.364659  ,  0.10201411,  0.14103703,\n",
              "          0.15800598, -0.06031304, -0.18664446, -0.01045068,  0.05877716],\n",
              "        [ 0.28825307, -0.14178203,  0.44963405, -0.23693946,  0.01739179,\n",
              "         -0.11529668, -0.12592624,  0.45931557, -0.20780896, -0.23940617],\n",
              "        [ 0.23652783, -0.42054152, -0.20826626, -0.22575709, -0.3301184 ,\n",
              "          0.5847383 ,  0.58183205, -0.17593297,  0.07672156,  0.07817049],\n",
              "        [ 0.13804692,  0.01951892, -0.1287642 ,  0.3325942 , -0.00741361,\n",
              "          0.27723852,  0.19617838,  0.29106474, -0.10234803,  0.01199409],\n",
              "        [ 0.4583297 ,  0.26057208,  0.13460147, -0.3603796 ,  0.330384  ,\n",
              "          0.19178513,  0.31530228, -0.02938543, -0.29039183,  0.10502402],\n",
              "        [-0.38707164, -0.18004867, -0.38066208, -0.07402167,  0.00278866,\n",
              "          0.55344754, -0.08041883, -0.4340663 , -0.21573874, -0.18465175],\n",
              "        [ 0.27553445, -0.2284939 ,  0.15564153, -0.06708651,  0.34336823,\n",
              "          0.00629864, -0.3618169 , -0.12071442,  0.07949083, -0.5069576 ],\n",
              "        [-0.17597473, -0.39643055,  0.35282302, -0.3003891 ,  0.15962349,\n",
              "         -0.42524236,  0.2344362 , -0.29741526,  0.39019546, -0.33992556],\n",
              "        [-0.2896049 ,  0.23737821,  0.35483426,  0.33581594, -0.508596  ,\n",
              "         -0.20532435, -0.0421443 , -0.15626785,  0.05161327, -0.30379078],\n",
              "        [ 0.14360787, -0.01169373,  0.4766262 ,  0.46640745,  0.2115892 ,\n",
              "          0.25532103, -0.21268114,  0.35411924, -0.40159696, -0.3707508 ],\n",
              "        [-0.02613071,  0.47662506,  0.1357946 , -0.1009789 ,  0.53318644,\n",
              "         -0.09105859,  0.46106517,  0.09925534, -0.38064343,  0.3960746 ],\n",
              "        [ 0.20360757,  0.15197864, -0.05246539,  0.00397639, -0.2444312 ,\n",
              "         -0.3144774 ,  0.03193574, -0.18521257, -0.22638515,  0.55413854],\n",
              "        [ 0.15193544, -0.3665576 , -0.27316913,  0.0201242 ,  0.50173086,\n",
              "          0.18649547, -0.00301413,  0.30269927,  0.36635226,  0.55246896],\n",
              "        [-0.15745643,  0.2462112 ,  0.17248476,  0.06179515, -0.57436603,\n",
              "          0.26680285,  0.02306527,  0.1790754 ,  0.40028533,  0.08873489],\n",
              "        [-0.4694353 , -0.21324074, -0.3139007 ,  0.275979  ,  0.15574405,\n",
              "         -0.09489539, -0.1946731 ,  0.30440003, -0.38746524,  0.02367583]],\n",
              "       dtype=float32),\n",
              " array([-0.11408317,  0.10765012, -0.04836595, -0.03077395,  0.01390666,\n",
              "         0.08658365, -0.07905395, -0.11633647,  0.03632005,  0.14415358],\n",
              "       dtype=float32)]"
            ]
          },
          "metadata": {
            "tags": []
          },
          "execution_count": 19
        }
      ]
    },
    {
      "cell_type": "markdown",
      "metadata": {
        "id": "eIH6j76HGoMT",
        "colab_type": "text"
      },
      "source": [
        "#Save the model"
      ]
    },
    {
      "cell_type": "code",
      "metadata": {
        "id": "tV_eDIEHExkg",
        "colab_type": "code",
        "colab": {}
      },
      "source": [
        "model.save('mnist_dnn_v1.h5')"
      ],
      "execution_count": 0,
      "outputs": []
    },
    {
      "cell_type": "code",
      "metadata": {
        "id": "I3aeoPu7IfF8",
        "colab_type": "code",
        "colab": {}
      },
      "source": [
        "from google.colab import files\n",
        "files.download('mnist_dnn_v1.h5')"
      ],
      "execution_count": 0,
      "outputs": []
    },
    {
      "cell_type": "code",
      "metadata": {
        "id": "cXcDLBzCIn1L",
        "colab_type": "code",
        "outputId": "39aa6d34-acd6-41fb-e867-d13f8ce2d018",
        "colab": {
          "base_uri": "https://localhost:8080/",
          "height": 68
        }
      },
      "source": [
        "!ls -l"
      ],
      "execution_count": 22,
      "outputs": [
        {
          "output_type": "stream",
          "text": [
            "total 772\n",
            "-rw-r--r-- 1 root root 782744 Apr 16 08:12 mnist_dnn_v1.h5\n",
            "drwxr-xr-x 1 root root   4096 Apr  3 16:24 sample_data\n"
          ],
          "name": "stdout"
        }
      ]
    }
  ]
}