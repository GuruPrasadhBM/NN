{
  "nbformat": 4,
  "nbformat_minor": 0,
  "metadata": {
    "colab": {
      "name": "8_DropOut_MNIST.ipynb",
      "provenance": [],
      "collapsed_sections": []
    },
    "kernelspec": {
      "name": "python3",
      "display_name": "Python 3"
    }
  },
  "cells": [
    {
      "cell_type": "markdown",
      "metadata": {
        "id": "tbuSrUKDbMM4",
        "colab_type": "text"
      },
      "source": [
        "# Load Tensorflow"
      ]
    },
    {
      "cell_type": "code",
      "metadata": {
        "id": "_p1ghSekbSWg",
        "colab_type": "code",
        "colab": {}
      },
      "source": [
        "import tensorflow as tf\n",
        "#tf.set_random_seed(42)\n",
        "tf.random.set_seed(55)"
      ],
      "execution_count": 0,
      "outputs": []
    },
    {
      "cell_type": "markdown",
      "metadata": {
        "id": "L9XDv88RbbAf",
        "colab_type": "text"
      },
      "source": [
        "# Collect Data"
      ]
    },
    {
      "cell_type": "code",
      "metadata": {
        "id": "xxYHTOXxbddB",
        "colab_type": "code",
        "colab": {
          "base_uri": "https://localhost:8080/",
          "height": 51
        },
        "outputId": "48a8e6fe-41c4-41d6-b363-728dc7a21b5c"
      },
      "source": [
        "#MNIST Data\n",
        "(trainX, trainY), (testX,testY)= tf.keras.datasets.mnist.load_data()"
      ],
      "execution_count": 2,
      "outputs": [
        {
          "output_type": "stream",
          "text": [
            "Downloading data from https://storage.googleapis.com/tensorflow/tf-keras-datasets/mnist.npz\n",
            "11493376/11490434 [==============================] - 0s 0us/step\n"
          ],
          "name": "stdout"
        }
      ]
    },
    {
      "cell_type": "code",
      "metadata": {
        "id": "YgFMssbJbuq4",
        "colab_type": "code",
        "outputId": "f62bd9bb-7884-4a44-c2ec-a1871ba95622",
        "colab": {
          "base_uri": "https://localhost:8080/",
          "height": 34
        }
      },
      "source": [
        "trainX.shape"
      ],
      "execution_count": 3,
      "outputs": [
        {
          "output_type": "execute_result",
          "data": {
            "text/plain": [
              "(60000, 28, 28)"
            ]
          },
          "metadata": {
            "tags": []
          },
          "execution_count": 3
        }
      ]
    },
    {
      "cell_type": "code",
      "metadata": {
        "id": "1wVKplnLdtIE",
        "colab_type": "code",
        "outputId": "97baa5dc-2139-47fc-d326-7791a4d2228d",
        "colab": {
          "base_uri": "https://localhost:8080/",
          "height": 34
        }
      },
      "source": [
        "testX.shape"
      ],
      "execution_count": 4,
      "outputs": [
        {
          "output_type": "execute_result",
          "data": {
            "text/plain": [
              "(10000, 28, 28)"
            ]
          },
          "metadata": {
            "tags": []
          },
          "execution_count": 4
        }
      ]
    },
    {
      "cell_type": "code",
      "metadata": {
        "id": "hfpSd4X8d2AJ",
        "colab_type": "code",
        "outputId": "65481c48-9c82-488b-cbf7-ffedeef5cd0d",
        "colab": {
          "base_uri": "https://localhost:8080/",
          "height": 34
        }
      },
      "source": [
        "#Number of labels\n",
        "trainY.shape"
      ],
      "execution_count": 5,
      "outputs": [
        {
          "output_type": "execute_result",
          "data": {
            "text/plain": [
              "(60000,)"
            ]
          },
          "metadata": {
            "tags": []
          },
          "execution_count": 5
        }
      ]
    },
    {
      "cell_type": "code",
      "metadata": {
        "id": "RB7nHQP7d7lh",
        "colab_type": "code",
        "outputId": "b64e76c4-2acb-4105-cca9-9a02169ddfe7",
        "colab": {
          "base_uri": "https://localhost:8080/",
          "height": 34
        }
      },
      "source": [
        "testY.shape"
      ],
      "execution_count": 6,
      "outputs": [
        {
          "output_type": "execute_result",
          "data": {
            "text/plain": [
              "(10000,)"
            ]
          },
          "metadata": {
            "tags": []
          },
          "execution_count": 6
        }
      ]
    },
    {
      "cell_type": "code",
      "metadata": {
        "id": "RsbCWvJMbwvA",
        "colab_type": "code",
        "outputId": "de03ee19-5887-4e83-d9cb-fe7f493d2eb4",
        "colab": {
          "base_uri": "https://localhost:8080/",
          "height": 1000
        }
      },
      "source": [
        "trainX[0]"
      ],
      "execution_count": 7,
      "outputs": [
        {
          "output_type": "execute_result",
          "data": {
            "text/plain": [
              "array([[  0,   0,   0,   0,   0,   0,   0,   0,   0,   0,   0,   0,   0,\n",
              "          0,   0,   0,   0,   0,   0,   0,   0,   0,   0,   0,   0,   0,\n",
              "          0,   0],\n",
              "       [  0,   0,   0,   0,   0,   0,   0,   0,   0,   0,   0,   0,   0,\n",
              "          0,   0,   0,   0,   0,   0,   0,   0,   0,   0,   0,   0,   0,\n",
              "          0,   0],\n",
              "       [  0,   0,   0,   0,   0,   0,   0,   0,   0,   0,   0,   0,   0,\n",
              "          0,   0,   0,   0,   0,   0,   0,   0,   0,   0,   0,   0,   0,\n",
              "          0,   0],\n",
              "       [  0,   0,   0,   0,   0,   0,   0,   0,   0,   0,   0,   0,   0,\n",
              "          0,   0,   0,   0,   0,   0,   0,   0,   0,   0,   0,   0,   0,\n",
              "          0,   0],\n",
              "       [  0,   0,   0,   0,   0,   0,   0,   0,   0,   0,   0,   0,   0,\n",
              "          0,   0,   0,   0,   0,   0,   0,   0,   0,   0,   0,   0,   0,\n",
              "          0,   0],\n",
              "       [  0,   0,   0,   0,   0,   0,   0,   0,   0,   0,   0,   0,   3,\n",
              "         18,  18,  18, 126, 136, 175,  26, 166, 255, 247, 127,   0,   0,\n",
              "          0,   0],\n",
              "       [  0,   0,   0,   0,   0,   0,   0,   0,  30,  36,  94, 154, 170,\n",
              "        253, 253, 253, 253, 253, 225, 172, 253, 242, 195,  64,   0,   0,\n",
              "          0,   0],\n",
              "       [  0,   0,   0,   0,   0,   0,   0,  49, 238, 253, 253, 253, 253,\n",
              "        253, 253, 253, 253, 251,  93,  82,  82,  56,  39,   0,   0,   0,\n",
              "          0,   0],\n",
              "       [  0,   0,   0,   0,   0,   0,   0,  18, 219, 253, 253, 253, 253,\n",
              "        253, 198, 182, 247, 241,   0,   0,   0,   0,   0,   0,   0,   0,\n",
              "          0,   0],\n",
              "       [  0,   0,   0,   0,   0,   0,   0,   0,  80, 156, 107, 253, 253,\n",
              "        205,  11,   0,  43, 154,   0,   0,   0,   0,   0,   0,   0,   0,\n",
              "          0,   0],\n",
              "       [  0,   0,   0,   0,   0,   0,   0,   0,   0,  14,   1, 154, 253,\n",
              "         90,   0,   0,   0,   0,   0,   0,   0,   0,   0,   0,   0,   0,\n",
              "          0,   0],\n",
              "       [  0,   0,   0,   0,   0,   0,   0,   0,   0,   0,   0, 139, 253,\n",
              "        190,   2,   0,   0,   0,   0,   0,   0,   0,   0,   0,   0,   0,\n",
              "          0,   0],\n",
              "       [  0,   0,   0,   0,   0,   0,   0,   0,   0,   0,   0,  11, 190,\n",
              "        253,  70,   0,   0,   0,   0,   0,   0,   0,   0,   0,   0,   0,\n",
              "          0,   0],\n",
              "       [  0,   0,   0,   0,   0,   0,   0,   0,   0,   0,   0,   0,  35,\n",
              "        241, 225, 160, 108,   1,   0,   0,   0,   0,   0,   0,   0,   0,\n",
              "          0,   0],\n",
              "       [  0,   0,   0,   0,   0,   0,   0,   0,   0,   0,   0,   0,   0,\n",
              "         81, 240, 253, 253, 119,  25,   0,   0,   0,   0,   0,   0,   0,\n",
              "          0,   0],\n",
              "       [  0,   0,   0,   0,   0,   0,   0,   0,   0,   0,   0,   0,   0,\n",
              "          0,  45, 186, 253, 253, 150,  27,   0,   0,   0,   0,   0,   0,\n",
              "          0,   0],\n",
              "       [  0,   0,   0,   0,   0,   0,   0,   0,   0,   0,   0,   0,   0,\n",
              "          0,   0,  16,  93, 252, 253, 187,   0,   0,   0,   0,   0,   0,\n",
              "          0,   0],\n",
              "       [  0,   0,   0,   0,   0,   0,   0,   0,   0,   0,   0,   0,   0,\n",
              "          0,   0,   0,   0, 249, 253, 249,  64,   0,   0,   0,   0,   0,\n",
              "          0,   0],\n",
              "       [  0,   0,   0,   0,   0,   0,   0,   0,   0,   0,   0,   0,   0,\n",
              "          0,  46, 130, 183, 253, 253, 207,   2,   0,   0,   0,   0,   0,\n",
              "          0,   0],\n",
              "       [  0,   0,   0,   0,   0,   0,   0,   0,   0,   0,   0,   0,  39,\n",
              "        148, 229, 253, 253, 253, 250, 182,   0,   0,   0,   0,   0,   0,\n",
              "          0,   0],\n",
              "       [  0,   0,   0,   0,   0,   0,   0,   0,   0,   0,  24, 114, 221,\n",
              "        253, 253, 253, 253, 201,  78,   0,   0,   0,   0,   0,   0,   0,\n",
              "          0,   0],\n",
              "       [  0,   0,   0,   0,   0,   0,   0,   0,  23,  66, 213, 253, 253,\n",
              "        253, 253, 198,  81,   2,   0,   0,   0,   0,   0,   0,   0,   0,\n",
              "          0,   0],\n",
              "       [  0,   0,   0,   0,   0,   0,  18, 171, 219, 253, 253, 253, 253,\n",
              "        195,  80,   9,   0,   0,   0,   0,   0,   0,   0,   0,   0,   0,\n",
              "          0,   0],\n",
              "       [  0,   0,   0,   0,  55, 172, 226, 253, 253, 253, 253, 244, 133,\n",
              "         11,   0,   0,   0,   0,   0,   0,   0,   0,   0,   0,   0,   0,\n",
              "          0,   0],\n",
              "       [  0,   0,   0,   0, 136, 253, 253, 253, 212, 135, 132,  16,   0,\n",
              "          0,   0,   0,   0,   0,   0,   0,   0,   0,   0,   0,   0,   0,\n",
              "          0,   0],\n",
              "       [  0,   0,   0,   0,   0,   0,   0,   0,   0,   0,   0,   0,   0,\n",
              "          0,   0,   0,   0,   0,   0,   0,   0,   0,   0,   0,   0,   0,\n",
              "          0,   0],\n",
              "       [  0,   0,   0,   0,   0,   0,   0,   0,   0,   0,   0,   0,   0,\n",
              "          0,   0,   0,   0,   0,   0,   0,   0,   0,   0,   0,   0,   0,\n",
              "          0,   0],\n",
              "       [  0,   0,   0,   0,   0,   0,   0,   0,   0,   0,   0,   0,   0,\n",
              "          0,   0,   0,   0,   0,   0,   0,   0,   0,   0,   0,   0,   0,\n",
              "          0,   0]], dtype=uint8)"
            ]
          },
          "metadata": {
            "tags": []
          },
          "execution_count": 7
        }
      ]
    },
    {
      "cell_type": "code",
      "metadata": {
        "id": "J6NUInmbeDc5",
        "colab_type": "code",
        "outputId": "d2ff935b-bded-460b-fdba-215cfbe2013a",
        "colab": {
          "base_uri": "https://localhost:8080/",
          "height": 34
        }
      },
      "source": [
        "trainY[0]"
      ],
      "execution_count": 8,
      "outputs": [
        {
          "output_type": "execute_result",
          "data": {
            "text/plain": [
              "5"
            ]
          },
          "metadata": {
            "tags": []
          },
          "execution_count": 8
        }
      ]
    },
    {
      "cell_type": "code",
      "metadata": {
        "id": "DNJ2VPw4dFsH",
        "colab_type": "code",
        "outputId": "91149eb8-8ef1-4179-a47e-2687c3da6a9c",
        "colab": {
          "base_uri": "https://localhost:8080/",
          "height": 282
        }
      },
      "source": [
        "# To print the data\n",
        "import matplotlib.pyplot as plt\n",
        "plt.imshow(trainX[0], cmap='gray')"
      ],
      "execution_count": 9,
      "outputs": [
        {
          "output_type": "execute_result",
          "data": {
            "text/plain": [
              "<matplotlib.image.AxesImage at 0x7f55d6159908>"
            ]
          },
          "metadata": {
            "tags": []
          },
          "execution_count": 9
        },
        {
          "output_type": "display_data",
          "data": {
            "image/png": "[encoded data removed]",
            "text/plain": [
              "<Figure size 432x288 with 1 Axes>"
            ]
          },
          "metadata": {
            "tags": [],
            "needs_background": "light"
          }
        }
      ]
    },
    {
      "cell_type": "code",
      "metadata": {
        "id": "dVqNB0PnfHt_",
        "colab_type": "code",
        "colab": {}
      },
      "source": [
        ""
      ],
      "execution_count": 0,
      "outputs": []
    },
    {
      "cell_type": "markdown",
      "metadata": {
        "id": "-hFuklRcftHH",
        "colab_type": "text"
      },
      "source": [
        "# Convert Output label to multiple values"
      ]
    },
    {
      "cell_type": "code",
      "metadata": {
        "id": "0tUAR2lvfwv-",
        "colab_type": "code",
        "outputId": "c552d6f5-1efe-4784-a011-305e5b27f1be",
        "colab": {
          "base_uri": "https://localhost:8080/",
          "height": 51
        }
      },
      "source": [
        "print(trainY.shape)\n",
        "print('Samples of trainY :', trainY[0:2])"
      ],
      "execution_count": 10,
      "outputs": [
        {
          "output_type": "stream",
          "text": [
            "(60000,)\n",
            "Samples of trainY : [5 0]\n"
          ],
          "name": "stdout"
        }
      ]
    },
    {
      "cell_type": "code",
      "metadata": {
        "id": "4X5LVDc0f9g_",
        "colab_type": "code",
        "colab": {}
      },
      "source": [
        "trainY = tf.keras.utils.to_categorical(trainY, num_classes=10)"
      ],
      "execution_count": 0,
      "outputs": []
    },
    {
      "cell_type": "code",
      "metadata": {
        "id": "ryi7V0y_hFw-",
        "colab_type": "code",
        "colab": {}
      },
      "source": [
        "testY=tf.keras.utils.to_categorical(testY,num_classes=10)"
      ],
      "execution_count": 0,
      "outputs": []
    },
    {
      "cell_type": "code",
      "metadata": {
        "id": "xDLvqAoahaPV",
        "colab_type": "code",
        "outputId": "5829dee2-2332-48c2-ff9f-088e7d78ed72",
        "colab": {
          "base_uri": "https://localhost:8080/",
          "height": 68
        }
      },
      "source": [
        "print (trainY.shape)\n",
        "print('Samples of trainY :', trainY[0:2])"
      ],
      "execution_count": 13,
      "outputs": [
        {
          "output_type": "stream",
          "text": [
            "(60000, 10)\n",
            "Samples of trainY : [[0. 0. 0. 0. 0. 1. 0. 0. 0. 0.]\n",
            " [1. 0. 0. 0. 0. 0. 0. 0. 0. 0.]]\n"
          ],
          "name": "stdout"
        }
      ]
    },
    {
      "cell_type": "markdown",
      "metadata": {
        "id": "fNIQNHHUhjrj",
        "colab_type": "text"
      },
      "source": [
        "# Build the NN"
      ]
    },
    {
      "cell_type": "code",
      "metadata": {
        "id": "R10CwdAOhmu9",
        "colab_type": "code",
        "colab": {}
      },
      "source": [
        "#Clear out tensorflow memory\n",
        "tf.keras.backend.clear_session()\n",
        "\n",
        "#Initialize Sequential Model\n",
        "model = tf.keras.models.Sequential()\n",
        "\n",
        "#Reshape the data from 2D to 1D -> 28x28 to 784\n",
        "# The equation accepts samples at vectors. Our current input is matrix\n",
        "model.add(tf.keras.layers.Reshape((784,),input_shape=(28,28,)))\n",
        "\n",
        "#Normalize the data\n",
        "model.add(tf.keras.layers.BatchNormalization())\n"
      ],
      "execution_count": 0,
      "outputs": []
    },
    {
      "cell_type": "markdown",
      "metadata": {
        "id": "8bciygrNCWEC",
        "colab_type": "text"
      },
      "source": [
        "#Build DNN"
      ]
    },
    {
      "cell_type": "code",
      "metadata": {
        "id": "2Vt8g8O0lBYF",
        "colab_type": "code",
        "colab": {}
      },
      "source": [
        "#Add 1st hidden layer\n",
        "model.add(tf.keras.layers.Dense(200, activation='relu'))\n",
        "model.add(tf.keras.layers.Dropout(0.5))\n",
        "\n",
        "#Add 2nd hidden layer\n",
        "model.add(tf.keras.layers.Dense(100, activation='relu'))\n",
        "model.add(tf.keras.layers.Dropout(0.6))\n",
        "\n",
        "#Add 3rd hidden layer\n",
        "model.add(tf.keras.layers.Dense(60, activation='relu'))\n",
        "\n",
        "#Add 4th hidden layer\n",
        "model.add(tf.keras.layers.Dense(30, activation='relu'))\n",
        "model.add(tf.keras.layers.Dropout(0.3))\n",
        "\n",
        "#Add output layer\n",
        "#Never put dropouts after output layer\n",
        "model.add(tf.keras.layers.Dense(10, activation='softmax'))"
      ],
      "execution_count": 0,
      "outputs": []
    },
    {
      "cell_type": "markdown",
      "metadata": {
        "id": "Sf9cMgH2Dg5c",
        "colab_type": "text"
      },
      "source": [
        "# Build the Graph"
      ]
    },
    {
      "cell_type": "code",
      "metadata": {
        "id": "upuyC6H2Dju0",
        "colab_type": "code",
        "colab": {}
      },
      "source": [
        "#Compile the model\n",
        "model.compile(optimizer='sgd', loss='categorical_crossentropy', metrics=['accuracy'])"
      ],
      "execution_count": 0,
      "outputs": []
    },
    {
      "cell_type": "code",
      "metadata": {
        "id": "1mTRzQl5D5cU",
        "colab_type": "code",
        "outputId": "0fe6d146-e458-432e-f643-8e1bf82aea4e",
        "colab": {
          "base_uri": "https://localhost:8080/",
          "height": 493
        }
      },
      "source": [
        "model.summary()"
      ],
      "execution_count": 17,
      "outputs": [
        {
          "output_type": "stream",
          "text": [
            "Model: \"sequential\"\n",
            "_________________________________________________________________\n",
            "Layer (type)                 Output Shape              Param #   \n",
            "=================================================================\n",
            "reshape (Reshape)            (None, 784)               0         \n",
            "_________________________________________________________________\n",
            "batch_normalization (BatchNo (None, 784)               3136      \n",
            "_________________________________________________________________\n",
            "dense (Dense)                (None, 200)               157000    \n",
            "_________________________________________________________________\n",
            "dropout (Dropout)            (None, 200)               0         \n",
            "_________________________________________________________________\n",
            "dense_1 (Dense)              (None, 100)               20100     \n",
            "_________________________________________________________________\n",
            "dropout_1 (Dropout)          (None, 100)               0         \n",
            "_________________________________________________________________\n",
            "dense_2 (Dense)              (None, 60)                6060      \n",
            "_________________________________________________________________\n",
            "dense_3 (Dense)              (None, 30)                1830      \n",
            "_________________________________________________________________\n",
            "dropout_2 (Dropout)          (None, 30)                0         \n",
            "_________________________________________________________________\n",
            "dense_4 (Dense)              (None, 10)                310       \n",
            "=================================================================\n",
            "Total params: 188,436\n",
            "Trainable params: 186,868\n",
            "Non-trainable params: 1,568\n",
            "_________________________________________________________________\n"
          ],
          "name": "stdout"
        }
      ]
    },
    {
      "cell_type": "markdown",
      "metadata": {
        "id": "1bnjWH2_EKSq",
        "colab_type": "text"
      },
      "source": [
        "# Train the model"
      ]
    },
    {
      "cell_type": "code",
      "metadata": {
        "id": "q1eN_JPIEMjS",
        "colab_type": "code",
        "outputId": "2a9eb36a-1f62-4ef6-d552-2aed7985efd2",
        "colab": {
          "base_uri": "https://localhost:8080/",
          "height": 204
        }
      },
      "source": [
        "model.fit(trainX,trainY, \n",
        "          validataion_data=(testX,testY),\n",
        "          epochs=5,\n",
        "          batch_size=32)"
      ],
      "execution_count": 18,
      "outputs": [
        {
          "output_type": "stream",
          "text": [
            "Epoch 1/5\n",
            "1875/1875 [==============================] - 6s 3ms/step - loss: 1.5485 - accuracy: 0.4465\n",
            "Epoch 2/5\n",
            "1875/1875 [==============================] - 6s 3ms/step - loss: 0.8296 - accuracy: 0.7329\n",
            "Epoch 3/5\n",
            "1875/1875 [==============================] - 7s 3ms/step - loss: 0.6674 - accuracy: 0.7998\n",
            "Epoch 4/5\n",
            "1875/1875 [==============================] - 6s 3ms/step - loss: 0.5761 - accuracy: 0.8335\n",
            "Epoch 5/5\n",
            "1875/1875 [==============================] - 6s 3ms/step - loss: 0.5272 - accuracy: 0.8486\n"
          ],
          "name": "stdout"
        },
        {
          "output_type": "execute_result",
          "data": {
            "text/plain": [
              "<tensorflow.python.keras.callbacks.History at 0x7f55cf9485c0>"
            ]
          },
          "metadata": {
            "tags": []
          },
          "execution_count": 18
        }
      ]
    },
    {
      "cell_type": "markdown",
      "metadata": {
        "id": "fJPiwXA5hiGZ",
        "colab_type": "text"
      },
      "source": [
        "#Sigmoid case\n",
        "We are experiencing VG. Loss is reducing very slowly. accuracy is increasing very slowly\n",
        "\n",
        "#ReLU case\n",
        "In this case we could see there is a significant improvemnt in the accuracy as well as the loss."
      ]
    },
    {
      "cell_type": "code",
      "metadata": {
        "id": "CX6c1cyzhZkV",
        "colab_type": "code",
        "outputId": "8bce1608-ee6b-4ab1-aa8e-82b4ac6230af",
        "colab": {
          "base_uri": "https://localhost:8080/",
          "height": 1000
        }
      },
      "source": [
        "model.get_weights()"
      ],
      "execution_count": 19,
      "outputs": [
        {
          "output_type": "execute_result",
          "data": {
            "text/plain": [
              "[array([1.        , 1.        , 1.        , 1.        , 1.        ,\n",
              "        1.        , 1.        , 1.        , 1.        , 1.        ,\n",
              "        1.        , 1.        , 1.0000676 , 0.999733  , 0.9999661 ,\n",
              "        1.0001353 , 1.        , 1.        , 1.        , 1.        ,\n",
              "        1.        , 1.        , 1.        , 1.        , 1.        ,\n",
              "        1.        , 1.        , 1.        , 1.        , 1.        ,\n",
              "        1.        , 1.        , 0.9999294 , 0.99999785, 1.0001231 ,\n",
              "        1.0002838 , 0.9997837 , 1.0010183 , 0.99835056, 0.9983706 ,\n",
              "        1.0005834 , 0.99931633, 0.995536  , 0.99635434, 0.9983986 ,\n",
              "        0.99607265, 0.99812514, 0.9982539 , 0.999254  , 1.0000368 ,\n",
              "        1.0003194 , 1.0001209 , 1.        , 1.        , 1.        ,\n",
              "        1.        , 1.        , 1.        , 1.0000277 , 0.99993265,\n",
              "        0.9999954 , 0.99971384, 0.99951816, 0.99652755, 0.9993419 ,\n",
              "        0.9987331 , 0.9992796 , 0.99354136, 1.0047708 , 0.9962224 ,\n",
              "        0.9953308 , 0.9914705 , 0.9946518 , 0.9954696 , 0.99686253,\n",
              "        0.98563   , 0.9985447 , 1.0061444 , 0.9981902 , 1.0017298 ,\n",
              "        0.9978    , 0.9994533 , 1.        , 1.        , 1.        ,\n",
              "        1.        , 0.99973434, 1.0000452 , 0.9991097 , 0.9990881 ,\n",
              "        0.9951496 , 0.99784905, 0.99172455, 0.9825799 , 0.9989384 ,\n",
              "        0.98293895, 0.9949007 , 0.9773434 , 0.99031806, 0.9799204 ,\n",
              "        0.97932696, 0.98884535, 0.9910192 , 0.99510705, 0.9832535 ,\n",
              "        0.98967516, 0.97673345, 0.9932904 , 0.997399  , 0.9996801 ,\n",
              "        0.9998455 , 1.        , 1.        , 0.99996924, 1.0001681 ,\n",
              "        0.9984357 , 0.99789643, 0.99251574, 0.99251175, 0.9846434 ,\n",
              "        0.97762966, 0.99458855, 0.97702026, 0.97614014, 0.97931147,\n",
              "        0.9839576 , 0.99161536, 0.975787  , 0.9856843 , 0.980547  ,\n",
              "        0.9752014 , 0.97064066, 0.96948314, 0.97046936, 0.97758573,\n",
              "        0.9766126 , 0.9859591 , 0.99688345, 0.9984253 , 0.9993908 ,\n",
              "        1.        , 1.        , 0.99948895, 0.99913824, 0.99913985,\n",
              "        0.9892098 , 0.998301  , 0.96491694, 0.9701855 , 0.9813679 ,\n",
              "        0.98489386, 0.984181  , 0.975898  , 0.98902804, 1.0148815 ,\n",
              "        0.9906857 , 1.0027181 , 0.99893415, 0.96688366, 0.97228295,\n",
              "        0.9799387 , 0.94878155, 0.9843056 , 0.98170346, 0.97431403,\n",
              "        0.9982569 , 0.99683464, 1.0002099 , 1.        , 0.9996934 ,\n",
              "        0.9992377 , 0.9946685 , 0.98192793, 0.97584397, 0.9676314 ,\n",
              "        0.9860723 , 0.97974926, 0.9815081 , 0.9882879 , 0.99641144,\n",
              "        1.0033033 , 0.97876143, 0.9971097 , 1.0143243 , 1.0071518 ,\n",
              "        0.99589866, 0.97062224, 0.98371905, 0.9872454 , 0.9859327 ,\n",
              "        0.9826238 , 0.97151166, 0.99770594, 0.97688395, 0.99548036,\n",
              "        0.9994728 , 0.9999907 , 1.0002408 , 0.9978616 , 0.9936659 ,\n",
              "        0.9855386 , 0.98829085, 0.9842065 , 0.9752008 , 0.98834306,\n",
              "        0.988285  , 1.0028716 , 0.98032504, 0.98441577, 1.0173656 ,\n",
              "        1.0488904 , 1.0410287 , 1.0274657 , 0.98459786, 1.0001782 ,\n",
              "        0.98345095, 0.9844947 , 0.9823107 , 0.9822629 , 0.9884484 ,\n",
              "        0.9870275 , 0.9962712 , 0.99217683, 0.99842507, 0.99944663,\n",
              "        0.9996974 , 0.9929309 , 0.9969598 , 0.9894543 , 0.9726804 ,\n",
              "        0.96746457, 0.9712726 , 0.9847609 , 1.0003556 , 0.9831985 ,\n",
              "        0.9828517 , 0.997923  , 0.9860069 , 1.0356883 , 1.0362867 ,\n",
              "        1.000929  , 0.9908636 , 1.0206102 , 1.00692   , 1.0021363 ,\n",
              "        0.9905293 , 0.9979354 , 1.0052489 , 1.00137   , 1.0222658 ,\n",
              "        0.99518746, 0.9975578 , 0.99975586, 0.9973956 , 0.99436873,\n",
              "        0.9937424 , 0.9750583 , 0.9812016 , 0.9754037 , 1.0036077 ,\n",
              "        1.0150201 , 0.9963742 , 0.9909437 , 1.0183321 , 0.991203  ,\n",
              "        1.0065655 , 1.0536909 , 1.0401245 , 1.0130187 , 1.0162369 ,\n",
              "        0.99123305, 0.9943041 , 0.9940589 , 0.98549134, 0.97063535,\n",
              "        0.9789075 , 1.0304644 , 0.99791306, 1.0074109 , 0.99890554,\n",
              "        0.99986154, 0.99712646, 1.0001286 , 0.9916161 , 0.98435867,\n",
              "        0.97164935, 0.9902446 , 1.0068629 , 1.0086253 , 1.036394  ,\n",
              "        1.0503994 , 1.0444287 , 1.0481663 , 1.034854  , 1.0611633 ,\n",
              "        1.0566965 , 1.031843  , 1.0254761 , 1.010591  , 1.0178849 ,\n",
              "        1.000066  , 0.9919507 , 1.0184073 , 0.9957534 , 1.0140874 ,\n",
              "        1.0027828 , 1.0046304 , 0.99844867, 0.9998551 , 0.9977595 ,\n",
              "        0.99683607, 0.996689  , 0.993916  , 0.9784647 , 0.98896843,\n",
              "        1.0248628 , 1.0206001 , 1.0370107 , 1.0166504 , 1.0485381 ,\n",
              "        1.0589584 , 1.0353888 , 1.0532222 , 1.037966  , 1.0159477 ,\n",
              "        0.9898135 , 0.9901276 , 1.0028013 , 1.0198452 , 1.0069993 ,\n",
              "        1.0274807 , 1.0016462 , 0.98251075, 1.000658  , 0.99248827,\n",
              "        1.0004456 , 1.000114  , 0.9977513 , 0.99989444, 0.9947525 ,\n",
              "        0.9889513 , 0.97820723, 1.0178425 , 1.0111799 , 1.0058668 ,\n",
              "        1.0250716 , 0.99135494, 1.0587233 , 1.0507774 , 1.0420175 ,\n",
              "        1.1138452 , 1.0305237 , 1.026676  , 1.0023714 , 1.0150068 ,\n",
              "        1.0090103 , 1.0167636 , 1.0091412 , 1.0117263 , 1.0202887 ,\n",
              "        0.9919205 , 1.0014383 , 1.0044774 , 0.99987173, 0.9998221 ,\n",
              "        0.99780405, 1.0016739 , 0.9910658 , 0.98635083, 0.9971432 ,\n",
              "        1.0073091 , 1.0133322 , 1.021255  , 1.0175523 , 1.0286587 ,\n",
              "        1.0308119 , 1.0396754 , 1.0386086 , 1.0487453 , 1.0235983 ,\n",
              "        1.0091507 , 0.99027115, 0.99503833, 0.9920228 , 0.9920036 ,\n",
              "        1.0059296 , 0.99584615, 0.9937725 , 0.99791986, 0.99992645,\n",
              "        0.99752325, 1.0001302 , 0.9998683 , 0.99960774, 0.9969648 ,\n",
              "        0.9862333 , 0.99567044, 0.9847109 , 0.99212855, 1.0087061 ,\n",
              "        1.0289356 , 1.0141586 , 1.0111594 , 1.0302405 , 1.0332341 ,\n",
              "        1.03534   , 1.0263293 , 1.0083066 , 1.0046905 , 1.0296454 ,\n",
              "        0.9955531 , 0.984337  , 0.9755563 , 1.0012763 , 0.9985511 ,\n",
              "        0.987757  , 0.9748422 , 0.99384683, 0.9959074 , 0.99997765,\n",
              "        0.999306  , 0.9999002 , 0.9978528 , 0.9879562 , 0.9874346 ,\n",
              "        0.9887814 , 0.9994783 , 1.0189586 , 0.9932338 , 0.98342323,\n",
              "        1.0244179 , 1.0216106 , 1.0178044 , 1.0369422 , 1.0381339 ,\n",
              "        1.016427  , 0.98531544, 1.0199829 , 0.9872534 , 1.0056641 ,\n",
              "        0.9886719 , 0.9971658 , 0.99080104, 0.9971949 , 0.9820557 ,\n",
              "        0.9910431 , 0.99847853, 0.9988171 , 0.9996445 , 0.99888664,\n",
              "        0.9966559 , 0.99830985, 0.97723496, 0.9804097 , 1.0009974 ,\n",
              "        1.0052174 , 0.98491466, 1.0174469 , 1.0114797 , 1.0167093 ,\n",
              "        1.0144707 , 1.0630624 , 1.0082351 , 1.0276749 , 1.0198594 ,\n",
              "        0.99435514, 0.987872  , 0.9987298 , 0.99121135, 0.98813343,\n",
              "        0.99014145, 0.97841865, 0.9887732 , 0.98963815, 1.0006045 ,\n",
              "        0.9998117 , 1.        , 1.0001706 , 0.9981778 , 0.99018604,\n",
              "        0.97158104, 1.0005593 , 0.98809224, 1.0089353 , 0.9996228 ,\n",
              "        1.052216  , 1.0620952 , 1.0582719 , 1.0250052 , 1.0207522 ,\n",
              "        1.0415059 , 1.0050956 , 0.9830257 , 0.9830958 , 0.97385746,\n",
              "        0.98587435, 0.9893078 , 1.0021569 , 0.9844436 , 0.9833346 ,\n",
              "        0.9814247 , 1.0024844 , 1.0021347 , 0.9993483 , 1.0000298 ,\n",
              "        0.9999807 , 0.9998945 , 1.0000147 , 0.9816648 , 1.0035115 ,\n",
              "        1.0169407 , 0.98761255, 1.0032544 , 0.9965549 , 1.0668124 ,\n",
              "        1.0518212 , 1.0457517 , 1.0297227 , 0.9896738 , 0.976661  ,\n",
              "        0.97666764, 0.999372  , 0.98724073, 0.994942  , 0.987206  ,\n",
              "        0.9940213 , 0.9911958 , 1.0111438 , 0.99515975, 1.0065929 ,\n",
              "        0.99700767, 0.99916553, 0.9999968 , 0.99941057, 0.9951201 ,\n",
              "        0.9938556 , 0.9858051 , 1.005479  , 1.002242  , 0.9955865 ,\n",
              "        0.99469364, 1.023664  , 1.0329754 , 1.0379409 , 1.0220431 ,\n",
              "        0.9904987 , 0.98742956, 0.9777215 , 0.9833157 , 0.9703759 ,\n",
              "        1.0094515 , 1.0043398 , 0.97876537, 0.98025316, 0.9919374 ,\n",
              "        0.99020356, 0.9900508 , 1.0050373 , 1.0002896 , 1.0001493 ,\n",
              "        1.        , 0.99938387, 0.99702036, 1.0005798 , 0.99589014,\n",
              "        0.9896701 , 0.9990242 , 1.0049399 , 1.0338681 , 0.9971017 ,\n",
              "        1.0081404 , 1.0237654 , 1.0105643 , 1.0104849 , 0.9884222 ,\n",
              "        0.9864102 , 0.9879776 , 0.97131073, 0.9944733 , 0.96875083,\n",
              "        0.9937648 , 0.9833052 , 0.9829089 , 0.9864755 , 0.987713  ,\n",
              "        0.9947673 , 0.9953645 , 0.9999338 , 0.99981886, 0.9998368 ,\n",
              "        0.9963538 , 1.0006045 , 0.98422843, 0.9704938 , 0.9982606 ,\n",
              "        0.98867035, 0.98857176, 0.98558444, 0.9844301 , 0.97114265,\n",
              "        1.0066403 , 0.9988539 , 0.9952168 , 0.98817706, 0.99198085,\n",
              "        0.9720045 , 0.9921982 , 0.99349564, 0.98070246, 0.99150074,\n",
              "        0.9810845 , 0.9906446 , 0.99477506, 0.9962315 , 1.0003207 ,\n",
              "        1.0001143 , 0.9999011 , 0.9997502 , 0.9999745 , 0.9905219 ,\n",
              "        0.9902944 , 0.9612841 , 0.9914622 , 0.9851855 , 0.98067933,\n",
              "        0.9838679 , 0.97966915, 0.9849251 , 1.0197563 , 0.98338205,\n",
              "        0.97253865, 0.9954729 , 0.9735426 , 0.9701384 , 0.9940688 ,\n",
              "        0.98458135, 0.9815008 , 0.9965257 , 0.9871231 , 0.9931645 ,\n",
              "        0.9914389 , 0.99483246, 0.9982632 , 0.9999916 , 1.        ,\n",
              "        1.        , 0.99773985, 0.99653757, 0.9766855 , 0.96270853,\n",
              "        0.9666614 , 0.980821  , 0.97507113, 0.9705627 , 0.99168205,\n",
              "        1.0190817 , 1.0031285 , 1.0249903 , 0.98841774, 0.9965479 ,\n",
              "        0.98612523, 0.98182034, 0.97546875, 0.976332  , 0.9813515 ,\n",
              "        0.9873902 , 0.9859757 , 0.9911638 , 0.99271506, 0.9961945 ,\n",
              "        0.99911886, 1.        , 1.        , 1.        , 0.999025  ,\n",
              "        1.0003251 , 1.0031127 , 0.98553735, 0.97898513, 0.9686466 ,\n",
              "        0.969187  , 0.9598626 , 0.96961004, 0.9815165 , 1.0041351 ,\n",
              "        0.9939513 , 0.97299206, 0.96664935, 0.9628142 , 0.9741305 ,\n",
              "        0.9600234 , 0.9815988 , 0.9746065 , 0.98754036, 0.9862141 ,\n",
              "        0.9920648 , 1.0001118 , 1.0021999 , 1.0002421 , 1.        ,\n",
              "        1.        , 1.        , 0.9998943 , 0.99911046, 0.9953449 ,\n",
              "        0.99808   , 0.99336344, 0.9841356 , 0.97963667, 0.9794977 ,\n",
              "        0.9947347 , 0.9773226 , 0.98636013, 0.99430615, 0.96259093,\n",
              "        0.9948616 , 0.9720433 , 0.9909137 , 0.98889   , 0.9966095 ,\n",
              "        0.9824382 , 1.0057598 , 0.99636775, 1.0001519 , 0.9967468 ,\n",
              "        1.0008487 , 1.0005426 , 1.        , 1.        , 1.        ,\n",
              "        1.        , 0.99998456, 0.99983346, 0.998825  , 1.0031933 ,\n",
              "        0.9797121 , 0.9974591 , 0.9934951 , 0.9849396 , 0.9846735 ,\n",
              "        0.9796719 , 0.99064076, 0.9884881 , 1.0005932 , 0.99185777,\n",
              "        0.99984026, 0.98826057, 0.9938236 , 1.0012693 , 0.995718  ,\n",
              "        0.9999625 , 0.9998776 , 0.9996467 , 0.9997362 , 1.        ,\n",
              "        1.        , 1.        , 1.        , 1.        , 1.        ,\n",
              "        1.0000372 , 0.99979943, 1.0005938 , 0.9984593 , 0.9996373 ,\n",
              "        1.0005331 , 1.0004576 , 0.9992004 , 0.9964355 , 1.0041914 ,\n",
              "        0.99879366, 0.9963697 , 1.0043397 , 0.9970542 , 0.99836445,\n",
              "        0.9978832 , 1.0000315 , 1.0009211 , 0.9994539 , 1.0001218 ,\n",
              "        1.        , 1.        , 1.        , 1.        ], dtype=float32),\n",
              " array([-6.09431555e-03,  1.51820658e-02, -7.25263869e-03,  1.22001290e-03,\n",
              "        -5.89178130e-02, -1.57537963e-02, -3.77542549e-03, -9.01416969e-03,\n",
              "         6.51384369e-02, -3.88906598e-02, -1.55928899e-02,  4.96388748e-02,\n",
              "         2.38720477e-02, -1.46771427e-02,  2.15234933e-03,  2.03266041e-03,\n",
              "         2.46831756e-02,  1.97049230e-02,  4.36975947e-03,  9.06085130e-03,\n",
              "        -4.25239094e-03,  3.67151201e-02, -5.40725514e-02, -2.01731883e-02,\n",
              "        -2.66509876e-02, -3.58300619e-02,  2.08076322e-03, -1.03708729e-02,\n",
              "         3.50391911e-03,  1.69203579e-02, -2.41300371e-02, -9.43823997e-03,\n",
              "        -3.30020748e-02,  1.41621241e-02, -1.55312540e-02,  2.24084351e-02,\n",
              "         2.94290693e-03,  5.96413389e-03,  4.62611504e-02, -1.79786552e-02,\n",
              "        -3.20727527e-02,  3.32307778e-02, -7.80355558e-03, -1.70640666e-02,\n",
              "        -3.76854055e-02,  6.71448186e-03,  7.74887763e-03,  3.20793688e-02,\n",
              "         1.78858489e-02, -1.63074546e-02, -4.33591828e-02, -2.45718788e-02,\n",
              "        -4.34098542e-02,  3.19982842e-02, -3.49520035e-02, -3.25939171e-02,\n",
              "        -1.87012833e-02,  9.10003781e-02,  6.43083686e-03,  1.75010413e-02,\n",
              "        -1.98055580e-02, -8.66430253e-03, -2.08521821e-02,  1.56504754e-02,\n",
              "        -1.66286547e-02, -6.08760305e-03,  1.54112093e-02, -3.72866611e-03,\n",
              "         5.82986847e-02, -1.66707039e-02, -1.76976714e-02, -2.82072313e-02,\n",
              "        -2.26823427e-02, -2.09205225e-02,  1.73229910e-02, -1.39080118e-02,\n",
              "        -5.27455322e-02, -2.58626323e-02, -2.14701258e-02,  6.74486011e-02,\n",
              "         2.50015240e-02,  3.49661298e-02, -3.37295942e-02,  2.75570266e-02,\n",
              "         1.97905470e-02, -5.42420521e-02, -1.12306047e-02, -1.92619732e-03,\n",
              "         3.20694456e-03, -1.02471076e-02, -2.28240844e-02, -6.30488321e-02,\n",
              "         2.54878923e-02,  1.14644729e-02, -2.87851151e-02, -2.66054273e-02,\n",
              "         3.53063736e-03,  4.75949198e-02,  2.36046501e-02,  5.95392799e-03,\n",
              "         2.01303642e-02, -4.64252010e-02, -2.32253261e-02,  1.91468336e-02,\n",
              "        -2.22972520e-02, -8.85686837e-03, -4.61990461e-02, -2.30936315e-02,\n",
              "        -8.63245316e-03,  6.18190765e-02, -1.51074827e-02,  4.30971012e-02,\n",
              "         3.37377675e-02, -4.72022258e-02,  1.85168423e-02, -3.85075137e-02,\n",
              "        -3.32458504e-03, -2.78822463e-02, -5.77811301e-02,  4.15352955e-02,\n",
              "        -3.45727056e-02, -1.26786856e-02,  2.38865893e-02,  3.50930803e-02,\n",
              "         8.23595934e-03,  1.39343375e-02, -1.12683680e-02, -5.47312349e-02,\n",
              "        -2.80971508e-02,  3.33104692e-02,  6.22175541e-03, -7.88199231e-02,\n",
              "        -1.32523915e-02,  6.72620758e-02,  3.26029323e-02,  8.84585455e-03,\n",
              "         2.74315234e-02,  2.82835290e-02, -1.09020974e-02,  4.04235721e-02,\n",
              "         4.91979048e-02, -4.14990857e-02, -4.08953130e-02, -2.86816042e-02,\n",
              "        -2.10937504e-02,  2.12023668e-02, -9.52834170e-03,  2.54491251e-02,\n",
              "        -1.38228880e-02, -1.71564333e-02, -3.57492305e-02, -2.74748188e-02,\n",
              "        -6.51216134e-02,  2.42565200e-02, -7.59142935e-02, -4.08285931e-02,\n",
              "         3.43053341e-02, -2.47290544e-02,  3.33675221e-02, -2.33415607e-03,\n",
              "        -4.90376428e-02,  7.74293318e-02,  1.62931532e-02,  1.67866908e-02,\n",
              "        -1.83814403e-03,  4.99296235e-03,  1.75939426e-02, -4.24411893e-02,\n",
              "        -5.59659349e-03,  8.74663144e-03, -1.43073872e-02, -3.97599451e-02,\n",
              "         8.44143331e-03,  2.46730912e-02, -2.43455227e-02,  1.52785936e-02,\n",
              "         1.92583352e-02, -2.69605014e-02,  2.48400997e-02,  2.25970820e-02,\n",
              "        -3.56712900e-02,  1.74628161e-02,  2.45525092e-02, -2.09699161e-02,\n",
              "        -4.85731428e-03,  9.68766585e-03, -7.65988231e-03,  1.47092286e-02,\n",
              "         3.49959098e-02,  1.00707784e-02,  5.64607009e-02, -7.58514646e-03,\n",
              "         1.05617968e-02, -8.63883086e-03,  1.95693839e-02, -8.63207877e-02,\n",
              "         6.38638586e-02, -4.36877366e-04,  1.96163692e-02, -4.05276776e-04,\n",
              "         6.48390800e-02,  1.39018474e-02, -1.27970625e-03,  6.91757537e-03,\n",
              "         3.35277710e-03, -1.00189960e-02,  1.34085733e-02,  7.01893726e-03,\n",
              "         3.55756395e-02,  1.26981540e-02, -1.60644073e-02, -4.81199007e-04,\n",
              "        -1.62187368e-02,  2.31732186e-02, -4.38673943e-02, -1.05928173e-02,\n",
              "         6.51398748e-02,  5.02656512e-02,  3.42961401e-02,  1.61878299e-02,\n",
              "        -2.61622691e-03,  1.35694006e-02, -9.23556741e-03, -4.22394695e-03,\n",
              "         1.76286716e-02,  2.13512052e-02,  4.17062789e-02,  2.44508740e-02,\n",
              "        -1.47170965e-02,  5.05302381e-03, -5.48030483e-03,  2.80296467e-02,\n",
              "        -7.41431676e-03, -2.10658256e-02,  1.74733810e-02,  3.74961086e-02,\n",
              "         1.08015314e-02,  5.28866937e-03, -3.33556049e-02, -4.11184207e-02,\n",
              "         7.86403120e-02, -1.66610777e-02,  1.21647790e-02,  2.01757234e-02,\n",
              "        -2.89399177e-02, -2.47535650e-02,  3.14488262e-02,  4.04582322e-02,\n",
              "         4.18814197e-02,  1.53664853e-02,  7.24146422e-03,  1.27340388e-02,\n",
              "        -3.79526354e-02, -3.01669370e-02,  4.75162407e-03, -6.66358843e-02,\n",
              "         3.10680680e-02, -2.70163324e-02,  6.38646409e-02,  6.60240501e-02,\n",
              "        -1.37932636e-02,  1.21768359e-02,  1.06789432e-02,  2.11567879e-02,\n",
              "        -8.49043299e-03,  2.62434743e-02,  2.78007914e-03,  3.13670151e-02,\n",
              "         1.31808716e-04, -4.32426743e-02, -1.20131234e-02, -3.52931321e-02,\n",
              "         2.88137147e-04,  1.61724240e-02, -2.76338635e-03,  3.90837193e-02,\n",
              "         8.76249969e-02,  5.75260185e-02,  2.61919061e-03, -2.53839362e-02,\n",
              "         9.89228953e-03,  9.74092074e-03,  3.69116920e-03, -1.35515137e-02,\n",
              "        -5.05750366e-02,  2.58220173e-02,  9.07982439e-02,  5.52438162e-02,\n",
              "         6.20369725e-02,  8.48239381e-03, -7.48158023e-02,  6.15233369e-02,\n",
              "         4.91376454e-03,  3.99187803e-02,  5.49664050e-02,  1.71900280e-02,\n",
              "        -2.47363914e-02,  2.02891510e-02,  8.97285901e-03, -1.42368302e-02,\n",
              "         9.87046510e-02,  1.30773950e-02,  7.53607005e-02,  3.45743932e-02,\n",
              "         7.36671835e-02,  1.94225777e-02,  3.36083323e-02, -1.22585595e-02,\n",
              "         8.48157797e-03,  1.71797853e-02,  1.68625098e-02, -2.76987404e-02,\n",
              "         1.93009879e-02,  7.92713952e-04,  4.66339774e-02,  1.30119491e-02,\n",
              "         6.59849728e-03,  6.35536388e-02,  2.34417636e-02,  5.70984893e-02,\n",
              "         4.68158908e-02,  5.27802147e-02, -2.36767251e-02, -2.78454479e-02,\n",
              "        -2.16938788e-04, -2.83151809e-02,  4.81943833e-03,  3.79187539e-02,\n",
              "         2.93922294e-02,  3.52149904e-02,  3.29265296e-02,  3.81528623e-02,\n",
              "        -1.78246591e-02,  2.84765847e-03,  3.13036442e-02, -4.40518707e-02,\n",
              "        -2.65426766e-02,  3.00667081e-02, -6.59043565e-02, -1.80078018e-02,\n",
              "         2.64998265e-02,  4.00564969e-02,  1.12997591e-02,  9.08999369e-02,\n",
              "         3.60717662e-02,  3.10781002e-02,  5.04330769e-02,  8.91486299e-04,\n",
              "         7.32184649e-02,  3.06920186e-02,  3.95165235e-02,  1.78866480e-02,\n",
              "         2.73623634e-02,  3.09261400e-02, -9.40793194e-03, -2.19557788e-02,\n",
              "         3.42414379e-02,  1.90830231e-02,  2.31202245e-02, -1.32497877e-03,\n",
              "         1.13518117e-02,  9.26279351e-02,  4.60394323e-02, -2.67360657e-02,\n",
              "         2.02271529e-02, -1.37424832e-02, -7.19558448e-02, -7.66915921e-03,\n",
              "         1.21534076e-02,  6.87447339e-02,  3.97833697e-02, -2.66669579e-02,\n",
              "         1.15052881e-02,  4.25022729e-02,  4.74995188e-02,  3.35789373e-04,\n",
              "         4.16261293e-02,  7.86493160e-03,  3.98409441e-02, -4.20826152e-02,\n",
              "         2.76947282e-02,  1.11834332e-02, -1.78319041e-03, -1.77245308e-02,\n",
              "         1.41958091e-02,  4.46897605e-03,  4.85485047e-02,  4.52510500e-03,\n",
              "         2.31271964e-02,  2.23789271e-02, -5.88227948e-03,  5.86691648e-02,\n",
              "        -1.73887727e-03, -4.93156351e-03,  2.34128460e-02,  2.35309973e-02,\n",
              "         6.43374324e-02,  7.65062543e-03,  3.14353555e-02, -6.79716794e-03,\n",
              "         2.60918383e-02, -3.92916724e-02,  3.39951850e-02,  3.70685942e-02,\n",
              "         3.38412151e-02,  1.38216671e-02, -8.33967715e-05,  7.93156121e-03,\n",
              "        -2.24553961e-02, -2.83437818e-02,  6.17428729e-03,  3.35406736e-02,\n",
              "         1.32170618e-02, -6.29892647e-02,  8.77822097e-03, -1.31232962e-02,\n",
              "         7.74747729e-02, -2.57231351e-02, -5.96309863e-02, -3.41149904e-02,\n",
              "         2.35765576e-02, -4.71170712e-03, -1.25397360e-02,  2.29761414e-02,\n",
              "         1.49946464e-02,  3.78343835e-02, -1.66154578e-02, -2.80586313e-02,\n",
              "        -4.81206458e-03,  2.65836846e-02,  5.25195189e-02, -1.27510624e-02,\n",
              "         3.45170274e-02,  4.62618470e-03,  2.80190017e-02, -2.14036019e-03,\n",
              "        -6.52803155e-03,  3.41118425e-02,  1.29953604e-02, -4.25900035e-02,\n",
              "        -3.42037268e-02, -3.11148893e-02, -6.53283857e-03,  2.74558198e-02,\n",
              "         1.41610196e-02, -2.34756190e-02,  1.28705418e-02, -1.71272177e-02,\n",
              "        -4.21168879e-02, -4.61662095e-03, -2.64966898e-02, -2.84479521e-02,\n",
              "        -3.04650217e-02,  4.45973463e-02,  1.03064096e-02, -8.63136351e-03,\n",
              "        -3.08766519e-03, -2.42795367e-02, -2.00380329e-02,  3.15755345e-02,\n",
              "        -1.24675184e-02,  5.76185901e-03, -4.01369967e-02,  2.87570413e-02,\n",
              "         5.47395460e-02,  2.84676608e-02, -7.39959395e-03,  8.15383792e-02,\n",
              "         2.68123243e-02,  2.64236871e-02, -3.54768038e-02, -1.82095519e-03,\n",
              "         2.25431900e-02, -1.38745634e-02,  3.05335727e-02,  1.07262461e-02,\n",
              "         5.38664646e-02, -8.36479962e-02,  1.73396468e-02,  9.45676677e-03,\n",
              "         1.91858541e-02,  6.54671416e-02, -1.19870277e-02,  9.53046530e-02,\n",
              "         7.35294353e-03,  4.01596352e-02,  6.21222109e-02,  2.13662926e-02,\n",
              "         1.60818510e-02,  3.76785472e-02,  6.32252544e-02, -6.33907691e-03,\n",
              "        -1.74469389e-02, -2.99922209e-02,  4.57196198e-02, -4.20610867e-02,\n",
              "        -3.07144667e-03,  1.60929020e-02,  1.20676253e-02, -1.82350597e-03,\n",
              "        -8.06998089e-03,  1.85587350e-02,  1.05271880e-02,  1.98120344e-02,\n",
              "        -1.73458513e-02, -1.82351924e-03,  8.65052643e-05, -1.54372165e-02,\n",
              "        -2.59796120e-02,  4.29334678e-02,  5.95144965e-02,  3.32748704e-02,\n",
              "         4.95929010e-02,  7.11752325e-02,  1.15521766e-01,  7.88951665e-02,\n",
              "         6.32820800e-02, -3.48703936e-02, -3.45386704e-03,  4.98148166e-02,\n",
              "        -5.24801984e-02,  1.00807259e-02, -6.05357327e-02,  1.74947008e-02,\n",
              "         5.96557884e-03, -3.81937139e-02,  8.98561964e-04,  6.43571988e-02,\n",
              "         1.28048658e-02,  3.74919474e-02,  2.01242380e-02,  3.57936583e-02,\n",
              "        -2.82946546e-02,  3.16497982e-02,  2.94497106e-02, -1.30526321e-02,\n",
              "         4.43826243e-02,  3.78638469e-02,  5.29576652e-02,  7.17290938e-02,\n",
              "         1.00861052e-02,  3.67619433e-02,  6.06346168e-02,  2.10885722e-02,\n",
              "         2.13659965e-02,  9.40478314e-03,  6.25456031e-03, -6.33532628e-02,\n",
              "        -3.28762121e-02, -3.64710577e-02, -2.99092140e-02, -5.14076613e-02,\n",
              "        -1.03979297e-02,  2.24804189e-02,  5.50859831e-02,  3.15194800e-02,\n",
              "         1.92448869e-02, -1.46675687e-02,  9.36603546e-03, -1.11258700e-02,\n",
              "         8.80552176e-03, -8.00818279e-02,  2.83408016e-02,  1.91730820e-02,\n",
              "         1.48990443e-02, -3.27392556e-02,  4.88838740e-03, -3.87064703e-02,\n",
              "         1.12473248e-02, -2.48348676e-02,  5.98288365e-02, -4.58008349e-02,\n",
              "        -4.88462523e-02,  5.07944124e-03, -2.73090936e-02, -3.46469581e-02,\n",
              "        -1.73331425e-02, -6.23388924e-02,  1.50353946e-02, -3.35069820e-02,\n",
              "         5.41230291e-02, -1.32248849e-02, -6.90035671e-02,  3.29025611e-02,\n",
              "        -4.36811820e-02,  1.47594493e-02,  3.04248706e-02, -3.12498305e-02,\n",
              "         2.68413369e-02,  5.58943860e-02, -1.57656695e-03, -8.14044252e-02,\n",
              "        -5.96488900e-02, -2.19556261e-02, -3.36074494e-02, -4.92418148e-02,\n",
              "         2.11541932e-02,  3.07334699e-02,  1.65290688e-03,  2.45980211e-02,\n",
              "        -3.48026752e-02, -5.46298251e-02,  2.33647935e-02,  2.60463897e-02,\n",
              "        -1.42534701e-02,  8.07025563e-03,  5.66891283e-02,  4.52771746e-02,\n",
              "         4.08884399e-02,  1.01991624e-01,  2.47786120e-02, -7.06896698e-03,\n",
              "         2.55292491e-03,  1.39796082e-03, -2.29973029e-02,  3.60752307e-02,\n",
              "         8.98838509e-03,  2.15261672e-02, -5.56598939e-02,  5.89804398e-03,\n",
              "        -3.56932133e-02, -2.63593718e-02, -2.82569341e-02,  8.27805847e-02,\n",
              "         2.38370635e-02, -9.94172413e-03, -1.08163832e-02,  1.21320961e-02,\n",
              "        -6.21655025e-03, -5.78424595e-02, -1.70079768e-02,  2.24390104e-02,\n",
              "         1.16523588e-02,  1.12720914e-02,  3.16349417e-03,  1.03009306e-01,\n",
              "         6.38807490e-02,  6.77744001e-02,  4.19652835e-02, -1.07244856e-03,\n",
              "         5.51029518e-02,  6.72859838e-03,  2.64607556e-02, -7.17124194e-02,\n",
              "         1.71135385e-02, -8.06382392e-03, -6.18467331e-02, -4.84927669e-02,\n",
              "         3.50440457e-03,  1.60664748e-02,  9.67553165e-03, -2.23013461e-02,\n",
              "         9.23175085e-03, -2.89254542e-02, -4.81611453e-02, -5.15506119e-02,\n",
              "         2.36285552e-02, -1.60679477e-03,  7.49461912e-03,  3.90095860e-02,\n",
              "        -2.44372082e-03,  1.19956546e-02,  5.31214289e-03,  2.85732802e-02,\n",
              "         5.41808009e-02,  4.79879491e-02,  5.34740351e-02, -9.26305819e-03,\n",
              "         3.29892151e-02, -3.65381762e-02, -2.56716070e-04, -1.24537933e-03,\n",
              "        -1.94184203e-02, -4.95213941e-02, -1.19811567e-02, -1.29939495e-02,\n",
              "         1.13032153e-02,  2.46526138e-03, -2.74172612e-03,  1.52996052e-02,\n",
              "         6.70298859e-02,  2.36168243e-02,  7.06441775e-02, -3.00110709e-02,\n",
              "        -3.37576754e-02, -1.01723913e-02,  1.56285092e-02,  1.73011664e-02,\n",
              "         6.36676177e-02,  5.14410203e-03, -1.84601285e-02,  8.34162906e-02,\n",
              "         3.55306193e-02,  4.45527732e-02,  2.66848933e-02,  2.76221503e-02,\n",
              "         4.79913801e-02,  4.72771041e-02, -5.46411388e-02, -1.10567501e-02,\n",
              "         9.15916404e-04,  1.42856985e-02,  3.21737751e-02, -4.44550179e-02,\n",
              "         5.95357344e-02, -1.55319320e-03,  3.44114974e-02, -1.44265834e-02,\n",
              "        -3.10817584e-02,  3.16650942e-02, -3.20856422e-02,  1.41252996e-02,\n",
              "         1.42813539e-02, -2.27783900e-02, -3.10939271e-03,  1.54400142e-02,\n",
              "         8.90849624e-03,  2.20254660e-02, -2.44610924e-02,  6.02870341e-03,\n",
              "         2.52308045e-03,  3.62695828e-02,  3.17486771e-03, -9.31383111e-03,\n",
              "         1.98940076e-02,  1.70327332e-02,  3.87287065e-02, -3.59897316e-02,\n",
              "        -9.49635729e-03, -3.37499157e-02, -7.46326596e-02,  1.44043956e-02,\n",
              "        -3.72494711e-03,  2.01331358e-02, -9.80639737e-03, -3.35126109e-02,\n",
              "        -1.42287012e-04, -3.37360241e-02,  2.03324482e-03, -1.16858473e-02,\n",
              "        -4.23786044e-02, -3.15866619e-02, -1.62518993e-02, -2.22525224e-02,\n",
              "        -6.59440272e-03, -3.76092978e-02,  6.61587119e-02,  2.71086786e-02,\n",
              "        -1.75514128e-02, -1.41416462e-02, -2.16034590e-03, -2.16962434e-02,\n",
              "         2.24711113e-02, -2.75984295e-02,  9.04408842e-03,  5.63574731e-02,\n",
              "         1.33712357e-02, -2.87461728e-02, -2.22727396e-02, -1.98948551e-02,\n",
              "        -5.48504060e-03, -8.75035115e-03,  4.90942225e-02, -2.81338952e-02,\n",
              "        -1.77153014e-02, -1.88786406e-02, -2.33357679e-02, -2.31983848e-02,\n",
              "        -4.19428851e-03, -5.09988517e-02, -1.23609649e-02,  4.01134777e-04,\n",
              "        -1.70507561e-02, -2.47861389e-02,  1.43711297e-02, -7.45554129e-03,\n",
              "         1.59917660e-02,  6.89549074e-02,  5.08708414e-03,  1.18878055e-02,\n",
              "         2.37871185e-02,  2.70087346e-02,  2.01156996e-02, -1.10019073e-02],\n",
              "       dtype=float32),\n",
              " array([0.00000000e+00, 0.00000000e+00, 0.00000000e+00, 0.00000000e+00,\n",
              "        0.00000000e+00, 0.00000000e+00, 0.00000000e+00, 0.00000000e+00,\n",
              "        0.00000000e+00, 0.00000000e+00, 0.00000000e+00, 0.00000000e+00,\n",
              "        5.59888935e-09, 1.06303560e-07, 1.04653004e-07, 4.36053460e-09,\n",
              "        0.00000000e+00, 0.00000000e+00, 0.00000000e+00, 0.00000000e+00,\n",
              "        0.00000000e+00, 0.00000000e+00, 0.00000000e+00, 0.00000000e+00,\n",
              "        0.00000000e+00, 0.00000000e+00, 0.00000000e+00, 0.00000000e+00,\n",
              "        0.00000000e+00, 0.00000000e+00, 0.00000000e+00, 0.00000000e+00,\n",
              "        2.20006109e-06, 6.69905921e-06, 3.14820674e-03, 1.99668426e-02,\n",
              "        3.99757959e-02, 1.12824328e-01, 3.32691133e-01, 3.53526622e-01,\n",
              "        3.56454015e-01, 1.96405947e-01, 1.45932779e-01, 1.25301108e-01,\n",
              "        2.65915185e-01, 1.93789855e-01, 9.53888074e-02, 4.89468761e-02,\n",
              "        4.03679758e-02, 3.09545081e-03, 6.09267177e-03, 8.34132917e-03,\n",
              "        0.00000000e+00, 0.00000000e+00, 0.00000000e+00, 0.00000000e+00,\n",
              "        0.00000000e+00, 0.00000000e+00, 2.61103565e-07, 1.81622227e-07,\n",
              "        4.95525834e-04, 1.68940667e-02, 1.40065774e-02, 6.98001161e-02,\n",
              "        2.21484542e-01, 5.86539030e-01, 1.14334512e+00, 1.79726183e+00,\n",
              "        2.20741129e+00, 2.50887322e+00, 2.78023505e+00, 3.02650380e+00,\n",
              "        3.34680033e+00, 3.07625318e+00, 2.83023596e+00, 2.08076882e+00,\n",
              "        1.00854552e+00, 4.03937578e-01, 1.74916461e-01, 4.86413389e-02,\n",
              "        1.40303439e-02, 6.93484116e-03, 0.00000000e+00, 0.00000000e+00,\n",
              "        0.00000000e+00, 0.00000000e+00, 2.80074048e-04, 1.08340493e-04,\n",
              "        2.29471992e-03, 7.63779655e-02, 1.62241757e-01, 4.47172076e-01,\n",
              "        1.14815676e+00, 2.59803796e+00, 4.19330215e+00, 6.21883917e+00,\n",
              "        7.73275280e+00, 9.43921280e+00, 1.15629864e+01, 1.30046492e+01,\n",
              "        1.26875458e+01, 1.12971687e+01, 9.21151257e+00, 6.50696039e+00,\n",
              "        3.98313618e+00, 2.04533696e+00, 8.07337582e-01, 2.42795244e-01,\n",
              "        1.10131383e-01, 3.79641913e-02, 8.95281206e-04, 0.00000000e+00,\n",
              "        0.00000000e+00, 1.41323362e-05, 2.31308164e-03, 5.01851458e-03,\n",
              "        3.63659672e-02, 3.01488072e-01, 8.69186819e-01, 2.32130647e+00,\n",
              "        5.08005714e+00, 9.30733967e+00, 1.47547140e+01, 2.10504379e+01,\n",
              "        2.77865372e+01, 3.55500565e+01, 4.18961868e+01, 4.43734055e+01,\n",
              "        4.35878639e+01, 3.71999741e+01, 2.93596554e+01, 2.22836819e+01,\n",
              "        1.44518099e+01, 8.33127975e+00, 4.63205767e+00, 1.96657586e+00,\n",
              "        8.06088328e-01, 3.28157127e-01, 1.07150458e-01, 1.02442037e-02,\n",
              "        0.00000000e+00, 0.00000000e+00, 1.57719571e-02, 3.52502763e-02,\n",
              "        3.51735741e-01, 1.39912927e+00, 3.67928886e+00, 7.74433136e+00,\n",
              "        1.43816643e+01, 2.33119736e+01, 3.42380257e+01, 4.62132072e+01,\n",
              "        5.99333305e+01, 7.44649506e+01, 8.49684753e+01, 8.92980881e+01,\n",
              "        8.66048813e+01, 7.56532516e+01, 6.14989777e+01, 4.67388458e+01,\n",
              "        3.32121162e+01, 2.05360641e+01, 1.17014847e+01, 6.43680477e+00,\n",
              "        3.13118148e+00, 9.78401661e-01, 1.65003806e-01, 1.52002797e-02,\n",
              "        0.00000000e+00, 3.55887023e-04, 2.68887244e-02, 1.63361788e-01,\n",
              "        1.14403057e+00, 3.12100673e+00, 7.56173992e+00, 1.51784172e+01,\n",
              "        2.61240482e+01, 3.94185028e+01, 5.52190361e+01, 7.13430557e+01,\n",
              "        8.98611145e+01, 1.07304977e+02, 1.18954636e+02, 1.23036041e+02,\n",
              "        1.20776421e+02, 1.07981964e+02, 9.06016312e+01, 7.08215637e+01,\n",
              "        5.23353767e+01, 3.49981537e+01, 2.09230137e+01, 1.18103523e+01,\n",
              "        5.67865849e+00, 2.01309085e+00, 3.23134452e-01, 1.93567183e-02,\n",
              "        6.89856228e-10, 1.93130746e-02, 1.75836116e-01, 7.04167902e-01,\n",
              "        2.34309840e+00, 6.01711273e+00, 1.29866476e+01, 2.37434807e+01,\n",
              "        3.83099861e+01, 5.60377731e+01, 7.48818817e+01, 9.47055664e+01,\n",
              "        1.12179268e+02, 1.25664772e+02, 1.32632965e+02, 1.34614670e+02,\n",
              "        1.33252914e+02, 1.25691071e+02, 1.10347893e+02, 8.96250000e+01,\n",
              "        6.66559372e+01, 4.53631859e+01, 2.80631313e+01, 1.52019968e+01,\n",
              "        6.91694450e+00, 2.68077517e+00, 4.26967084e-01, 3.96337211e-02,\n",
              "        1.31973890e-08, 8.33274350e-02, 5.26614368e-01, 1.65236366e+00,\n",
              "        3.91292477e+00, 8.98331642e+00, 1.73393211e+01, 3.10634575e+01,\n",
              "        4.86274185e+01, 6.93650284e+01, 8.99721680e+01, 1.08007286e+02,\n",
              "        1.19398308e+02, 1.23647568e+02, 1.22996078e+02, 1.22220154e+02,\n",
              "        1.23650017e+02, 1.23039345e+02, 1.15593353e+02, 9.82200317e+01,\n",
              "        7.39187317e+01, 5.07517815e+01, 3.09700832e+01, 1.59028959e+01,\n",
              "        6.82553148e+00, 2.49757147e+00, 4.69294667e-01, 1.39889987e-02,\n",
              "        6.09126873e-03, 9.62381139e-02, 6.82596684e-01, 2.04107738e+00,\n",
              "        4.56670523e+00, 9.78932953e+00, 2.00310097e+01, 3.54331436e+01,\n",
              "        5.56925888e+01, 7.77338638e+01, 9.85627518e+01, 1.10660561e+02,\n",
              "        1.10538284e+02, 1.04768295e+02, 9.92809219e+01, 9.99321899e+01,\n",
              "        1.05620728e+02, 1.11717865e+02, 1.11160690e+02, 9.74796906e+01,\n",
              "        7.42347870e+01, 5.06936226e+01, 3.06944332e+01, 1.53366861e+01,\n",
              "        5.72997665e+00, 1.73172140e+00, 3.45787346e-01, 2.10451223e-02,\n",
              "        1.45362401e-02, 1.83232471e-01, 6.88709974e-01, 1.90250361e+00,\n",
              "        4.43442106e+00, 1.01227922e+01, 2.07083397e+01, 3.71438026e+01,\n",
              "        5.85581856e+01, 8.16546936e+01, 9.96873016e+01, 1.02980736e+02,\n",
              "        9.27854385e+01, 8.17243271e+01, 7.96824799e+01, 8.51699371e+01,\n",
              "        9.45185699e+01, 1.04967857e+02, 1.06329453e+02, 9.24582062e+01,\n",
              "        7.02794724e+01, 4.78024712e+01, 2.81328487e+01, 1.35656939e+01,\n",
              "        4.56552696e+00, 9.14723933e-01, 1.78088143e-01, 1.27646653e-02,\n",
              "        9.98397078e-03, 1.43392697e-01, 5.68645418e-01, 1.42871952e+00,\n",
              "        3.90680647e+00, 9.92865944e+00, 2.09646645e+01, 3.98063927e+01,\n",
              "        6.24723701e+01, 8.55395355e+01, 9.80530624e+01, 9.43999329e+01,\n",
              "        7.96788864e+01, 7.15422668e+01, 7.60798569e+01, 8.59837341e+01,\n",
              "        9.82399445e+01, 1.08102844e+02, 1.05545174e+02, 8.85315933e+01,\n",
              "        6.48594131e+01, 4.25089340e+01, 2.51956081e+01, 1.30584650e+01,\n",
              "        4.18500566e+00, 6.18400574e-01, 1.14708759e-01, 8.87137651e-03,\n",
              "        6.17203629e-03, 1.54591324e-02, 2.78336942e-01, 1.10738111e+00,\n",
              "        3.47216749e+00, 9.65556622e+00, 2.20900631e+01, 4.32855606e+01,\n",
              "        6.75128937e+01, 8.82325974e+01, 9.76957855e+01, 9.10390015e+01,\n",
              "        7.93280106e+01, 7.94231415e+01, 9.00634613e+01, 1.03149078e+02,\n",
              "        1.14651588e+02, 1.18189484e+02, 1.08501556e+02, 8.59645691e+01,\n",
              "        5.89316902e+01, 3.83145447e+01, 2.42630100e+01, 1.35244226e+01,\n",
              "        4.50760841e+00, 5.62164307e-01, 7.60958493e-02, 2.70048942e-04,\n",
              "        2.85613373e-06, 5.97491395e-04, 1.27556309e-01, 9.22995090e-01,\n",
              "        3.38618588e+00, 1.07006769e+01, 2.50950375e+01, 4.75227737e+01,\n",
              "        7.20381622e+01, 9.11513596e+01, 9.73603592e+01, 9.14134750e+01,\n",
              "        8.71237793e+01, 9.73330536e+01, 1.11532692e+02, 1.24620277e+02,\n",
              "        1.30548523e+02, 1.27221725e+02, 1.11181534e+02, 8.30691147e+01,\n",
              "        5.50072136e+01, 3.71333733e+01, 2.46883793e+01, 1.45063868e+01,\n",
              "        5.40742779e+00, 8.53702605e-01, 1.00556180e-01, 3.82102677e-04,\n",
              "        9.47541790e-04, 2.41166708e-05, 6.60629049e-02, 6.36401534e-01,\n",
              "        3.62092686e+00, 1.25885983e+01, 2.79554958e+01, 4.99878883e+01,\n",
              "        7.38734055e+01, 9.12766800e+01, 9.62843857e+01, 9.36009598e+01,\n",
              "        9.83604736e+01, 1.15218285e+02, 1.29307007e+02, 1.38430298e+02,\n",
              "        1.36121277e+02, 1.28220444e+02, 1.09557556e+02, 8.15500031e+01,\n",
              "        5.64897041e+01, 3.92678108e+01, 2.62123413e+01, 1.51138010e+01,\n",
              "        6.35823441e+00, 1.06930888e+00, 8.11054111e-02, 3.88184089e-05,\n",
              "        6.94704358e-04, 3.95546194e-05, 5.41924126e-02, 4.71551061e-01,\n",
              "        3.68811679e+00, 1.45588923e+01, 2.99856567e+01, 5.07372131e+01,\n",
              "        7.10809326e+01, 8.70345535e+01, 9.21024857e+01, 9.51521912e+01,\n",
              "        1.04953781e+02, 1.21495140e+02, 1.33323456e+02, 1.36942581e+02,\n",
              "        1.30769028e+02, 1.20290466e+02, 1.02077972e+02, 8.05798492e+01,\n",
              "        5.94864960e+01, 4.21365166e+01, 2.74707088e+01, 1.48554726e+01,\n",
              "        6.39212465e+00, 1.13270378e+00, 1.18980080e-01, 9.67364106e-03,\n",
              "        2.19684117e-03, 1.18115144e-02, 6.48362190e-02, 6.14506423e-01,\n",
              "        4.43391991e+00, 1.63437939e+01, 3.14072285e+01, 4.97498741e+01,\n",
              "        6.62017593e+01, 7.85473480e+01, 8.37347031e+01, 8.83569870e+01,\n",
              "        9.89598465e+01, 1.11984398e+02, 1.23986824e+02, 1.25519783e+02,\n",
              "        1.19138367e+02, 1.09116997e+02, 9.50706024e+01, 7.95641251e+01,\n",
              "        6.15771027e+01, 4.31649284e+01, 2.68873138e+01, 1.39576721e+01,\n",
              "        5.72011089e+00, 1.14853728e+00, 1.48135751e-01, 1.57659687e-02,\n",
              "        0.00000000e+00, 8.01907852e-04, 7.69241303e-02, 9.62052464e-01,\n",
              "        5.73906136e+00, 1.77987022e+01, 3.23699226e+01, 4.82055817e+01,\n",
              "        6.04610100e+01, 6.86723328e+01, 7.31017532e+01, 7.83558426e+01,\n",
              "        8.68157501e+01, 9.95101089e+01, 1.10177963e+02, 1.11484573e+02,\n",
              "        1.08710030e+02, 1.02765877e+02, 9.30441589e+01, 7.90610580e+01,\n",
              "        6.03962097e+01, 4.12608604e+01, 2.46409359e+01, 1.24212227e+01,\n",
              "        5.11702013e+00, 1.52771878e+00, 2.96769768e-01, 3.23643647e-02,\n",
              "        5.77885544e-07, 2.37559492e-04, 1.58809707e-01, 1.36535585e+00,\n",
              "        6.94454002e+00, 1.98890171e+01, 3.40453949e+01, 4.80125237e+01,\n",
              "        5.77190094e+01, 6.51814957e+01, 7.08412323e+01, 7.50994644e+01,\n",
              "        8.07295380e+01, 9.36645126e+01, 1.04193695e+02, 1.08078842e+02,\n",
              "        1.08519669e+02, 1.03992310e+02, 9.42362518e+01, 7.81635742e+01,\n",
              "        5.71705856e+01, 3.82974281e+01, 2.27372913e+01, 1.13474293e+01,\n",
              "        4.64161205e+00, 1.40662932e+00, 2.65190870e-01, 2.97571234e-02,\n",
              "        2.73288902e-06, 2.84111768e-04, 2.07021251e-01, 1.78946364e+00,\n",
              "        7.93863487e+00, 2.08473454e+01, 3.66490746e+01, 5.02959023e+01,\n",
              "        6.17277908e+01, 7.15450439e+01, 7.81758652e+01, 8.27794037e+01,\n",
              "        8.96281662e+01, 1.00930054e+02, 1.10226227e+02, 1.14172791e+02,\n",
              "        1.13728607e+02, 1.06886009e+02, 9.30204163e+01, 7.23245239e+01,\n",
              "        5.02441406e+01, 3.29277611e+01, 1.92127991e+01, 9.38266277e+00,\n",
              "        3.88121700e+00, 1.08712173e+00, 1.65463030e-01, 1.35262692e-02,\n",
              "        0.00000000e+00, 1.21354368e-02, 1.47776306e-01, 2.01491642e+00,\n",
              "        7.51340961e+00, 1.94182758e+01, 3.55165596e+01, 5.24487381e+01,\n",
              "        6.83711166e+01, 8.09684372e+01, 9.08524933e+01, 9.80014496e+01,\n",
              "        1.07210381e+02, 1.16974342e+02, 1.23749977e+02, 1.23760071e+02,\n",
              "        1.17511887e+02, 1.03374657e+02, 8.32393951e+01, 6.03871574e+01,\n",
              "        4.04976883e+01, 2.53808346e+01, 1.44047394e+01, 7.06200314e+00,\n",
              "        3.12203526e+00, 7.46619880e-01, 6.53626770e-02, 1.61758601e-03,\n",
              "        1.55149475e-08, 8.89764912e-03, 1.45714417e-01, 1.71326053e+00,\n",
              "        6.10514402e+00, 1.56534262e+01, 3.11219559e+01, 5.01592484e+01,\n",
              "        7.00816269e+01, 8.71473694e+01, 1.01330475e+02, 1.13091713e+02,\n",
              "        1.23274841e+02, 1.30383194e+02, 1.31847626e+02, 1.24675247e+02,\n",
              "        1.10164055e+02, 8.96671524e+01, 6.59161530e+01, 4.48699532e+01,\n",
              "        2.82149467e+01, 1.67765865e+01, 8.94849205e+00, 4.47889423e+00,\n",
              "        2.14099312e+00, 4.44668055e-01, 7.00755715e-02, 1.70526516e-06,\n",
              "        1.50300874e-08, 4.56515962e-04, 8.54777470e-02, 1.01743186e+00,\n",
              "        3.68891692e+00, 9.88372135e+00, 2.24288540e+01, 4.04251251e+01,\n",
              "        6.11238098e+01, 8.09794617e+01, 9.93687973e+01, 1.13868034e+02,\n",
              "        1.23058655e+02, 1.25913513e+02, 1.21301628e+02, 1.07109505e+02,\n",
              "        8.82769623e+01, 6.65438995e+01, 4.56989822e+01, 2.89296074e+01,\n",
              "        1.67754230e+01, 9.09892368e+00, 4.81987667e+00, 2.41520858e+00,\n",
              "        9.89408493e-01, 1.78157225e-01, 3.86262387e-02, 3.14817999e-06,\n",
              "        0.00000000e+00, 0.00000000e+00, 3.73504199e-02, 4.45911795e-01,\n",
              "        1.85826445e+00, 4.74068165e+00, 1.16462612e+01, 2.38618355e+01,\n",
              "        4.05935020e+01, 5.94146233e+01, 7.71367416e+01, 9.12556763e+01,\n",
              "        9.90618744e+01, 9.84675140e+01, 8.78590393e+01, 7.41724396e+01,\n",
              "        5.75837593e+01, 4.11999016e+01, 2.65476379e+01, 1.58805475e+01,\n",
              "        8.39397717e+00, 4.29991770e+00, 2.40906096e+00, 1.20512271e+00,\n",
              "        3.63743097e-01, 2.48902142e-02, 1.78932888e-03, 0.00000000e+00,\n",
              "        0.00000000e+00, 0.00000000e+00, 1.25552462e-02, 8.09252113e-02,\n",
              "        6.08442783e-01, 1.61354661e+00, 4.19058895e+00, 8.92981434e+00,\n",
              "        1.69200020e+01, 2.68020630e+01, 3.74375801e+01, 4.59662247e+01,\n",
              "        5.01319656e+01, 4.92724190e+01, 4.42059593e+01, 3.64103851e+01,\n",
              "        2.77511826e+01, 1.97972450e+01, 1.24811106e+01, 7.55877876e+00,\n",
              "        3.81825423e+00, 1.95371854e+00, 1.08799946e+00, 5.58640242e-01,\n",
              "        9.17649567e-02, 9.22695175e-03, 3.80934210e-07, 0.00000000e+00,\n",
              "        0.00000000e+00, 0.00000000e+00, 1.76809356e-03, 6.58368412e-03,\n",
              "        1.43511429e-01, 3.74024153e-01, 1.32112527e+00, 3.11607385e+00,\n",
              "        5.92656565e+00, 9.63263226e+00, 1.38593388e+01, 1.73567543e+01,\n",
              "        1.85592556e+01, 1.84030533e+01, 1.59182043e+01, 1.35037880e+01,\n",
              "        1.09708080e+01, 8.29357624e+00, 5.56992769e+00, 3.31800246e+00,\n",
              "        1.55455279e+00, 6.94353282e-01, 3.13583910e-01, 1.52384773e-01,\n",
              "        4.83155549e-02, 1.01039780e-06, 4.03497978e-07, 0.00000000e+00,\n",
              "        0.00000000e+00, 0.00000000e+00, 0.00000000e+00, 1.10799877e-03,\n",
              "        2.45558992e-02, 2.04827547e-01, 6.84983909e-01, 1.15054297e+00,\n",
              "        2.02252197e+00, 3.05719781e+00, 4.29545689e+00, 5.73127985e+00,\n",
              "        6.60232162e+00, 6.65398264e+00, 5.59142351e+00, 4.66382647e+00,\n",
              "        3.73667455e+00, 2.82598376e+00, 1.89704430e+00, 8.71073365e-01,\n",
              "        4.11519498e-01, 2.67917454e-01, 9.73209888e-02, 1.16865123e-02,\n",
              "        1.93658588e-03, 1.92752077e-06, 0.00000000e+00, 0.00000000e+00,\n",
              "        0.00000000e+00, 0.00000000e+00, 0.00000000e+00, 0.00000000e+00,\n",
              "        9.95673417e-06, 6.10002171e-05, 1.55774620e-03, 7.19799176e-02,\n",
              "        1.15869671e-01, 1.70880303e-01, 3.41776520e-01, 4.57262784e-01,\n",
              "        6.48638248e-01, 6.66726053e-01, 6.41919255e-01, 6.05499625e-01,\n",
              "        4.36662614e-01, 3.21706533e-01, 1.94888264e-01, 7.26953298e-02,\n",
              "        2.52307802e-02, 2.42912630e-03, 2.88637690e-02, 4.38178693e-09,\n",
              "        0.00000000e+00, 0.00000000e+00, 0.00000000e+00, 0.00000000e+00],\n",
              "       dtype=float32),\n",
              " array([1.17198604e-36, 1.17198604e-36, 1.17198604e-36, 1.17198604e-36,\n",
              "        1.17198604e-36, 1.17198604e-36, 1.17198604e-36, 1.17198604e-36,\n",
              "        1.17198604e-36, 1.17198604e-36, 1.17198604e-36, 1.17198604e-36,\n",
              "        1.31648548e-07, 2.23048137e-05, 2.18986424e-05, 3.80185092e-08,\n",
              "        1.17198604e-36, 1.17198604e-36, 1.17198604e-36, 1.17198604e-36,\n",
              "        1.17198604e-36, 1.17198604e-36, 1.17198604e-36, 1.17198604e-36,\n",
              "        1.17198604e-36, 1.17198604e-36, 1.17198604e-36, 1.17198604e-36,\n",
              "        1.17198604e-36, 1.17198604e-36, 1.17198604e-36, 1.17198604e-36,\n",
              "        3.41009290e-05, 2.96085229e-04, 2.03796282e-01, 3.44278860e+00,\n",
              "        8.58663464e+00, 1.60986252e+01, 7.16599731e+01, 5.63532219e+01,\n",
              "        7.20816727e+01, 2.97736645e+01, 2.41362095e+01, 2.69379921e+01,\n",
              "        5.27670097e+01, 3.39296303e+01, 1.95476303e+01, 7.47133064e+00,\n",
              "        8.48696423e+00, 1.19204186e-01, 8.37084234e-01, 1.59014606e+00,\n",
              "        1.17198604e-36, 1.17198604e-36, 1.17198604e-36, 1.17198604e-36,\n",
              "        1.17198604e-36, 1.17198604e-36, 1.61884127e-05, 2.54309361e-06,\n",
              "        1.26242591e-02, 9.58847642e-01, 1.70522833e+00, 8.93722630e+00,\n",
              "        4.19883194e+01, 9.97123642e+01, 2.13066483e+02, 3.42174377e+02,\n",
              "        4.04774902e+02, 4.72617065e+02, 5.10557220e+02, 5.30841125e+02,\n",
              "        6.32755127e+02, 5.80719055e+02, 5.40987000e+02, 4.12839050e+02,\n",
              "        1.77868973e+02, 7.61693497e+01, 2.83218517e+01, 7.25074339e+00,\n",
              "        2.56246781e+00, 8.69738817e-01, 1.17198604e-36, 1.17198604e-36,\n",
              "        1.17198604e-36, 1.17198604e-36, 1.14506632e-02, 1.76730612e-03,\n",
              "        1.50053293e-01, 1.36636391e+01, 2.82409172e+01, 7.50630646e+01,\n",
              "        1.91395538e+02, 4.85185333e+02, 7.85870422e+02, 1.19610510e+03,\n",
              "        1.43569312e+03, 1.74239502e+03, 2.14149097e+03, 2.45398413e+03,\n",
              "        2.32219995e+03, 2.09768921e+03, 1.73279053e+03, 1.22594690e+03,\n",
              "        7.21465637e+02, 3.76466583e+02, 1.30597672e+02, 4.45171204e+01,\n",
              "        1.61907215e+01, 3.17842627e+00, 1.04590543e-01, 1.17198604e-36,\n",
              "        1.17198604e-36, 5.20247035e-04, 1.75702184e-01, 2.40046382e-01,\n",
              "        2.81105566e+00, 4.34486389e+01, 1.26705276e+02, 3.83519836e+02,\n",
              "        8.98389709e+02, 1.69615503e+03, 2.63422266e+03, 3.73316260e+03,\n",
              "        4.76478760e+03, 5.88293799e+03, 6.74136328e+03, 7.14841406e+03,\n",
              "        6.95695508e+03, 6.11750000e+03, 5.05263086e+03, 3.89034448e+03,\n",
              "        2.59282178e+03, 1.49836755e+03, 8.31025330e+02, 3.44137299e+02,\n",
              "        1.32774490e+02, 6.00797653e+01, 1.68456383e+01, 6.25216603e-01,\n",
              "        1.17198604e-36, 1.17198604e-36, 1.44073510e+00, 5.85685682e+00,\n",
              "        4.80181503e+01, 2.44273193e+02, 6.55160767e+02, 1.39506335e+03,\n",
              "        2.61547656e+03, 4.08479980e+03, 5.76610889e+03, 7.44968457e+03,\n",
              "        8.98860254e+03, 1.03773672e+04, 1.11798828e+04, 1.14337061e+04,\n",
              "        1.10863857e+04, 1.02642373e+04, 9.05523535e+03, 7.45641797e+03,\n",
              "        5.62656055e+03, 3.53502197e+03, 2.08369263e+03, 1.12842456e+03,\n",
              "        5.44265442e+02, 1.40180176e+02, 2.35891228e+01, 1.36857033e+00,\n",
              "        1.17198604e-36, 1.37906917e-03, 2.58851147e+00, 2.07874889e+01,\n",
              "        2.12396164e+02, 5.55508362e+02, 1.37398669e+03, 2.69976196e+03,\n",
              "        4.56873828e+03, 6.54386670e+03, 8.50900098e+03, 1.00022451e+04,\n",
              "        1.11815576e+04, 1.19968535e+04, 1.22401943e+04, 1.23772373e+04,\n",
              "        1.23166699e+04, 1.20650850e+04, 1.13045283e+04, 1.01159541e+04,\n",
              "        8.26750879e+03, 5.84474658e+03, 3.70368945e+03, 2.12214990e+03,\n",
              "        1.02040265e+03, 3.35691315e+02, 5.12891464e+01, 1.47688103e+00,\n",
              "        3.14100284e-08, 1.01168585e+00, 2.88682899e+01, 1.26149757e+02,\n",
              "        4.13951660e+02, 1.06850317e+03, 2.31476001e+03, 4.17941406e+03,\n",
              "        6.43724219e+03, 8.53190332e+03, 1.00431260e+04, 1.11912627e+04,\n",
              "        1.17593350e+04, 1.18732227e+04, 1.19091064e+04, 1.18043398e+04,\n",
              "        1.18513398e+04, 1.19237148e+04, 1.18804600e+04, 1.12548262e+04,\n",
              "        9.62442285e+03, 7.33939551e+03, 4.86272705e+03, 2.68040503e+03,\n",
              "        1.20702979e+03, 4.28403595e+02, 6.26429329e+01, 5.61934996e+00,\n",
              "        1.05238917e-06, 1.33043556e+01, 1.02411613e+02, 2.99078552e+02,\n",
              "        7.18013245e+02, 1.66254895e+03, 3.13607349e+03, 5.36980908e+03,\n",
              "        7.67224023e+03, 9.81603418e+03, 1.10961270e+04, 1.17305723e+04,\n",
              "        1.20903008e+04, 1.19241367e+04, 1.19075273e+04, 1.18030205e+04,\n",
              "        1.17903984e+04, 1.19394912e+04, 1.19982021e+04, 1.16250225e+04,\n",
              "        1.01976504e+04, 8.08174854e+03, 5.34355176e+03, 2.80659570e+03,\n",
              "        1.20035815e+03, 4.32547485e+02, 7.96417236e+01, 1.41954374e+00,\n",
              "        4.62617993e-01, 1.09153156e+01, 1.28831223e+02, 4.04776703e+02,\n",
              "        8.73152710e+02, 1.77465442e+03, 3.58811230e+03, 6.11317725e+03,\n",
              "        8.63769043e+03, 1.05262139e+04, 1.17018486e+04, 1.20957979e+04,\n",
              "        1.19263643e+04, 1.16164111e+04, 1.14090703e+04, 1.14819619e+04,\n",
              "        1.15271582e+04, 1.18667051e+04, 1.19365293e+04, 1.17222715e+04,\n",
              "        1.03041426e+04, 8.11051660e+03, 5.35247754e+03, 2.67983203e+03,\n",
              "        9.75202759e+02, 2.87766815e+02, 5.33475914e+01, 3.63891840e+00,\n",
              "        2.60776639e+00, 3.94611359e+01, 1.35407883e+02, 3.64040375e+02,\n",
              "        8.33346924e+02, 1.85545715e+03, 3.79505322e+03, 6.28361621e+03,\n",
              "        8.93516797e+03, 1.06866934e+04, 1.17023164e+04, 1.19634961e+04,\n",
              "        1.12776055e+04, 1.04363857e+04, 1.02939258e+04, 1.07382266e+04,\n",
              "        1.11065830e+04, 1.16903936e+04, 1.17536230e+04, 1.14883779e+04,\n",
              "        1.00391426e+04, 7.79962012e+03, 4.92777002e+03, 2.42257153e+03,\n",
              "        7.76424316e+02, 1.51079895e+02, 3.14552670e+01, 1.02921581e+00,\n",
              "        1.05438077e+00, 2.74787731e+01, 1.05510567e+02, 2.65894775e+02,\n",
              "        7.30042603e+02, 1.80154492e+03, 3.79903638e+03, 6.56705811e+03,\n",
              "        9.33479883e+03, 1.09309043e+04, 1.17681465e+04, 1.15209111e+04,\n",
              "        1.02676562e+04, 9.48904395e+03, 1.01700664e+04, 1.09901816e+04,\n",
              "        1.13044990e+04, 1.17039912e+04, 1.18087754e+04, 1.13851289e+04,\n",
              "        9.43047949e+03, 7.01170801e+03, 4.55935059e+03, 2.41713062e+03,\n",
              "        6.81981079e+02, 1.05086647e+02, 1.39927092e+01, 9.54254866e-01,\n",
              "        9.74602699e-01, 1.25853467e+00, 5.21653137e+01, 2.01417511e+02,\n",
              "        6.49132080e+02, 1.80078723e+03, 3.92703198e+03, 7.08891504e+03,\n",
              "        9.87880566e+03, 1.13583691e+04, 1.18221670e+04, 1.12366592e+04,\n",
              "        1.04770391e+04, 1.02885732e+04, 1.15413691e+04, 1.19033994e+04,\n",
              "        1.18100137e+04, 1.19769932e+04, 1.20366338e+04, 1.11475088e+04,\n",
              "        8.66851758e+03, 6.48967725e+03, 4.45278467e+03, 2.56974561e+03,\n",
              "        7.62197021e+02, 8.67952805e+01, 1.67539196e+01, 2.73964200e-02,\n",
              "        8.85401678e-05, 2.41100565e-02, 2.82532845e+01, 1.76297623e+02,\n",
              "        6.46699158e+02, 1.95543213e+03, 4.40597266e+03, 7.71722607e+03,\n",
              "        1.03510469e+04, 1.15834990e+04, 1.17844150e+04, 1.13593477e+04,\n",
              "        1.09563857e+04, 1.13776553e+04, 1.24547979e+04, 1.20571367e+04,\n",
              "        1.17225293e+04, 1.21339180e+04, 1.21507900e+04, 1.07880879e+04,\n",
              "        8.25676855e+03, 6.35069727e+03, 4.52862354e+03, 2.76990698e+03,\n",
              "        9.93765869e+02, 1.44488144e+02, 1.40890846e+01, 7.72037953e-02,\n",
              "        1.03726201e-01, 2.08004215e-03, 6.95342255e+00, 1.09150421e+02,\n",
              "        6.72599426e+02, 2.31320093e+03, 4.97594434e+03, 8.19843164e+03,\n",
              "        1.05625146e+04, 1.16771348e+04, 1.17342725e+04, 1.14866709e+04,\n",
              "        1.13300420e+04, 1.21447578e+04, 1.25133799e+04, 1.16014404e+04,\n",
              "        1.17622559e+04, 1.20986875e+04, 1.20330625e+04, 1.07679307e+04,\n",
              "        8.55966016e+03, 6.67093896e+03, 4.76472607e+03, 2.85840381e+03,\n",
              "        1.20250562e+03, 1.74538345e+02, 8.57742310e+00, 1.11883471e-03,\n",
              "        1.37278112e-02, 8.65962263e-03, 8.25374317e+00, 8.14941406e+01,\n",
              "        6.15579163e+02, 2.70556348e+03, 5.33355518e+03, 8.21153906e+03,\n",
              "        1.02638340e+04, 1.14410801e+04, 1.14770459e+04, 1.14697695e+04,\n",
              "        1.15763799e+04, 1.21707324e+04, 1.21527773e+04, 1.16570479e+04,\n",
              "        1.20689287e+04, 1.22310322e+04, 1.15951055e+04, 1.07945303e+04,\n",
              "        8.91295508e+03, 7.13941064e+03, 4.92199561e+03, 2.73659570e+03,\n",
              "        1.19133667e+03, 1.82662827e+02, 1.81986942e+01, 8.82214785e-01,\n",
              "        8.51275548e-02, 1.05059814e+00, 1.25174561e+01, 9.34143829e+01,\n",
              "        7.66274597e+02, 3.03410400e+03, 5.54446826e+03, 8.13758936e+03,\n",
              "        9.81263184e+03, 1.07369141e+04, 1.09043916e+04, 1.10504766e+04,\n",
              "        1.16339766e+04, 1.21820010e+04, 1.22649736e+04, 1.21559658e+04,\n",
              "        1.21985527e+04, 1.18591768e+04, 1.13595928e+04, 1.07019082e+04,\n",
              "        9.16573730e+03, 7.23225732e+03, 4.78418262e+03, 2.55977148e+03,\n",
              "        1.05113013e+03, 1.95546143e+02, 1.98919411e+01, 1.18705821e+00,\n",
              "        1.17198604e-36, 1.93179045e-02, 1.42442427e+01, 1.58867630e+02,\n",
              "        1.05573242e+03, 3.27173169e+03, 5.73178174e+03, 7.85851709e+03,\n",
              "        9.24862988e+03, 9.94156934e+03, 1.00897266e+04, 1.04987402e+04,\n",
              "        1.11160508e+04, 1.16542676e+04, 1.20823086e+04, 1.20482178e+04,\n",
              "        1.19194141e+04, 1.15250088e+04, 1.12868086e+04, 1.07344590e+04,\n",
              "        9.13663574e+03, 6.91818506e+03, 4.37167432e+03, 2.25791675e+03,\n",
              "        8.99003113e+02, 2.65876129e+02, 5.26561813e+01, 3.19741726e+00,\n",
              "        3.14489512e-06, 2.17602607e-02, 2.67363815e+01, 2.42437042e+02,\n",
              "        1.27442542e+03, 3.66642407e+03, 5.98589502e+03, 7.85007129e+03,\n",
              "        8.95097852e+03, 9.60815332e+03, 1.01765645e+04, 1.04726504e+04,\n",
              "        1.07871670e+04, 1.14103730e+04, 1.19641279e+04, 1.18801670e+04,\n",
              "        1.18550820e+04, 1.16901475e+04, 1.15550029e+04, 1.07809053e+04,\n",
              "        8.87529102e+03, 6.48482520e+03, 4.04732056e+03, 2.05254932e+03,\n",
              "        8.26327087e+02, 2.54476746e+02, 5.18418579e+01, 3.28622413e+00,\n",
              "        3.97122931e-05, 3.12876254e-02, 4.02519760e+01, 3.37465912e+02,\n",
              "        1.48077209e+03, 3.89476367e+03, 6.41416650e+03, 8.16823535e+03,\n",
              "        9.39856348e+03, 1.03120898e+04, 1.08523066e+04, 1.10064883e+04,\n",
              "        1.12661406e+04, 1.17646230e+04, 1.19801318e+04, 1.18105186e+04,\n",
              "        1.17861309e+04, 1.19783604e+04, 1.16240244e+04, 1.01801992e+04,\n",
              "        8.08504443e+03, 5.78368262e+03, 3.47524731e+03, 1.71020056e+03,\n",
              "        7.09603210e+02, 1.87956406e+02, 2.95488605e+01, 6.88053727e-01,\n",
              "        1.17198604e-36, 2.16888928e+00, 2.26747665e+01, 3.76911255e+02,\n",
              "        1.45568018e+03, 3.57775977e+03, 6.19461182e+03, 8.47917871e+03,\n",
              "        1.00735557e+04, 1.09572275e+04, 1.15737197e+04, 1.18222344e+04,\n",
              "        1.20720469e+04, 1.19840176e+04, 1.20581006e+04, 1.19893057e+04,\n",
              "        1.19630996e+04, 1.18531289e+04, 1.09817549e+04, 9.08389648e+03,\n",
              "        6.73361621e+03, 4.57511621e+03, 2.63173535e+03, 1.30327454e+03,\n",
              "        5.57968994e+02, 1.10868202e+02, 7.02457952e+00, 7.99130052e-02,\n",
              "        4.80962797e-07, 1.17006576e+00, 2.73313370e+01, 2.99425873e+02,\n",
              "        1.12920581e+03, 2.86884668e+03, 5.48649512e+03, 8.14601758e+03,\n",
              "        1.02566172e+04, 1.14378516e+04, 1.19083193e+04, 1.21249717e+04,\n",
              "        1.20305791e+04, 1.18464492e+04, 1.19580996e+04, 1.19650615e+04,\n",
              "        1.18814668e+04, 1.11762012e+04, 9.59831250e+03, 7.29595215e+03,\n",
              "        4.98680566e+03, 3.02590942e+03, 1.62047803e+03, 8.22793884e+02,\n",
              "        3.77297974e+02, 7.30289078e+01, 8.89872074e+00, 6.44269458e-05,\n",
              "        4.51373296e-07, 3.10374028e-03, 1.57953787e+01, 1.56942230e+02,\n",
              "        6.55685303e+02, 1.73103809e+03, 3.88276514e+03, 6.68165234e+03,\n",
              "        9.39257520e+03, 1.11680312e+04, 1.20199941e+04, 1.22210859e+04,\n",
              "        1.21404521e+04, 1.21594131e+04, 1.21520986e+04, 1.18027656e+04,\n",
              "        1.10456553e+04, 9.56725195e+03, 7.39356055e+03, 4.98296191e+03,\n",
              "        2.98643896e+03, 1.62317786e+03, 8.98722656e+02, 4.50387970e+02,\n",
              "        1.56594208e+02, 2.17164135e+01, 4.93179321e+00, 2.19585607e-04,\n",
              "        1.17198604e-36, 1.17198604e-36, 4.90302849e+00, 6.12053108e+01,\n",
              "        3.23180786e+02, 8.32702332e+02, 2.01831409e+03, 4.05877490e+03,\n",
              "        6.56209521e+03, 9.07625781e+03, 1.06212520e+04, 1.15080664e+04,\n",
              "        1.17948330e+04, 1.15813252e+04, 1.09731367e+04, 1.01246836e+04,\n",
              "        8.58941406e+03, 6.67773389e+03, 4.59596973e+03, 2.79161304e+03,\n",
              "        1.49222229e+03, 7.67847900e+02, 4.42404144e+02, 2.19981277e+02,\n",
              "        5.89176369e+01, 3.32285452e+00, 1.07184693e-01, 1.17198604e-36,\n",
              "        1.17198604e-36, 1.17198604e-36, 1.94628978e+00, 1.09615297e+01,\n",
              "        9.16512222e+01, 2.88669952e+02, 7.28098633e+02, 1.59796838e+03,\n",
              "        2.98442798e+03, 4.65129932e+03, 6.26180615e+03, 7.44831201e+03,\n",
              "        7.86956787e+03, 7.80965869e+03, 7.09092432e+03, 5.96223535e+03,\n",
              "        4.68811084e+03, 3.47382446e+03, 2.24877100e+03, 1.40300793e+03,\n",
              "        6.67524719e+02, 3.56088135e+02, 1.97790405e+02, 9.21625366e+01,\n",
              "        1.25392761e+01, 7.85453856e-01, 3.61096209e-05, 1.17198604e-36,\n",
              "        1.17198604e-36, 1.17198604e-36, 4.94126864e-02, 8.07651997e-01,\n",
              "        2.62938614e+01, 6.16011581e+01, 2.29730392e+02, 5.91460754e+02,\n",
              "        1.12514856e+03, 1.84113538e+03, 2.65031396e+03, 3.20358740e+03,\n",
              "        3.43409277e+03, 3.43398877e+03, 2.85985889e+03, 2.47063623e+03,\n",
              "        2.06772852e+03, 1.54211499e+03, 1.07547119e+03, 6.19035339e+02,\n",
              "        2.88282227e+02, 1.26431000e+02, 5.34431725e+01, 2.21444607e+01,\n",
              "        6.71181583e+00, 1.11230787e-04, 4.06525032e-05, 1.17198604e-36,\n",
              "        1.17198604e-36, 1.17198604e-36, 1.17198604e-36, 4.07882370e-02,\n",
              "        4.71642303e+00, 3.06634827e+01, 1.37644348e+02, 2.15959381e+02,\n",
              "        3.87645203e+02, 5.61320984e+02, 8.04956726e+02, 1.05480688e+03,\n",
              "        1.23157312e+03, 1.25437244e+03, 1.02221149e+03, 8.50409851e+02,\n",
              "        7.09165039e+02, 5.12090820e+02, 3.56559296e+02, 1.62382675e+02,\n",
              "        7.93679276e+01, 5.11218872e+01, 1.52266874e+01, 1.11782670e+00,\n",
              "        5.02569824e-02, 1.10170062e-04, 1.17198604e-36, 1.17198604e-36,\n",
              "        1.17198604e-36, 1.17198604e-36, 1.17198604e-36, 1.17198604e-36,\n",
              "        6.95269322e-04, 1.02356523e-02, 8.36664885e-02, 1.38128471e+01,\n",
              "        1.79137783e+01, 3.23403664e+01, 5.63783112e+01, 8.47037277e+01,\n",
              "        1.20754684e+02, 1.11041321e+02, 1.15035904e+02, 1.17095810e+02,\n",
              "        6.95258331e+01, 5.91797485e+01, 3.40098076e+01, 1.37559996e+01,\n",
              "        1.63548267e+00, 7.58623555e-02, 4.30182219e+00, 2.46886231e-07,\n",
              "        1.17198604e-36, 1.17198604e-36, 1.17198604e-36, 1.17198604e-36],\n",
              "       dtype=float32),\n",
              " array([[-0.06082171,  0.04245815, -0.07672106, ..., -0.01033245,\n",
              "          0.05278137,  0.05458289],\n",
              "        [-0.04965934,  0.00038039,  0.06430294, ...,  0.07323194,\n",
              "         -0.0559233 , -0.02927187],\n",
              "        [-0.02442472,  0.02090114, -0.01131559, ..., -0.04725811,\n",
              "          0.0700281 , -0.0262055 ],\n",
              "        ...,\n",
              "        [-0.01633489,  0.00177633, -0.00407391, ..., -0.00329664,\n",
              "          0.07706349,  0.06709281],\n",
              "        [ 0.03175109,  0.07562668, -0.04524447, ..., -0.05417083,\n",
              "         -0.03097637,  0.00155633],\n",
              "        [ 0.00838048, -0.0612199 ,  0.00980403, ...,  0.03881804,\n",
              "          0.02719017, -0.06337523]], dtype=float32),\n",
              " array([-0.04011999, -0.03407019, -0.07085367, -0.04536445, -0.03395842,\n",
              "        -0.02442503, -0.06132217, -0.07093704, -0.04293155, -0.10158338,\n",
              "        -0.01282134, -0.01318347, -0.07048892, -0.04628664, -0.04809353,\n",
              "        -0.01352698, -0.03215821,  0.00702924, -0.03109762, -0.01598007,\n",
              "        -0.04297673, -0.07712387, -0.03345665, -0.00788379, -0.01759196,\n",
              "        -0.01958044, -0.05327611, -0.0299092 , -0.06664203, -0.00846648,\n",
              "        -0.01947432, -0.05484004, -0.04489814, -0.03050074, -0.04823576,\n",
              "        -0.05852572, -0.04446038, -0.02298124, -0.06038754, -0.07915589,\n",
              "        -0.0400908 , -0.02790992, -0.05737835, -0.05918644, -0.01948699,\n",
              "        -0.02904641, -0.04813207, -0.04665631, -0.05964294, -0.06041171,\n",
              "        -0.03117254, -0.0381616 , -0.05469237, -0.02834524, -0.03272085,\n",
              "        -0.0657395 , -0.047878  , -0.0199646 , -0.04215233, -0.0685585 ,\n",
              "        -0.04696988, -0.02684939, -0.06088181, -0.05790221, -0.02503635,\n",
              "        -0.02604503, -0.06970673, -0.02727083, -0.08002616,  0.00025617,\n",
              "        -0.02484313, -0.04154353, -0.02058176, -0.04882315, -0.07414857,\n",
              "        -0.02423839, -0.06180395, -0.02001861, -0.01738619, -0.02070446,\n",
              "        -0.05050578, -0.01108113, -0.0398206 , -0.03473046, -0.07167351,\n",
              "        -0.07354893, -0.06806718, -0.05935479, -0.03983139, -0.02014288,\n",
              "        -0.06726665, -0.03796773, -0.04896034, -0.03489011,  0.00500525,\n",
              "        -0.05380724, -0.03431056, -0.05057263, -0.0460604 , -0.05546814,\n",
              "        -0.01011332, -0.01352041, -0.07376362, -0.03904111, -0.0070136 ,\n",
              "        -0.03184734, -0.03701995, -0.02497452, -0.03368859, -0.07516146,\n",
              "        -0.03664707, -0.05427619, -0.03409366, -0.04927243, -0.03395362,\n",
              "        -0.01673716, -0.04493165, -0.00291892, -0.05196973, -0.0274325 ,\n",
              "        -0.05777982, -0.04894882, -0.03357366, -0.04133359, -0.02755279,\n",
              "        -0.03889058, -0.0226074 , -0.03372803, -0.03446108, -0.12090417,\n",
              "        -0.0152208 , -0.07232619, -0.037492  , -0.05361896, -0.0297445 ,\n",
              "        -0.10909795, -0.01738767, -0.0508155 , -0.04478338, -0.05003728,\n",
              "        -0.03564551, -0.02407545, -0.06634621, -0.04514582, -0.02112683,\n",
              "        -0.05057401, -0.02916997, -0.04955125, -0.09675583, -0.04908981,\n",
              "        -0.04530381, -0.06291807, -0.03801582, -0.05975911, -0.07448965,\n",
              "        -0.0213396 , -0.06284329, -0.06315964, -0.01205393, -0.04715043,\n",
              "        -0.03402187, -0.07333183, -0.01987498, -0.07711721, -0.03155975,\n",
              "        -0.01132708, -0.01774894, -0.03107062, -0.00749304, -0.02216707,\n",
              "        -0.03162608, -0.0158331 , -0.0819115 , -0.02363783, -0.04010529,\n",
              "        -0.01218539, -0.00344895, -0.04413154, -0.03829184, -0.05731485,\n",
              "        -0.02288356, -0.08637365, -0.00420591, -0.02463959, -0.10418915,\n",
              "        -0.06439813, -0.03764911, -0.05268489,  0.01234806, -0.11443599,\n",
              "        -0.05974395, -0.05023767, -0.02133429, -0.01475164, -0.03730517,\n",
              "        -0.0035781 , -0.03446939, -0.05608368,  0.0001705 , -0.02157314],\n",
              "       dtype=float32),\n",
              " array([[ 0.01092792, -0.10399537,  0.0647064 , ..., -0.13869672,\n",
              "          0.0030006 , -0.1500804 ],\n",
              "        [-0.10594884, -0.08133895, -0.08938725, ...,  0.05271832,\n",
              "         -0.12327392, -0.02687033],\n",
              "        [ 0.01631374,  0.03612147,  0.01158341, ..., -0.13498108,\n",
              "          0.11086585, -0.17648497],\n",
              "        ...,\n",
              "        [-0.15992461, -0.11146971,  0.08864208, ...,  0.07880832,\n",
              "          0.0650975 , -0.0298954 ],\n",
              "        [-0.00871362, -0.11964183, -0.1454454 , ...,  0.01129028,\n",
              "          0.04261211,  0.07175332],\n",
              "        [-0.01014183,  0.03832975, -0.04961882, ..., -0.01547664,\n",
              "          0.08436835,  0.01875452]], dtype=float32),\n",
              " array([-2.43196674e-02,  1.33204414e-02, -3.56889814e-02, -7.69616896e-03,\n",
              "         1.18597969e-02, -3.18997949e-02, -1.55023420e-02,  1.68636311e-02,\n",
              "        -1.01786675e-02, -9.29747149e-03, -4.01758552e-02, -7.46455975e-03,\n",
              "        -2.08440907e-02, -1.32865775e-02, -1.99680496e-02, -8.11930560e-03,\n",
              "         1.66610926e-02, -1.88979916e-02,  1.20651033e-02,  2.39508436e-03,\n",
              "        -1.49638839e-02,  1.10773370e-02, -2.67230794e-02,  3.90757248e-03,\n",
              "        -3.10285483e-02, -2.87009235e-02, -5.54147214e-02, -7.10994983e-03,\n",
              "         2.83821067e-03, -1.25044892e-02, -2.38441676e-02, -2.33813319e-02,\n",
              "        -6.13717251e-02, -2.42883209e-02, -3.10192276e-02, -1.84005369e-02,\n",
              "        -2.66310107e-02, -8.74619372e-03, -2.65550297e-02, -3.33688483e-02,\n",
              "         1.19197986e-03, -4.94816229e-02, -2.01448868e-03,  2.37383172e-02,\n",
              "        -1.26178982e-02, -1.52535103e-02,  6.88237138e-03, -1.99624430e-02,\n",
              "        -5.43728005e-03, -4.09286171e-02,  2.70877853e-02, -3.76870111e-03,\n",
              "         1.13382284e-02,  1.36447037e-02,  2.72225384e-02, -3.98223242e-03,\n",
              "        -5.33591490e-03, -1.91087127e-02, -4.29390520e-02, -2.09672246e-02,\n",
              "        -7.01608136e-03, -2.38090307e-02, -8.30016378e-03, -2.10974086e-02,\n",
              "        -5.96381687e-02, -3.90567556e-02,  2.52970364e-02, -2.99049504e-02,\n",
              "         1.57197975e-02,  2.28428631e-03, -1.81395480e-05,  1.05504030e-02,\n",
              "        -1.47792825e-03, -3.61734652e-03, -1.89138837e-02, -3.13235931e-02,\n",
              "        -7.96728767e-03, -1.49005912e-02, -3.11504453e-02,  2.15732865e-02,\n",
              "        -1.69672947e-02, -2.23027375e-02,  4.68814885e-03, -1.17216250e-02,\n",
              "        -6.70302752e-03, -1.54341143e-02, -3.95152606e-02, -4.71901372e-02,\n",
              "        -3.02427332e-03, -2.24957895e-03, -2.51329299e-02,  1.60302874e-02,\n",
              "         1.71847977e-02, -1.64749157e-02, -1.73513102e-03, -3.64237912e-02,\n",
              "         3.12245153e-02, -3.78517550e-03, -1.43092556e-03, -2.26419028e-02],\n",
              "       dtype=float32),\n",
              " array([[-0.07148406, -0.05460246,  0.05491086, ..., -0.17554069,\n",
              "          0.13543709, -0.18810995],\n",
              "        [ 0.13147561, -0.00317558, -0.05784237, ..., -0.05602704,\n",
              "          0.1794811 ,  0.14181255],\n",
              "        [ 0.13042304, -0.00905721,  0.04307456, ..., -0.10465068,\n",
              "         -0.06312076,  0.06338993],\n",
              "        ...,\n",
              "        [ 0.01252757, -0.04887494, -0.03836393, ..., -0.12235907,\n",
              "          0.04504432, -0.08021805],\n",
              "        [ 0.10146897, -0.14008135, -0.13530363, ..., -0.06345487,\n",
              "          0.03965469,  0.06886141],\n",
              "        [ 0.13757648,  0.06177911, -0.00554504, ..., -0.17244448,\n",
              "          0.19451515,  0.01907969]], dtype=float32),\n",
              " array([ 0.01402022, -0.04346916, -0.05262511, -0.01824431, -0.00790261,\n",
              "         0.09622942, -0.00272993,  0.0095638 ,  0.01447421, -0.01160874,\n",
              "        -0.01898838, -0.02249761,  0.01426377,  0.05372977,  0.02850069,\n",
              "        -0.0108766 ,  0.02739795, -0.0297786 , -0.0247559 ,  0.00997821,\n",
              "        -0.03525458,  0.11239897,  0.00378234,  0.11764153,  0.00286897,\n",
              "         0.09865355,  0.09009048, -0.03331295,  0.08825415, -0.05448309,\n",
              "        -0.01487052,  0.00513053, -0.01138973,  0.02759001, -0.00339261,\n",
              "         0.10780369,  0.11134227, -0.01571632, -0.01900979,  0.00086956,\n",
              "         0.01598188,  0.01091025,  0.01130625,  0.05929245, -0.02400159,\n",
              "        -0.0463718 ,  0.17594633,  0.06334479, -0.02896837, -0.10525369,\n",
              "         0.01672802,  0.02232531,  0.10203236, -0.02673487, -0.01169899,\n",
              "        -0.02592491, -0.0155118 , -0.01713143,  0.01407419, -0.02251441],\n",
              "       dtype=float32),\n",
              " array([[ 0.20185134,  0.15942816, -0.16838889, ...,  0.19120559,\n",
              "         -0.2466535 ,  0.0637869 ],\n",
              "        [-0.01900453,  0.18517473, -0.14743835, ...,  0.1808004 ,\n",
              "         -0.24267462, -0.01785289],\n",
              "        [-0.06861258,  0.05222899,  0.0486655 , ..., -0.0667365 ,\n",
              "          0.17266385,  0.06396216],\n",
              "        ...,\n",
              "        [ 0.20713471,  0.10303243,  0.14762051, ...,  0.18063797,\n",
              "         -0.00729461, -0.18731187],\n",
              "        [ 0.10020138, -0.21515425,  0.14600272, ...,  0.13702437,\n",
              "          0.11606462, -0.10697535],\n",
              "        [-0.04638228,  0.0175207 ,  0.15805565, ...,  0.26866964,\n",
              "         -0.17305568,  0.03836264]], dtype=float32),\n",
              " array([-0.02349028,  0.03687591,  0.05462918, -0.04811049,  0.0681443 ,\n",
              "         0.05889387,  0.08306403,  0.01135869,  0.01652608, -0.00977051,\n",
              "         0.03584226,  0.05791754, -0.03407301,  0.02863181,  0.15671408,\n",
              "         0.17380325, -0.08486071,  0.04159909,  0.00158973,  0.00773669,\n",
              "         0.06636286,  0.00200458,  0.05560011, -0.02486719, -0.07419983,\n",
              "         0.09128381,  0.01209476,  0.13734862, -0.00837814,  0.04920154],\n",
              "       dtype=float32),\n",
              " array([[ 4.53988492e-01,  2.68129557e-01, -5.20898551e-02,\n",
              "          3.13695073e-01, -1.25069767e-01,  1.60851315e-01,\n",
              "         -1.52006954e-01,  3.08671564e-01, -3.46442491e-01,\n",
              "          6.13431446e-02],\n",
              "        [ 1.64069325e-01,  1.12391494e-01,  1.16605394e-01,\n",
              "          1.85050830e-01, -2.71903187e-01,  1.72363386e-01,\n",
              "         -1.10736616e-01, -2.33109519e-01,  2.06677496e-01,\n",
              "         -1.22503765e-01],\n",
              "        [ 6.34944588e-02,  1.26366258e-01,  1.00748122e-01,\n",
              "          8.97251219e-02,  3.14849257e-01,  2.16774449e-01,\n",
              "         -2.49253020e-01,  3.89016390e-01, -6.06702417e-02,\n",
              "          3.90783578e-01],\n",
              "        [-3.24924052e-01,  6.01644861e-03,  2.60560870e-01,\n",
              "          2.41138950e-01, -1.28926918e-01,  1.71089936e-02,\n",
              "         -3.68236452e-01,  2.48437583e-01, -5.65251056e-03,\n",
              "         -8.70974660e-02],\n",
              "        [ 2.62986094e-01, -2.87535846e-01,  1.13384537e-01,\n",
              "         -3.20015103e-02, -2.73591161e-01,  1.99727193e-01,\n",
              "         -9.90657881e-02,  2.17660069e-01,  2.86229163e-01,\n",
              "          1.48462936e-01],\n",
              "        [-2.78006762e-01,  2.67760545e-01,  1.82210281e-01,\n",
              "          2.11822897e-01, -1.24405853e-01, -1.30972862e-01,\n",
              "         -1.43605828e-01,  1.02969423e-01,  2.50902444e-01,\n",
              "         -2.36599714e-01],\n",
              "        [-1.10582910e-01, -1.26405567e-01,  1.00986823e-01,\n",
              "         -9.86611322e-02,  2.76897907e-01, -2.32020408e-01,\n",
              "         -3.28134209e-01,  2.69000769e-01,  8.71497914e-02,\n",
              "          3.17403436e-01],\n",
              "        [ 1.53057456e-01, -5.31225540e-02, -2.52383351e-01,\n",
              "          6.69226721e-02, -3.18843275e-01,  1.72915056e-01,\n",
              "         -2.40132436e-02,  2.75431108e-02, -1.48135334e-01,\n",
              "         -1.26402661e-01],\n",
              "        [-1.24228932e-01,  2.13251486e-01, -2.18949601e-01,\n",
              "         -2.74850458e-01,  1.12085357e-01, -1.99939862e-01,\n",
              "          2.10175171e-01,  1.36250049e-01, -1.90347861e-02,\n",
              "         -1.62348658e-01],\n",
              "        [ 1.03701703e-01,  5.24143755e-01,  2.57081330e-01,\n",
              "          9.25824270e-02,  1.02044486e-01,  2.03717783e-01,\n",
              "         -8.87809135e-03,  1.00450180e-02,  1.28402740e-01,\n",
              "         -5.34496009e-02],\n",
              "        [ 9.15218517e-02, -3.61267477e-01, -1.28932029e-01,\n",
              "          1.20556086e-01, -2.23811120e-01,  1.53676614e-01,\n",
              "          1.26742154e-01, -3.86379451e-01, -5.61803915e-02,\n",
              "         -5.60008436e-02],\n",
              "        [-3.16679090e-01, -3.18312168e-01,  2.41567176e-02,\n",
              "          2.68915594e-02, -1.63227782e-01,  3.15683894e-02,\n",
              "          1.57290343e-02, -3.47945064e-01,  9.21720788e-02,\n",
              "         -1.37187272e-01],\n",
              "        [ 5.31662628e-03,  6.22577630e-02, -2.96244353e-01,\n",
              "          1.32138029e-01, -1.94045641e-02, -2.77599514e-01,\n",
              "          2.07559332e-01,  2.52962947e-01,  2.61773080e-01,\n",
              "          5.49319610e-02],\n",
              "        [ 1.71077371e-01,  1.70509499e-02, -9.61737558e-02,\n",
              "         -6.70523793e-02,  2.17013955e-01, -2.37012029e-01,\n",
              "         -1.43022686e-01,  2.36509249e-01, -3.04264992e-01,\n",
              "          2.19301403e-01],\n",
              "        [-3.24180752e-01,  4.13196146e-01,  4.79242690e-02,\n",
              "         -1.82806283e-01,  3.29050750e-01, -2.58320328e-02,\n",
              "          1.14519194e-01, -1.12343105e-02,  3.71177375e-01,\n",
              "          3.84602845e-02],\n",
              "        [-2.57273674e-01, -2.33709618e-01, -2.56082833e-01,\n",
              "          1.46156728e-01,  4.54798117e-02,  1.40612841e-01,\n",
              "         -2.26763368e-01, -2.62974650e-01,  1.82098433e-01,\n",
              "          1.69582918e-01],\n",
              "        [ 2.44566277e-01, -2.30461702e-01,  2.17888340e-01,\n",
              "         -2.04412248e-02, -1.93319857e-01, -8.30479115e-02,\n",
              "         -4.02221419e-02,  2.91360736e-01, -9.40716937e-02,\n",
              "          5.51849939e-02],\n",
              "        [ 1.87609836e-01, -3.91483039e-01,  9.32827145e-02,\n",
              "         -1.35171145e-01,  1.97571754e-01,  2.14422226e-01,\n",
              "          2.67630994e-01, -1.98505729e-01,  1.46780685e-01,\n",
              "         -1.84765279e-01],\n",
              "        [-1.63857883e-03,  2.39161905e-02, -7.07879066e-02,\n",
              "          3.01285297e-01, -5.70873357e-03,  2.83539295e-01,\n",
              "         -9.38359797e-02,  2.35482261e-01,  4.30738740e-02,\n",
              "          3.12765509e-01],\n",
              "        [ 3.10171783e-01, -2.44410224e-02,  1.74873173e-01,\n",
              "         -1.98911697e-01,  3.05796981e-01,  2.77550459e-01,\n",
              "          3.73113006e-01, -3.61993574e-02, -4.98630032e-02,\n",
              "         -1.62475649e-02],\n",
              "        [-3.45235229e-01, -2.55957305e-01, -3.27343345e-01,\n",
              "         -6.49317950e-02, -1.26143098e-02,  2.85514414e-01,\n",
              "          7.86201283e-03, -3.84770393e-01, -1.39465377e-01,\n",
              "         -1.43497005e-01],\n",
              "        [ 2.26634040e-01, -2.64924616e-01,  1.60852179e-01,\n",
              "          4.63040695e-02,  2.17930481e-01, -7.72795901e-02,\n",
              "         -1.94007650e-01, -1.64497390e-01, -7.36787170e-02,\n",
              "         -3.02071154e-01],\n",
              "        [-1.37860328e-01, -3.30899537e-01,  1.93439439e-01,\n",
              "         -2.10351169e-01,  1.22661635e-01, -1.77833945e-01,\n",
              "          2.29718193e-01, -2.33265415e-01,  4.91594151e-02,\n",
              "         -3.03068519e-01],\n",
              "        [-2.36919403e-01,  1.70563951e-01,  1.49574026e-01,\n",
              "          1.03795648e-01, -3.73261243e-01, -8.06077123e-02,\n",
              "          2.45059691e-02,  4.87667322e-02, -2.74799485e-02,\n",
              "         -3.05022389e-01],\n",
              "        [ 2.72411913e-01, -7.38486573e-02,  3.04106504e-01,\n",
              "          2.67022818e-01, -2.58348742e-03,  1.02562852e-01,\n",
              "         -4.70317155e-02,  2.61552304e-01, -1.08670175e-01,\n",
              "         -6.45747632e-02],\n",
              "        [-3.58569510e-02,  3.81259590e-01,  1.14017151e-01,\n",
              "         -1.03459500e-01,  3.83359849e-01,  4.70272787e-02,\n",
              "          3.88015240e-01,  8.62246677e-02, -1.16690220e-02,\n",
              "          2.54270047e-01],\n",
              "        [ 1.86551839e-01,  1.02620654e-01,  1.40296951e-01,\n",
              "         -1.37339979e-01, -1.50099859e-01, -1.60613507e-01,\n",
              "          2.18222558e-01, -7.82288164e-02, -1.74717814e-01,\n",
              "         -2.40273904e-02],\n",
              "        [ 4.01256233e-02, -3.34676415e-01, -5.93145713e-02,\n",
              "          3.14347744e-02,  4.73051012e-01,  1.65683001e-01,\n",
              "          2.36692838e-04,  2.26289868e-01,  3.93181473e-01,\n",
              "          5.03057063e-01],\n",
              "        [-1.46557644e-01,  2.43429780e-01,  2.35064879e-01,\n",
              "          1.98628783e-01, -3.94117564e-01,  7.97620788e-02,\n",
              "          6.30303286e-03,  2.33284995e-01,  2.37233430e-01,\n",
              "          1.36012761e-02],\n",
              "        [-4.24548686e-01, -2.42665902e-01, -1.50214970e-01,\n",
              "          1.19870238e-01,  1.28601581e-01, -9.31065530e-02,\n",
              "         -2.84305155e-01,  1.35810718e-01, -2.49109462e-01,\n",
              "          1.45857602e-01]], dtype=float32),\n",
              " array([-0.24388215,  0.18772645, -0.27724114, -0.17446688,  0.01065394,\n",
              "         0.0684944 , -0.03405537, -0.40325853,  0.36701003,  0.4990177 ],\n",
              "       dtype=float32)]"
            ]
          },
          "metadata": {
            "tags": []
          },
          "execution_count": 19
        }
      ]
    },
    {
      "cell_type": "markdown",
      "metadata": {
        "id": "eIH6j76HGoMT",
        "colab_type": "text"
      },
      "source": [
        "#Save the model"
      ]
    },
    {
      "cell_type": "code",
      "metadata": {
        "id": "tV_eDIEHExkg",
        "colab_type": "code",
        "colab": {}
      },
      "source": [
        "model.save('mnist_dnn_v2.h5')"
      ],
      "execution_count": 0,
      "outputs": []
    },
    {
      "cell_type": "code",
      "metadata": {
        "id": "I3aeoPu7IfF8",
        "colab_type": "code",
        "colab": {}
      },
      "source": [
        "from google.colab import files\n",
        "files.download('mnist_dnn_v2.h5')"
      ],
      "execution_count": 0,
      "outputs": []
    },
    {
      "cell_type": "code",
      "metadata": {
        "id": "cXcDLBzCIn1L",
        "colab_type": "code",
        "outputId": "44791e48-6520-4e07-ce0f-07e5e299b2ed",
        "colab": {
          "base_uri": "https://localhost:8080/",
          "height": 85
        }
      },
      "source": [
        "!ls -l"
      ],
      "execution_count": 25,
      "outputs": [
        {
          "output_type": "stream",
          "text": [
            "total 1540\n",
            "-rw-r--r-- 1 root root 785624 Apr 16 16:57 mnist_dnn_v1.h5\n",
            "-rw-r--r-- 1 root root 785624 Apr 16 16:58 mnist_dnn_v2.h5\n",
            "drwxr-xr-x 1 root root   4096 Apr  3 16:24 sample_data\n"
          ],
          "name": "stdout"
        }
      ]
    }
  ]
}