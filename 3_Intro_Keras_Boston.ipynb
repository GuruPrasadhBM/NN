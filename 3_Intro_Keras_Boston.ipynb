{
  "nbformat": 4,
  "nbformat_minor": 0,
  "metadata": {
    "colab": {
      "name": "3_Intro_Keras_Boston.ipynb",
      "provenance": []
    },
    "kernelspec": {
      "name": "python3",
      "display_name": "Python 3"
    }
  },
  "cells": [
    {
      "cell_type": "markdown",
      "metadata": {
        "id": "FrDuyWuWlG-k",
        "colab_type": "text"
      },
      "source": [
        "Load Tensorflow\n"
      ]
    },
    {
      "cell_type": "code",
      "metadata": {
        "id": "oK1dzmJIlIg2",
        "colab_type": "code",
        "colab": {}
      },
      "source": [
        "import tensorflow as tf\n",
        "from sklearn.preprocessing import Normalizer"
      ],
      "execution_count": 0,
      "outputs": []
    },
    {
      "cell_type": "markdown",
      "metadata": {
        "id": "e8Zu8WSuot3I",
        "colab_type": "text"
      },
      "source": [
        "# Collect Data"
      ]
    },
    {
      "cell_type": "code",
      "metadata": {
        "id": "ZyyZG_ejoxE8",
        "colab_type": "code",
        "colab": {}
      },
      "source": [
        "(train_x,train_y),(_,_) = tf.keras.datasets.boston_housing.load_data(test_split=0)"
      ],
      "execution_count": 0,
      "outputs": []
    },
    {
      "cell_type": "code",
      "metadata": {
        "id": "9Relb166pK4f",
        "colab_type": "code",
        "colab": {}
      },
      "source": [
        "train_x = train_x.astype('float32')\n",
        "train_y=train_y.astype('float32')"
      ],
      "execution_count": 0,
      "outputs": []
    },
    {
      "cell_type": "code",
      "metadata": {
        "id": "xhk3i9P4poFh",
        "colab_type": "code",
        "colab": {}
      },
      "source": [
        "transformer = Normalizer()\n",
        "train_x = transformer.fit_transform(train_x)"
      ],
      "execution_count": 0,
      "outputs": []
    },
    {
      "cell_type": "markdown",
      "metadata": {
        "id": "ZMA371Pjp6pw",
        "colab_type": "text"
      },
      "source": [
        "# Building the Graph in Keras"
      ]
    },
    {
      "cell_type": "code",
      "metadata": {
        "id": "HMTvZifwp9lK",
        "colab_type": "code",
        "colab": {}
      },
      "source": [
        "#Initialize the Sequential model\n",
        "#Why sequential. At any point in the graph, there will be only 1 input and 1 output\n",
        "model = tf.keras.Sequential()\n",
        "\n",
        "#Add Dense layer for prediction - keras declares weights and bias automatically\n",
        "## Initializing Ws and Prediction functions\n",
        "model.add(tf.keras.layers.Dense(1, input_shape=(13,)))\n",
        "\n",
        "#Compile the model- add Loss and Gradient Descent optimizer\n",
        "## we are creating Loss function and Gradient Descent optimizer here\n",
        "## Learning rate is 0.01 in case of Keras\n",
        "model.compile(optimizer = 'sgd', loss = 'mse')"
      ],
      "execution_count": 0,
      "outputs": []
    },
    {
      "cell_type": "markdown",
      "metadata": {
        "id": "sm5lP5uwrEBB",
        "colab_type": "text"
      },
      "source": [
        "# Execute the Graph"
      ]
    },
    {
      "cell_type": "code",
      "metadata": {
        "id": "liIpAy_6rHKC",
        "colab_type": "code",
        "colab": {
          "base_uri": "https://localhost:8080/",
          "height": 1000
        },
        "outputId": "8e412e77-30a0-482b-d73a-9f8f356e0626"
      },
      "source": [
        "model.fit(train_x, train_y, epochs = 100)"
      ],
      "execution_count": 12,
      "outputs": [
        {
          "output_type": "stream",
          "text": [
            "Epoch 1/100\n",
            "16/16 [==============================] - 0s 1ms/step - loss: 382.1476\n",
            "Epoch 2/100\n",
            "16/16 [==============================] - 0s 959us/step - loss: 167.6856\n",
            "Epoch 3/100\n",
            "16/16 [==============================] - 0s 1000us/step - loss: 106.1495\n",
            "Epoch 4/100\n",
            "16/16 [==============================] - 0s 977us/step - loss: 87.7239\n",
            "Epoch 5/100\n",
            "16/16 [==============================] - 0s 1ms/step - loss: 81.6332\n",
            "Epoch 6/100\n",
            "16/16 [==============================] - 0s 986us/step - loss: 80.2144\n",
            "Epoch 7/100\n",
            "16/16 [==============================] - 0s 1ms/step - loss: 79.0806\n",
            "Epoch 8/100\n",
            "16/16 [==============================] - 0s 1ms/step - loss: 78.2948\n",
            "Epoch 9/100\n",
            "16/16 [==============================] - 0s 948us/step - loss: 77.3156\n",
            "Epoch 10/100\n",
            "16/16 [==============================] - 0s 1ms/step - loss: 76.9478\n",
            "Epoch 11/100\n",
            "16/16 [==============================] - 0s 1ms/step - loss: 76.1754\n",
            "Epoch 12/100\n",
            "16/16 [==============================] - 0s 1ms/step - loss: 76.4016\n",
            "Epoch 13/100\n",
            "16/16 [==============================] - 0s 1ms/step - loss: 76.2875\n",
            "Epoch 14/100\n",
            "16/16 [==============================] - 0s 1ms/step - loss: 75.4208\n",
            "Epoch 15/100\n",
            "16/16 [==============================] - 0s 1ms/step - loss: 74.5378\n",
            "Epoch 16/100\n",
            "16/16 [==============================] - 0s 1ms/step - loss: 73.9636\n",
            "Epoch 17/100\n",
            "16/16 [==============================] - 0s 999us/step - loss: 74.1928\n",
            "Epoch 18/100\n",
            "16/16 [==============================] - 0s 995us/step - loss: 73.2842\n",
            "Epoch 19/100\n",
            "16/16 [==============================] - 0s 1ms/step - loss: 73.8213\n",
            "Epoch 20/100\n",
            "16/16 [==============================] - 0s 1ms/step - loss: 72.6310\n",
            "Epoch 21/100\n",
            "16/16 [==============================] - 0s 1ms/step - loss: 71.9709\n",
            "Epoch 22/100\n",
            "16/16 [==============================] - 0s 1ms/step - loss: 72.1225\n",
            "Epoch 23/100\n",
            "16/16 [==============================] - 0s 1ms/step - loss: 71.4364\n",
            "Epoch 24/100\n",
            "16/16 [==============================] - 0s 1ms/step - loss: 71.1885\n",
            "Epoch 25/100\n",
            "16/16 [==============================] - 0s 1ms/step - loss: 70.5868\n",
            "Epoch 26/100\n",
            "16/16 [==============================] - 0s 1ms/step - loss: 70.3917\n",
            "Epoch 27/100\n",
            "16/16 [==============================] - 0s 994us/step - loss: 70.2149\n",
            "Epoch 28/100\n",
            "16/16 [==============================] - 0s 1ms/step - loss: 70.5693\n",
            "Epoch 29/100\n",
            "16/16 [==============================] - 0s 1ms/step - loss: 70.2101\n",
            "Epoch 30/100\n",
            "16/16 [==============================] - 0s 1ms/step - loss: 70.0463\n",
            "Epoch 31/100\n",
            "16/16 [==============================] - 0s 1ms/step - loss: 69.4239\n",
            "Epoch 32/100\n",
            "16/16 [==============================] - 0s 1ms/step - loss: 69.9269\n",
            "Epoch 33/100\n",
            "16/16 [==============================] - 0s 1ms/step - loss: 68.7869\n",
            "Epoch 34/100\n",
            "16/16 [==============================] - 0s 1ms/step - loss: 68.9481\n",
            "Epoch 35/100\n",
            "16/16 [==============================] - 0s 1ms/step - loss: 68.3839\n",
            "Epoch 36/100\n",
            "16/16 [==============================] - 0s 1ms/step - loss: 68.4976\n",
            "Epoch 37/100\n",
            "16/16 [==============================] - 0s 994us/step - loss: 68.5436\n",
            "Epoch 38/100\n",
            "16/16 [==============================] - 0s 999us/step - loss: 68.3599\n",
            "Epoch 39/100\n",
            "16/16 [==============================] - 0s 984us/step - loss: 68.1783\n",
            "Epoch 40/100\n",
            "16/16 [==============================] - 0s 1ms/step - loss: 67.9242\n",
            "Epoch 41/100\n",
            "16/16 [==============================] - 0s 1ms/step - loss: 68.2429\n",
            "Epoch 42/100\n",
            "16/16 [==============================] - 0s 1ms/step - loss: 66.9838\n",
            "Epoch 43/100\n",
            "16/16 [==============================] - 0s 1ms/step - loss: 66.9098\n",
            "Epoch 44/100\n",
            "16/16 [==============================] - 0s 1ms/step - loss: 67.1480\n",
            "Epoch 45/100\n",
            "16/16 [==============================] - 0s 1ms/step - loss: 66.7319\n",
            "Epoch 46/100\n",
            "16/16 [==============================] - 0s 1ms/step - loss: 67.3010\n",
            "Epoch 47/100\n",
            "16/16 [==============================] - 0s 1ms/step - loss: 66.5195\n",
            "Epoch 48/100\n",
            "16/16 [==============================] - 0s 1ms/step - loss: 66.5097\n",
            "Epoch 49/100\n",
            "16/16 [==============================] - 0s 1ms/step - loss: 66.2164\n",
            "Epoch 50/100\n",
            "16/16 [==============================] - 0s 1ms/step - loss: 66.7379\n",
            "Epoch 51/100\n",
            "16/16 [==============================] - 0s 1ms/step - loss: 66.3420\n",
            "Epoch 52/100\n",
            "16/16 [==============================] - 0s 966us/step - loss: 66.0038\n",
            "Epoch 53/100\n",
            "16/16 [==============================] - 0s 1ms/step - loss: 66.2919\n",
            "Epoch 54/100\n",
            "16/16 [==============================] - 0s 1ms/step - loss: 65.8315\n",
            "Epoch 55/100\n",
            "16/16 [==============================] - 0s 1ms/step - loss: 66.0583\n",
            "Epoch 56/100\n",
            "16/16 [==============================] - 0s 968us/step - loss: 65.7970\n",
            "Epoch 57/100\n",
            "16/16 [==============================] - 0s 1ms/step - loss: 66.3449\n",
            "Epoch 58/100\n",
            "16/16 [==============================] - 0s 1ms/step - loss: 65.8719\n",
            "Epoch 59/100\n",
            "16/16 [==============================] - 0s 1ms/step - loss: 65.6517\n",
            "Epoch 60/100\n",
            "16/16 [==============================] - 0s 1ms/step - loss: 65.7805\n",
            "Epoch 61/100\n",
            "16/16 [==============================] - 0s 1ms/step - loss: 65.4676\n",
            "Epoch 62/100\n",
            "16/16 [==============================] - 0s 982us/step - loss: 66.0876\n",
            "Epoch 63/100\n",
            "16/16 [==============================] - 0s 1ms/step - loss: 65.2718\n",
            "Epoch 64/100\n",
            "16/16 [==============================] - 0s 942us/step - loss: 65.3348\n",
            "Epoch 65/100\n",
            "16/16 [==============================] - 0s 1ms/step - loss: 65.3182\n",
            "Epoch 66/100\n",
            "16/16 [==============================] - 0s 1ms/step - loss: 65.2139\n",
            "Epoch 67/100\n",
            "16/16 [==============================] - 0s 986us/step - loss: 65.3610\n",
            "Epoch 68/100\n",
            "16/16 [==============================] - 0s 1ms/step - loss: 65.3215\n",
            "Epoch 69/100\n",
            "16/16 [==============================] - 0s 1ms/step - loss: 65.1933\n",
            "Epoch 70/100\n",
            "16/16 [==============================] - 0s 1ms/step - loss: 64.9856\n",
            "Epoch 71/100\n",
            "16/16 [==============================] - 0s 1ms/step - loss: 64.6523\n",
            "Epoch 72/100\n",
            "16/16 [==============================] - 0s 993us/step - loss: 65.2361\n",
            "Epoch 73/100\n",
            "16/16 [==============================] - 0s 991us/step - loss: 65.6642\n",
            "Epoch 74/100\n",
            "16/16 [==============================] - 0s 1ms/step - loss: 65.2818\n",
            "Epoch 75/100\n",
            "16/16 [==============================] - 0s 1ms/step - loss: 64.8845\n",
            "Epoch 76/100\n",
            "16/16 [==============================] - 0s 1ms/step - loss: 64.7215\n",
            "Epoch 77/100\n",
            "16/16 [==============================] - 0s 1ms/step - loss: 64.3054\n",
            "Epoch 78/100\n",
            "16/16 [==============================] - 0s 994us/step - loss: 64.8362\n",
            "Epoch 79/100\n",
            "16/16 [==============================] - 0s 1ms/step - loss: 64.5364\n",
            "Epoch 80/100\n",
            "16/16 [==============================] - 0s 1ms/step - loss: 65.2318\n",
            "Epoch 81/100\n",
            "16/16 [==============================] - 0s 1ms/step - loss: 64.3244\n",
            "Epoch 82/100\n",
            "16/16 [==============================] - 0s 1ms/step - loss: 64.1484\n",
            "Epoch 83/100\n",
            "16/16 [==============================] - 0s 1ms/step - loss: 64.3490\n",
            "Epoch 84/100\n",
            "16/16 [==============================] - 0s 1ms/step - loss: 64.2773\n",
            "Epoch 85/100\n",
            "16/16 [==============================] - 0s 1ms/step - loss: 64.3128\n",
            "Epoch 86/100\n",
            "16/16 [==============================] - 0s 1ms/step - loss: 64.1795\n",
            "Epoch 87/100\n",
            "16/16 [==============================] - 0s 1ms/step - loss: 63.9301\n",
            "Epoch 88/100\n",
            "16/16 [==============================] - 0s 964us/step - loss: 64.6896\n",
            "Epoch 89/100\n",
            "16/16 [==============================] - 0s 1ms/step - loss: 64.2618\n",
            "Epoch 90/100\n",
            "16/16 [==============================] - 0s 1ms/step - loss: 64.2595\n",
            "Epoch 91/100\n",
            "16/16 [==============================] - 0s 991us/step - loss: 64.6787\n",
            "Epoch 92/100\n",
            "16/16 [==============================] - 0s 1ms/step - loss: 64.5428\n",
            "Epoch 93/100\n",
            "16/16 [==============================] - 0s 1ms/step - loss: 64.0248\n",
            "Epoch 94/100\n",
            "16/16 [==============================] - 0s 1ms/step - loss: 63.7490\n",
            "Epoch 95/100\n",
            "16/16 [==============================] - 0s 939us/step - loss: 64.4589\n",
            "Epoch 96/100\n",
            "16/16 [==============================] - 0s 1ms/step - loss: 64.4455\n",
            "Epoch 97/100\n",
            "16/16 [==============================] - 0s 997us/step - loss: 64.0286\n",
            "Epoch 98/100\n",
            "16/16 [==============================] - 0s 977us/step - loss: 63.7669\n",
            "Epoch 99/100\n",
            "16/16 [==============================] - 0s 1ms/step - loss: 64.1295\n",
            "Epoch 100/100\n",
            "16/16 [==============================] - 0s 1ms/step - loss: 64.0043\n"
          ],
          "name": "stdout"
        },
        {
          "output_type": "execute_result",
          "data": {
            "text/plain": [
              "<tensorflow.python.keras.callbacks.History at 0x7f84ce5b8940>"
            ]
          },
          "metadata": {
            "tags": []
          },
          "execution_count": 12
        }
      ]
    },
    {
      "cell_type": "code",
      "metadata": {
        "id": "DEJGsRZ_rMCK",
        "colab_type": "code",
        "colab": {
          "base_uri": "https://localhost:8080/",
          "height": 187
        },
        "outputId": "03e5ba99-4f0a-477c-cd65-c14a864cada9"
      },
      "source": [
        "model.summary()"
      ],
      "execution_count": 13,
      "outputs": [
        {
          "output_type": "stream",
          "text": [
            "Model: \"sequential\"\n",
            "_________________________________________________________________\n",
            "Layer (type)                 Output Shape              Param #   \n",
            "=================================================================\n",
            "dense (Dense)                (None, 1)                 14        \n",
            "=================================================================\n",
            "Total params: 14\n",
            "Trainable params: 14\n",
            "Non-trainable params: 0\n",
            "_________________________________________________________________\n"
          ],
          "name": "stdout"
        }
      ]
    },
    {
      "cell_type": "code",
      "metadata": {
        "id": "LCZ1mwperPIy",
        "colab_type": "code",
        "colab": {
          "base_uri": "https://localhost:8080/",
          "height": 238
        },
        "outputId": "2ce56418-82b9-4b5f-9c1c-94298a063af4"
      },
      "source": [
        "model.get_weights()"
      ],
      "execution_count": 14,
      "outputs": [
        {
          "output_type": "execute_result",
          "data": {
            "text/plain": [
              "[array([[-9.0157783e-01],\n",
              "        [ 4.4180050e+00],\n",
              "        [-2.2866635e-02],\n",
              "        [ 2.0065917e-01],\n",
              "        [ 3.2642654e-01],\n",
              "        [ 8.1931585e-01],\n",
              "        [-6.5332526e-01],\n",
              "        [ 2.3040953e-01],\n",
              "        [ 1.7104359e-02],\n",
              "        [-1.1589208e+00],\n",
              "        [-5.8515999e-02],\n",
              "        [ 1.8098576e+01],\n",
              "        [-9.8769337e-01]], dtype=float32), array([11.434765], dtype=float32)]"
            ]
          },
          "metadata": {
            "tags": []
          },
          "execution_count": 14
        }
      ]
    },
    {
      "cell_type": "markdown",
      "metadata": {
        "id": "EI_nEvAerxPo",
        "colab_type": "text"
      },
      "source": [
        "# Save the model"
      ]
    },
    {
      "cell_type": "code",
      "metadata": {
        "id": "-47hsvjSrRBA",
        "colab_type": "code",
        "colab": {}
      },
      "source": [
        "model.save('boston_housing_lr.h5')"
      ],
      "execution_count": 0,
      "outputs": []
    }
  ]
}